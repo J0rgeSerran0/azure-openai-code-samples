{
 "cells": [
  {
   "cell_type": "markdown",
   "metadata": {},
   "source": [
    "### **Load Environment variables from .env file**"
   ]
  },
  {
   "cell_type": "code",
   "execution_count": 1,
   "metadata": {},
   "outputs": [],
   "source": [
    "from langchain_openai import AzureOpenAIEmbeddings\n",
    "from dotenv import load_dotenv\n",
    "import os\n",
    "from IPython.display import display, HTML, JSON, Markdown, Image\n",
    "from neo4j import GraphDatabase\n",
    "from langchain.vectorstores import FAISS\n",
    "from langchain.text_splitter import CharacterTextSplitter,RecursiveCharacterTextSplitter\n",
    "from langchain import PromptTemplate\n",
    "from langchain_core.messages import HumanMessage\n",
    "from langchain_openai import AzureOpenAIEmbeddings\n",
    "from langchain_community.document_loaders import PyPDFLoader\n",
    "from langchain.vectorstores import Neo4jVector\n",
    "from tenacity import retry, wait_random_exponential, stop_after_attempt\n",
    "from openai import AzureOpenAI\n",
    "\n",
    "# test\n",
    "import textwrap\n",
    "import pandas as pd\n",
    "\n",
    "load_dotenv()\n",
    "OPENAI_API_KEY = os.getenv(\"OPENAI_API_KEY\")\n",
    "OPENAI_DEPLOYMENT_ENDPOINT = os.getenv(\"OPENAI_DEPLOYMENT_ENDPOINT\")\n",
    "OPENAI_GPT4_32k_DEPLOYMENT_NAME = os.getenv(\"OPENAI_GPT4_32k_DEPLOYMENT_NAME\")\n",
    "OPENAI_ADA_EMBEDDING_DEPLOYMENT_NAME = os.getenv(\"OPENAI_ADA_EMBEDDING_DEPLOYMENT_NAME\")\n",
    "api_version = \"2024-02-01\"\n",
    "\n",
    "NEO4J_URI = os.getenv(\"NEO4J_URI\")\n",
    "NEO4J_USERNAME = os.getenv(\"NEO4J_USERNAME\")\n",
    "NEO4J_PASSWORD = os.getenv(\"NEO4J_PASSWORD\")\n",
    "\n",
    "# define embeddings \n",
    "embeddings = AzureOpenAIEmbeddings(\n",
    "    model=OPENAI_ADA_EMBEDDING_DEPLOYMENT_NAME,\n",
    "    azure_endpoint=OPENAI_DEPLOYMENT_ENDPOINT,\n",
    "    openai_api_version=api_version,\n",
    "    chunk_size = 1\n",
    ")\n",
    "\n",
    "# call OpenAI to get the answer\n",
    "clientOpenAI = AzureOpenAI(\n",
    "  azure_endpoint = OPENAI_DEPLOYMENT_ENDPOINT, \n",
    "  api_key=OPENAI_API_KEY,  \n",
    "  api_version=\"2023-05-15\"\n",
    ")\n"
   ]
  },
  {
   "cell_type": "code",
   "execution_count": 2,
   "metadata": {},
   "outputs": [],
   "source": [
    "def call_openAI_for_NER(question, answer):\n",
    "    prompt = 'Question: {}'.format(question) + '\\n' + 'Information: {}'.format(answer)\n",
    "    # prepare prompt\n",
    "    messages = [{\"role\": \"system\", \"content\": \"You are a HELPFUL assistant answering users questions. Answer the question using the provided information and do not add anything else.\"},\n",
    "            {\"role\": \"user\", \"content\": prompt}]\n",
    "    return call_openAI(messages)\n",
    "\n",
    "\n",
    "def call_openAI_for_final_answer(question, answer):\n",
    "    prompt = 'Question: {}'.format(question) + '\\n' + 'Information: {}'.format(answer)\n",
    "    # prepare prompt\n",
    "    messages = [{\"role\": \"system\", \"content\": \"You are a HELPFUL assistant answering users questions. Answer the question using the provided information and do not add anything else.\"},\n",
    "            {\"role\": \"user\", \"content\": prompt}]\n",
    "    return call_openAI(messages)\n",
    "\n",
    "\n",
    "\n",
    "@retry(wait=wait_random_exponential(min=1, max=20), stop=stop_after_attempt(6))\n",
    "def call_openAI(messages):\n",
    "    response = clientOpenAI.chat.completions.create(\n",
    "        model=OPENAI_GPT4_32k_DEPLOYMENT_NAME,\n",
    "        messages = messages,\n",
    "        temperature=0.7,\n",
    "        max_tokens=800,\n",
    "        top_p=0.95,\n",
    "        frequency_penalty=0,\n",
    "        presence_penalty=0,\n",
    "        stop=None\n",
    "    )\n",
    "\n",
    "    return response.choices[0].message.content\n",
    "\n",
    "#we use the tenacity library to create delays and retries when calling openAI embeddings to avoid hitting throttling limits\n",
    "@retry(wait=wait_random_exponential(min=1, max=20), stop=stop_after_attempt(6))\n",
    "def calc_embeddings(text):\n",
    "    deployment = OPENAI_ADA_EMBEDDING_DEPLOYMENT_NAME\n",
    "    # replace newlines, which can negatively affect performance.\n",
    "    txt = text.replace(\"\\n\", \" \")\n",
    "    return embeddings.embed_query(txt)\n",
    "\n",
    "def prettyprint(text: str) -> str:\n",
    "    print(textwrap.fill(text, 60))"
   ]
  },
  {
   "cell_type": "code",
   "execution_count": 3,
   "metadata": {},
   "outputs": [
    {
     "name": "stdout",
     "output_type": "stream",
     "text": [
      "['20071229X02007.pdf', '20071231X02009.pdf', '20080102X00002.pdf']\n",
      "Nodes:[Node(id='National Transportation Safety Board', type='Organization'), Node(id='Tallahassee, Fl', type='Location'), Node(id='Nyc08Ca055', type='Accident'), Node(id='12/08/2007, 1730 Est', type='Date_time'), Node(id='N5921D', type='Aircraft_registration'), Node(id='Piper Pa-22-150', type='Aircraft'), Node(id='Part 91: General Aviation - Personal', type='Flight_rules'), Node(id='Pilot', type='Person'), Node(id='1,500-Foot-Long Turf Strip', type='Airstrip'), Node(id='2,319 Hours', type='Flight_experience'), Node(id='17 Hours', type='Recent_flight_experience'), Node(id='Obstacles', type='Object')]\n",
      "Relationships:[Relationship(source=Node(id='National Transportation Safety Board', type='Organization'), target=Node(id='Nyc08Ca055', type='Accident'), type='INVESTIGATED'), Relationship(source=Node(id='Nyc08Ca055', type='Accident'), target=Node(id='Tallahassee, Fl', type='Location'), type='OCCURRED_IN'), Relationship(source=Node(id='Nyc08Ca055', type='Accident'), target=Node(id='12/08/2007, 1730 Est', type='Date_time'), type='OCCURRED_AT'), Relationship(source=Node(id='Nyc08Ca055', type='Accident'), target=Node(id='N5921D', type='Aircraft_registration'), type='INVOLVED'), Relationship(source=Node(id='N5921D', type='Aircraft_registration'), target=Node(id='Piper Pa-22-150', type='Aircraft'), type='BELONGS_TO'), Relationship(source=Node(id='Pilot', type='Person'), target=Node(id='2,319 Hours', type='Flight_experience'), type='HAS'), Relationship(source=Node(id='Pilot', type='Person'), target=Node(id='17 Hours', type='Recent_flight_experience'), type='HAS'), Relationship(source=Node(id='Pilot', type='Person'), target=Node(id='Obstacles', type='Object'), type='MISJUDGED')]\n",
      "Nodes:[Node(id='National Transportation Safety Board', type='Organization'), Node(id='Aviation Accident Final Report', type='Document'), Node(id='Death Valley, Ca', type='Location'), Node(id='Sea08Ca049', type='Accident_number'), Node(id='11/29/2007, 0830 Pst', type='Datetime'), Node(id='N8770M', type='Registration'), Node(id='Beech A23', type='Aircraft'), Node(id='Substantial', type='Aircraft_damage'), Node(id='Part 91: General Aviation - Personal', type='Flight_conduct'), Node(id='Pilot', type='Person'), Node(id='Engine Mount And Firewall', type='Aircraft_parts'), Node(id='Improper Flare During Landing', type='Accident_cause'), Node(id='Hard Landing', type='Occurrence'), Node(id='Landing - Flare/Touchdown', type='Operation_phase'), Node(id='Nose Down', type='Occurrence'), Node(id='Landing - Roll', type='Operation_phase'), Node(id='Terrain Condition - Runway', type='Finding')]\n",
      "Relationships:[Relationship(source=Node(id='National Transportation Safety Board', type='Organization'), target=Node(id='Aviation Accident Final Report', type='Document'), type='PUBLISHED'), Relationship(source=Node(id='Aviation Accident Final Report', type='Document'), target=Node(id='Sea08Ca049', type='Accident_number'), type='PERTAINS_TO'), Relationship(source=Node(id='Sea08Ca049', type='Accident_number'), target=Node(id='Death Valley, Ca', type='Location'), type='OCCURRED_IN'), Relationship(source=Node(id='Sea08Ca049', type='Accident_number'), target=Node(id='11/29/2007, 0830 Pst', type='Datetime'), type='OCCURRED_ON'), Relationship(source=Node(id='Sea08Ca049', type='Accident_number'), target=Node(id='N8770M', type='Registration'), type='INVOLVES'), Relationship(source=Node(id='N8770M', type='Registration'), target=Node(id='Beech A23', type='Aircraft'), type='IDENTIFIES'), Relationship(source=Node(id='Beech A23', type='Aircraft'), target=Node(id='Substantial', type='Aircraft_damage'), type='SUSTAINED'), Relationship(source=Node(id='N8770M', type='Registration'), target=Node(id='Part 91: General Aviation - Personal', type='Flight_conduct'), type='OPERATED_UNDER'), Relationship(source=Node(id='Pilot', type='Person'), target=Node(id='Improper Flare During Landing', type='Accident_cause'), type='CAUSED'), Relationship(source=Node(id='Beech A23', type='Aircraft'), target=Node(id='Engine Mount And Firewall', type='Aircraft_parts'), type='HAS'), Relationship(source=Node(id='Improper Flare During Landing', type='Accident_cause'), target=Node(id='Hard Landing', type='Occurrence'), type='RESULTED_IN'), Relationship(source=Node(id='Hard Landing', type='Occurrence'), target=Node(id='Landing - Flare/Touchdown', type='Operation_phase'), type='OCCURRED_DURING'), Relationship(source=Node(id='Nose Down', type='Occurrence'), target=Node(id='Landing - Roll', type='Operation_phase'), type='OCCURRED_DURING'), Relationship(source=Node(id='Landing - Roll', type='Operation_phase'), target=Node(id='Terrain Condition - Runway', type='Finding'), type='INVOLVED')]\n",
      "Nodes:[Node(id='National Transportation Safety Board', type='Organization'), Node(id='Chevroux, France', type='Location'), Node(id='Den08Wa042', type='Accident'), Node(id='12/17/2007, 1045 Utc', type='Time'), Node(id='Reims F172 M', type='Aircraft'), Node(id='Airclub Besancon La Veze', type='Organization'), Node(id='Accident Pilot', type='Person'), Node(id='Chalon (Lflh)', type='Location'), Node(id='Bourg (Lfhs), France', type='Location'), Node(id='French Investigators', type='Profession'), Node(id='Accident Investigation', type='Event'), Node(id='French Government', type='Organization'), Node(id='French Aircraft Accident Investigation Bureau', type='Organization'), Node(id=\"Bureau D'Enquêtes Et D'Analyses\", type='Organization'), Node(id='Aêroport Du Bourget', type='Location')]\n",
      "Relationships:[Relationship(source=Node(id='Den08Wa042', type='Accident'), target=Node(id='Chevroux, France', type='Location'), type='OCCURRED_IN'), Relationship(source=Node(id='Den08Wa042', type='Accident'), target=Node(id='12/17/2007, 1045 Utc', type='Time'), type='OCCURRED_AT'), Relationship(source=Node(id='Den08Wa042', type='Accident'), target=Node(id='Reims F172 M', type='Aircraft'), type='INVOLVED'), Relationship(source=Node(id='Reims F172 M', type='Aircraft'), target=Node(id='Airclub Besancon La Veze', type='Organization'), type='OWNED_BY'), Relationship(source=Node(id='Reims F172 M', type='Aircraft'), target=Node(id='Accident Pilot', type='Person'), type='PILOTED_BY'), Relationship(source=Node(id='Accident Pilot', type='Person'), target=Node(id='Chalon (Lflh)', type='Location'), type='ORIGINATED_FROM'), Relationship(source=Node(id='Accident Pilot', type='Person'), target=Node(id='Bourg (Lfhs), France', type='Location'), type='EN_ROUTE_TO'), Relationship(source=Node(id='Accident Investigation', type='Event'), target=Node(id='French Government', type='Organization'), type='UNDER_JURISDICTION_OF'), Relationship(source=Node(id='Accident Investigation', type='Event'), target=Node(id='French Aircraft Accident Investigation Bureau', type='Organization'), type='INFORMATION_OBTAINED_FROM'), Relationship(source=Node(id='French Aircraft Accident Investigation Bureau', type='Organization'), target=Node(id=\"Bureau D'Enquêtes Et D'Analyses\", type='Organization'), type='EQUIVALENT_TO'), Relationship(source=Node(id=\"Bureau D'Enquêtes Et D'Analyses\", type='Organization'), target=Node(id='Aêroport Du Bourget', type='Location'), type='LOCATED_AT')]\n"
     ]
    }
   ],
   "source": [
    "# splitting into 1000 char long chunks with 30 char overlap\n",
    "# split [\"\\n\\n\", \"\\n\", \" \", \"\"]\n",
    "import uuid\n",
    "\n",
    "splitter = RecursiveCharacterTextSplitter(\n",
    "    chunk_size=5000,\n",
    "    chunk_overlap=100,\n",
    ")\n",
    "\n",
    "pdf_folder_path = \"./data/test/\"\n",
    "print(os.listdir(pdf_folder_path))\n",
    "\n",
    "for file in os.listdir(pdf_folder_path):\n",
    "    if file.endswith('.pdf'):\n",
    "        # generate a unique guid for the document\n",
    "        pdf_path = os.path.join(pdf_folder_path, file)\n",
    "        loader = PyPDFLoader(pdf_path)\n",
    "        # chunk the files\n",
    "        pages = loader.load_and_split(text_splitter=splitter)\n",
    "        graph_documents = llm_transformer.convert_to_graph_documents(pages)\n",
    "        graph.add_graph_documents(graph_documents,baseEntityLabel=True,include_source=True)\n",
    "        print(f\"Nodes:{graph_documents[0].nodes}\")\n",
    "        print(f\"Relationships:{graph_documents[0].relationships}\")\n",
    "\n"
   ]
  },
  {
   "cell_type": "code",
   "execution_count": 6,
   "metadata": {},
   "outputs": [],
   "source": [
    "vector_index = Neo4jVector.from_existing_graph(\n",
    "    embeddings,\n",
    "    search_type=\"hybrid\",\n",
    "    node_label=\"Document\",\n",
    "    text_node_properties=[\"text\"],\n",
    "    embedding_node_property=\"embedding\",\n",
    "    url=url, \n",
    "    username=NEO4J_USERNAME, \n",
    "    password=NEO4J_PASSWORD\n",
    ")"
   ]
  },
  {
   "cell_type": "code",
   "execution_count": 11,
   "metadata": {},
   "outputs": [
    {
     "name": "stdout",
     "output_type": "stream",
     "text": [
      "\n",
      "\n",
      "\u001b[1m> Entering new GraphCypherQAChain chain...\u001b[0m\n",
      "Generated Cypher:\n",
      "\u001b[32;1m\u001b[1;3mMATCH (a:Accident)-[:OCCURRED_IN]->(l:Location) WHERE l.id = \"France\" RETURN COUNT(a)\u001b[0m\n",
      "Full Context:\n",
      "\u001b[32;1m\u001b[1;3m[{'COUNT(a)': 0}]\u001b[0m\n",
      "\n",
      "\u001b[1m> Finished chain.\u001b[0m\n"
     ]
    },
    {
     "data": {
      "text/plain": [
       "{'query': 'How many aviation accidents occured in France?',\n",
       " 'result': 'There were no aviation accidents recorded in France.'}"
      ]
     },
     "execution_count": 11,
     "metadata": {},
     "output_type": "execute_result"
    }
   ],
   "source": [
    "from langchain.chains import GraphCypherQAChain\n",
    "\n",
    "query = \"How many aviation accidents occured in France?\"\n",
    "\n",
    "chain = GraphCypherQAChain.from_llm(graph=graph, llm=llm, verbose=True, top_k=2)\n",
    "response = chain.invoke({\"query\": query})\n",
    "response"
   ]
  }
 ],
 "metadata": {
  "kernelspec": {
   "display_name": ".venv",
   "language": "python",
   "name": "python3"
  },
  "language_info": {
   "codemirror_mode": {
    "name": "ipython",
    "version": 3
   },
   "file_extension": ".py",
   "mimetype": "text/x-python",
   "name": "python",
   "nbconvert_exporter": "python",
   "pygments_lexer": "ipython3",
   "version": "3.10.11"
  },
  "orig_nbformat": 4
 },
 "nbformat": 4,
 "nbformat_minor": 2
}
