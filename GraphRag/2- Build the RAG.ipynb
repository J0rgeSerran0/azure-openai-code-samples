{
 "cells": [
  {
   "cell_type": "markdown",
   "metadata": {},
   "source": [
    "### **Load Environment variables from .env file**"
   ]
  },
  {
   "cell_type": "code",
   "execution_count": 1,
   "metadata": {},
   "outputs": [],
   "source": [
    "from langchain_openai import AzureChatOpenAI\n",
    "from langchain_openai import AzureOpenAIEmbeddings\n",
    "from dotenv import load_dotenv\n",
    "import os\n",
    "from IPython.display import display, HTML, JSON, Markdown, Image\n",
    "from neo4j import GraphDatabase\n",
    "from langchain.vectorstores import FAISS\n",
    "from langchain.text_splitter import TokenTextSplitter\n",
    "from langchain.document_loaders import WikipediaLoader\n",
    "from langchain.chains import RetrievalQA\n",
    "\n",
    "load_dotenv()\n",
    "OPENAI_API_KEY = os.getenv(\"OPENAI_API_KEY\")\n",
    "OPENAI_DEPLOYMENT_ENDPOINT = os.getenv(\"OPENAI_DEPLOYMENT_ENDPOINT\")\n",
    "OPENAI_GPT4_DEPLOYMENT_NAME = os.getenv(\"OPENAI_GPT4_DEPLOYMENT_NAME\")\n",
    "OPENAI_ADA_EMBEDDING_DEPLOYMENT_NAME = os.getenv(\"OPENAI_ADA_EMBEDDING_DEPLOYMENT_NAME\")\n",
    "api_version = \"2024-02-01\"\n",
    "\n",
    "NEO4J_URI = os.getenv(\"NEO4J_URI\")\n",
    "NEO4J_USERNAME = os.getenv(\"NEO4J_USERNAME\")\n",
    "NEO4J_PASSWORD = os.getenv(\"NEO4J_PASSWORD\")\n",
    "\n",
    "llm = AzureChatOpenAI(\n",
    "    model=OPENAI_GPT4_DEPLOYMENT_NAME,\n",
    "    azure_deployment=OPENAI_GPT4_DEPLOYMENT_NAME,\n",
    "    api_key=OPENAI_API_KEY,\n",
    "    azure_endpoint=OPENAI_DEPLOYMENT_ENDPOINT,\n",
    "    openai_api_version=api_version,\n",
    ")\n"
   ]
  },
  {
   "cell_type": "code",
   "execution_count": 2,
   "metadata": {},
   "outputs": [],
   "source": [
    "def call_openAI(text):\n",
    "    response = llm.chat.completions.create(\n",
    "        model=OPENAI_GPT4_DEPLOYMENT_NAME,\n",
    "        messages = text,\n",
    "        temperature=0.0\n",
    "    )\n",
    "    return response.choices[0].message.content"
   ]
  },
  {
   "cell_type": "code",
   "execution_count": 3,
   "metadata": {},
   "outputs": [
    {
     "data": {
      "text/plain": [
       "[Document(metadata={'title': 'Harry Potter', 'summary': \"Harry Potter is a series of seven fantasy novels written by British author J. K. Rowling. The novels chronicle the lives of a young wizard, Harry Potter, and his friends, Hermione Granger and Ron Weasley, all of whom are students at Hogwarts School of Witchcraft and Wizardry. The main story arc concerns Harry's conflict with Lord Voldemort, a dark wizard who intends to become immortal, overthrow the wizard governing body known as the Ministry of Magic, and subjugate all wizards and Muggles (non-magical people).\\nThe series was originally published in English by Bloomsbury in the United Kingdom and Scholastic Press in the United States.  A series of many genres, including fantasy, drama, coming-of-age fiction, and the British school story (which includes elements of mystery, thriller, adventure, horror, and romance), the world of Harry Potter explores numerous themes and includes many cultural meanings and references. Major themes in the series include prejudice, corruption, madness, and death.\\nSince the release of the first novel, Harry Potter and the Philosopher's Stone, on 26 June 1997, the books have found immense popularity, positive reviews, and commercial success worldwide. They have attracted a wide adult audience as well as younger readers and are widely considered cornerstones of modern literature. As of February 2023, the books have sold more than 600 million copies worldwide, making them the best-selling book series in history, and have been available in 85 languages. The last four books consecutively set records as the fastest-selling books in history, with the final instalment selling roughly 2.7 million copies in the United Kingdom and 8.3 million copies in the United States within twenty-four hours of its release.\\nWarner Bros. Pictures adapted the original seven books into an eight-part namesake film series. In 2016, the total value of the Harry Potter franchise was estimated at $25 billion, making it one of the highest-grossing media franchises of all time. Harry Potter and the Cursed Child is a play based on a story co-written by Rowling.\\nThe success of the books and films has allowed the Harry Potter franchise to expand with numerous derivative works, a travelling exhibition that premiered in Chicago in 2009, a studio tour in London that opened in 2012, a digital platform on which J. K. Rowling updates the series with new information and insight, and a trilogy of spin-off films premiering in November 2016 with Fantastic Beasts and Where to Find Them, among many other developments. Themed attractions, collectively known as The Wizarding World of Harry Potter, have been built at several Universal Destinations & Experiences amusement parks around the world.\", 'source': 'https://en.wikipedia.org/wiki/Harry_Potter'}, page_content=\"Harry Potter is a series of seven fantasy novels written by British author J. K. Rowling. The novels chronicle the lives of a young wizard, Harry Potter, and his friends, Hermione Granger and Ron Weasley, all of whom are students at Hogwarts School of Witchcraft and Wizardry. The main story arc concerns Harry's conflict with Lord Voldemort, a dark wizard who intends to become immortal, overthrow the wizard governing body known as the Ministry of Magic, and subjugate all wizards and Muggles (non-magical people).\\nThe series was originally published in English by Bloomsbury in the United Kingdom and Scholastic Press in the United States.  A series of many genres, including fantasy, drama, coming-of-age fiction, and the British school story (which includes elements of mystery, thriller, adventure, horror, and romance), the world of Harry Potter explores numerous themes and includes many cultural meanings and references. Major themes in the series include prejudice, corruption, madness, and death.\\nSince the release of the first novel, Harry Potter and the Philosopher's Stone, on 26 June 1997, the books have found immense popularity, positive reviews, and commercial success worldwide. They have attracted a wide adult audience as well as younger readers and are widely considered cornerstones of modern literature. As of February 2023, the books have sold more than 600 million copies worldwide, making them the best-selling book series in history, and have been available in 85 languages. The last four books consecutively set records as the fastest-selling books in history, with the final instalment selling roughly 2.7 million copies in the United Kingdom and 8.3 million copies in the United States within twenty-four hours of its release.\\nWarner Bros. Pictures adapted the original seven books into an eight-part namesake film series. In 2016, the total value of the Harry Potter franchise was estimated at $25 billion, making it one of the highest-grossing media franchises of all time. Harry Potter and the Cursed Child is a play based on a story co-written by Rowling.\\nThe success of the books and films has allowed the Harry Potter franchise to expand with numerous derivative works, a travelling exhibition that premiered in Chicago in 2009, a studio tour in London that opened in 2012, a digital platform on which J. K. Rowling updates the series with new information and insight, and a trilogy of spin-off films premiering in November 2016 with Fantastic Beasts and Where to Find Them, among many other developments. Themed attractions, collectively known as The Wizarding World of Harry Potter, have been built at several Universal Destinations & Experiences amusement parks around the world.\\n\\n\\n== Plot ==\\n\\n\\n=== Early years ===\\n\\nThe series follows the life of a boy named Harry Potter. In the first book, Harry Potter and the Philosopher's Stone, Harry lives in a cupboard under the stairs in the house of the Dursleys, his aunt, uncle and cousin, who all treat him poorly. At the age of 11, Harry discovers that he is a wizard. He meets a half-giant named Hagrid who gives him a letter of acceptance to attend the Hogwarts School of Witchcraft and Wizardry. Harry learns that his parents, Lily and James Potter, also had magical powers, and were murdered by the dark wizard Lord Voldemort when Harry was a baby. When Voldemort attempted to kill Harry, his curse rebounded, seemingly killing Voldemort, and Harry survived with a lightning-shaped scar on his forehead. The event made Harry famous among the community of wizards and witches.\\nHarry becomes a student at Hogwarts and is sorted into Gryffindor House. He gains the friendship of Ron Weasley, a member of a large but poor wizarding family, and Hermione Granger, a witch of non-magical, or Muggle, parentage. The trio develop an enmity with the rich pure-blood student Draco Malfoy. Harry encounters the school's headmaster, Albus Dumbledore; the potions professor, Severus Snape, who displays a dislike for him; a\"),\n",
       " Document(metadata={'title': 'Harry Potter (film series)', 'summary': \"Harry Potter is a film series based on the eponymous novels by British author J. K. Rowling. The series is produced and distributed by Warner Bros. Pictures and consists of eight fantasy films, beginning with Harry Potter and the Philosopher's Stone (2001) and culminating with Harry Potter and the Deathly Hallows – Part 2 (2011). A spin-off prequel series started with Fantastic Beasts and Where to Find Them (2016), marking the beginning of the Wizarding World shared media franchise.\\nThe series was mainly produced by David Heyman, and stars Daniel Radcliffe, Rupert Grint, and Emma Watson as the three leading characters: Harry Potter, Ron Weasley, and Hermione Granger. Four directors worked on the series: Chris Columbus, Alfonso Cuarón, Mike Newell, and David Yates. Michael Goldenberg wrote the screenplay for Harry Potter and the Order of the Phoenix (2007), while the remaining films' screenplays were written by Steve Kloves. Production took place over ten years, with the main story arc following Harry's quest to overcome his arch-enemy Lord Voldemort.\\nHarry Potter and the Deathly Hallows, the seventh and final novel in the series, was adapted into two feature-length parts. Part 1 was released in November 2010, and Part 2 was released in July 2011.\\nDeathly Hallows – Part 2 is among the 50 highest-grossing films of all time—at 18th-highest, grossing over $1 billion. It is the fourth-highest-grossing film series, with $7.7 billion in worldwide receipts.\\n\\n\", 'source': 'https://en.wikipedia.org/wiki/Harry_Potter_(film_series)'}, page_content='Harry Potter is a film series based on the eponymous novels by British author J. K. Rowling. The series is produced and distributed by Warner Bros. Pictures and consists of eight fantasy films, beginning with Harry Potter and the Philosopher\\'s Stone (2001) and culminating with Harry Potter and the Deathly Hallows – Part 2 (2011). A spin-off prequel series started with Fantastic Beasts and Where to Find Them (2016), marking the beginning of the Wizarding World shared media franchise.\\nThe series was mainly produced by David Heyman, and stars Daniel Radcliffe, Rupert Grint, and Emma Watson as the three leading characters: Harry Potter, Ron Weasley, and Hermione Granger. Four directors worked on the series: Chris Columbus, Alfonso Cuarón, Mike Newell, and David Yates. Michael Goldenberg wrote the screenplay for Harry Potter and the Order of the Phoenix (2007), while the remaining films\\' screenplays were written by Steve Kloves. Production took place over ten years, with the main story arc following Harry\\'s quest to overcome his arch-enemy Lord Voldemort.\\nHarry Potter and the Deathly Hallows, the seventh and final novel in the series, was adapted into two feature-length parts. Part 1 was released in November 2010, and Part 2 was released in July 2011.\\nDeathly Hallows – Part 2 is among the 50 highest-grossing films of all time—at 18th-highest, grossing over $1 billion. It is the fourth-highest-grossing film series, with $7.7 billion in worldwide receipts.\\n\\n\\n== Origins ==\\nIn late 1997, film producer David Heyman\\'s London offices received a copy of the first book in what would become Rowling\\'s series of seven Harry Potter novels. The book, Harry Potter and the Philosopher\\'s Stone, was relegated to a low-priority bookshelf, where it was discovered by a secretary who read it and gave it to Heyman with a positive review. Consequently, Heyman, who had originally disliked \"the rubbish title\", read the book himself. Highly impressed by Rowling\\'s work, he began the process that led to one of the most successful cinematic franchises of all time.\\nHeyman\\'s enthusiasm led to Rowling\\'s 1999 sale of the film rights for the first four Harry Potter books to Warner Bros. for a reported £1 million (US$2,000,000). A demand Rowling made was that the principal cast be kept strictly British and Irish wherever possible, such as Richard Harris as Dumbledore, allowing nonetheless for casting of French and Eastern European actors in Harry Potter and the Goblet of Fire where characters from the book are specified as such. Rowling was hesitant to sell the rights because she \"didn\\'t want to give them control over the rest of the story\" by selling the rights to the characters, which would have enabled Warner Bros. to make non-author-written sequels.\\nAlthough Steven Spielberg initially negotiated to direct the first film, he declined the offer. Spielberg contended that, in his opinion, there was every expectation of profit in making the film. He claims that making money would have been like \"shooting ducks in a barrel. It\\'s just a slam dunk. It\\'s just like withdrawing a billion dollars and putting it into your personal bank accounts. There\\'s no challenge.\" In the \"Rubbish Bin\" section of her website, Rowling maintains that she had no role in choosing directors for the films, writing \"Anyone who thinks I could (or would) have \\'veto-ed\\' him [Spielberg] needs their Quick-Quotes Quill serviced.\"\\nAfter Spielberg left, conversations began with other directors, including Chris Columbus, Jonathan Demme, Terry Gilliam, Mike Newell, Alan Parker, Wolfgang Petersen, Rob Reiner, Tim Robbins, Brad Silberling, and Peter Weir. Petersen and Reiner both pulled out of the running in March 2000. It was then narrowed down to Columbus, Gilliam, Parker, and Silberling. Rowling\\'s first choice was Gilliam. However, on 28 March 2000 Columbus was appointed as director of the film, with Warner Bros. citing his work on other family films such as Home Alone and Mrs. Doubtfire as influences for'),\n",
       " Document(metadata={'title': \"Harry Potter and the Philosopher's Stone\", 'summary': \"Harry Potter and the Philosopher's Stone is a fantasy novel written by British author J. K. Rowling. The first novel in the Harry Potter series and Rowling's debut novel follows Harry Potter, a young wizard who discovers his magical heritage on his eleventh birthday when he receives a letter of acceptance to Hogwarts School of Witchcraft and Wizardry. Harry makes close friends and a few enemies during his first year at the school. With the help of his friends, Ron Weasley and Hermione Granger, he faces an attempted comeback by the dark wizard Lord Voldemort, who killed Harry's parents but failed to kill Harry when he was just 15 months old.\\nThe book was first published in the United Kingdom on 26 June 1997 by Bloomsbury. It was published in the United States the following year by Scholastic Corporation under the title Harry Potter and the Sorcerer's Stone. It won most of the British book awards that were judged by children and other awards in the US. The book reached the top of the New York Times list of best-selling fiction in August 1999, and stayed near the top of that list for much of 1999 and 2000. It has been translated into at least 73 other languages and made into a feature-length film of the same name, as have all six of its sequels. The novel has sold in excess of 120 million copies, making it the fourth best-selling book of all time.\\nMost reviews were very favourable, commenting on Rowling's imagination, humour, simple, direct style and clever plot construction, although a few complained that the final chapters seemed rushed. The writing has been compared to that of Jane Austen, one of Rowling's favourite authors; Roald Dahl, whose works dominated children's stories before the appearance of Harry Potter; and the ancient Greek story-teller Homer. While some commentators thought the book looked backward to Victorian and Edwardian boarding school stories, others thought it placed the genre firmly in the modern world by featuring contemporary ethical and social issues, as well as showing overcoming obstacles like bullying.\\nThe Harry Potter series has been used as a source of object lessons in educational techniques, sociological analysis, and marketing.\\n\\n\", 'source': 'https://en.wikipedia.org/wiki/Harry_Potter_and_the_Philosopher%27s_Stone'}, page_content='Harry Potter and the Philosopher\\'s Stone is a fantasy novel written by British author J. K. Rowling. The first novel in the Harry Potter series and Rowling\\'s debut novel follows Harry Potter, a young wizard who discovers his magical heritage on his eleventh birthday when he receives a letter of acceptance to Hogwarts School of Witchcraft and Wizardry. Harry makes close friends and a few enemies during his first year at the school. With the help of his friends, Ron Weasley and Hermione Granger, he faces an attempted comeback by the dark wizard Lord Voldemort, who killed Harry\\'s parents but failed to kill Harry when he was just 15 months old.\\nThe book was first published in the United Kingdom on 26 June 1997 by Bloomsbury. It was published in the United States the following year by Scholastic Corporation under the title Harry Potter and the Sorcerer\\'s Stone. It won most of the British book awards that were judged by children and other awards in the US. The book reached the top of the New York Times list of best-selling fiction in August 1999, and stayed near the top of that list for much of 1999 and 2000. It has been translated into at least 73 other languages and made into a feature-length film of the same name, as have all six of its sequels. The novel has sold in excess of 120 million copies, making it the fourth best-selling book of all time.\\nMost reviews were very favourable, commenting on Rowling\\'s imagination, humour, simple, direct style and clever plot construction, although a few complained that the final chapters seemed rushed. The writing has been compared to that of Jane Austen, one of Rowling\\'s favourite authors; Roald Dahl, whose works dominated children\\'s stories before the appearance of Harry Potter; and the ancient Greek story-teller Homer. While some commentators thought the book looked backward to Victorian and Edwardian boarding school stories, others thought it placed the genre firmly in the modern world by featuring contemporary ethical and social issues, as well as showing overcoming obstacles like bullying.\\nThe Harry Potter series has been used as a source of object lessons in educational techniques, sociological analysis, and marketing.\\n\\n\\n== Plot ==\\nHarry Potter lives with his neglectful uncle and aunt, Vernon and Petunia Dursley, and their bullying son, Dudley. On Harry\\'s eleventh birthday, Rubeus Hagrid, a half-giant, delivers an acceptance letter from Hogwarts School of Witchcraft and Wizardry, revealing that Harry\\'s parents, James and Lily Potter, were wizards. When Harry was just a year old, a powerful but malevolent dark wizard named Lord Voldemort murdered his parents; Harry survived Voldemort\\'s killing curse that rebounded and seemingly destroyed the Dark Lord, leaving a lightning bolt-shaped scar on Harry\\'s forehead. Unknown to Harry, this act made him famous in the wizarding world.\\nHagrid escorts Harry to Diagon Alley, the hidden wizard commerce and retail section in London. Harry\\'s parents have left him a fortune kept in Gringotts Wizarding Bank, which he uses to buy school supplies and a wand from Ollivander\\'s. The cores of Harry and Lord Voldemort\\'s wands have feathers from the same phoenix bird, making them \"brothers\". Hagrid gifts Harry an owl, whom he names as Hedwig, as a birthday present. A month later, Harry boards the Hogwarts Express at King\\'s Cross railway station\\'s secret Platform 9+3⁄4. En route to Hogwarts, Harry befriends fellow first year Ron Weasley and meets Hermione Granger, whom the two boys initially dislike.\\nHarry runs afoul of Draco Malfoy, the spoiled son of a prominent wizard. At Hogwarts, a magical Sorting Hat sorts the first years among four school Houses (Gryffindor, Hufflepuff, Ravenclaw, and Slytherin) that best suit their personalities and talents. Draco joins Slytherin, known for producing dark wizards, while Harry, Ron, and Hermione are sorted into Gryffindor.\\nHarry\\'s broomstick flying ability earns him a place on the Gryffindor Quidditch team as the Seeker. H')]"
      ]
     },
     "execution_count": 3,
     "metadata": {},
     "output_type": "execute_result"
    }
   ],
   "source": [
    "# download the wikipedia pages for \"Harry Potter\"\n",
    "\n",
    "raw_documents = WikipediaLoader(query=\"Harry Potter\").load()\n",
    "raw_documents[:3]"
   ]
  },
  {
   "cell_type": "code",
   "execution_count": 5,
   "metadata": {},
   "outputs": [],
   "source": [
    "# split the documents into chunks\n",
    "\n",
    "text_splitter = TokenTextSplitter(chunk_size=1024, chunk_overlap=24)\n",
    "documents = text_splitter.split_documents(raw_documents[:3])"
   ]
  },
  {
   "cell_type": "code",
   "execution_count": 6,
   "metadata": {},
   "outputs": [],
   "source": [
    "# define embeddings \n",
    "embeddings = AzureOpenAIEmbeddings(\n",
    "    model=OPENAI_ADA_EMBEDDING_DEPLOYMENT_NAME,\n",
    "    azure_endpoint=OPENAI_DEPLOYMENT_ENDPOINT,\n",
    "    openai_api_version=api_version,\n",
    "    chunk_size = 1\n",
    ")"
   ]
  },
  {
   "cell_type": "code",
   "execution_count": 7,
   "metadata": {},
   "outputs": [],
   "source": [
    "#load the documents into Faiss - an in memory vector database\n",
    "\n",
    "db = FAISS.from_documents(documents=documents, embedding=embeddings)\n",
    "# save the FAISS index to disk\n",
    "db.save_local(\"./dbs/documentation/faiss_index\")"
   ]
  },
  {
   "cell_type": "code",
   "execution_count": 8,
   "metadata": {},
   "outputs": [],
   "source": [
    "# load the vector store to memory\n",
    "\n",
    "vectorStore = FAISS.load_local(\"./dbs/documentation/faiss_index\", embeddings, allow_dangerous_deserialization=True)\n",
    "retriever = vectorStore.as_retriever(search_type=\"similarity\", search_kwargs={\"k\": 3})  # returns 3 most similar vectors/documents\n",
    "qa = RetrievalQA.from_chain_type(llm=llm, chain_type=\"stuff\", retriever=retriever, return_source_documents=True)"
   ]
  },
  {
   "cell_type": "code",
   "execution_count": 9,
   "metadata": {},
   "outputs": [
    {
     "data": {
      "text/html": [
       "Harry Potter was born to James and Lily Potter, who were both members of the wizarding community. James Potter was a pure-blood wizard, and Lily Potter was a Muggle-born witch, meaning she was born to non-magical parents. Harry's parents loved him dearly, but they were murdered by the dark wizard Lord Voldemort when Harry was just a year old.\n",
       "\n",
       "After the death of his parents, Harry was sent to live with his only remaining blood relatives, the Dursleys, who are non-magical people (Muggles). The Dursley family consists of his Aunt Petunia, Uncle Vernon, and their son Dudley. The relationship between Harry and the Dursleys is strained; they are neglectful and cruel to him, forcing him to live in a cupboard under the stairs and treating him as an unwanted burden.\n",
       "\n",
       "Harry's life changes dramatically on his eleventh birthday when he learns of his wizarding heritage and that he is famous in the wizarding world for surviving an attack by Voldemort that left him with a distinctive lightning-shaped scar on his forehead.\n",
       "\n",
       "At Hogwarts School of Witchcraft and Wizardry, Harry forms deep friendships and becomes part of a makeshift family. His closest friends are Ron Weasley and Hermione Granger. Ron comes from a large, loving, but financially poor wizarding family, and Hermione is an intelligent and hardworking witch with Muggle parents. Together, they face various challenges and form a strong bond that is more like family than friendship.\n",
       "\n",
       "Throughout the series, Harry also develops a strong relationship with Hogwarts' headmaster, Albus Dumbledore, who becomes a mentor and father figure to him. He also has complex relationships with other characters, such as his godfather, Sirius Black, who is revealed to be innocent after being imprisoned for a crime he did not commit. Sirius provides Harry with a link to his parents and a sense of family, albeit briefly.\n",
       "\n",
       "Harry has a contentious relationship with Severus Snape, who harbors a deep-seated dislike for Harry, partly due to Snape's history with Harry's father, James. Despite this, Snape plays a crucial role in protecting Harry and is revealed to have acted out of love for Harry's mother, Lily.\n",
       "\n",
       "Other important relationships include those with his fellow Gryffindor housemates, members of the Order of the Phoenix (a group formed by Dumbledore to fight Voldemort), and various teachers and magical creatures he encounters throughout his journey. Harry's capacity for empathy, love, and building relationships is a key theme in the series and plays a vital role in his ultimate success against Voldemort."
      ],
      "text/plain": [
       "<IPython.core.display.HTML object>"
      ]
     },
     "metadata": {},
     "output_type": "display_data"
    }
   ],
   "source": [
    "# ask a question\n",
    "question = \"Describe the family and relationships of Harry Potter\"\n",
    "r = qa.invoke({\"query\": question})\n",
    "\n",
    "display(HTML(r['result']))"
   ]
  }
 ],
 "metadata": {
  "kernelspec": {
   "display_name": ".venv",
   "language": "python",
   "name": "python3"
  },
  "language_info": {
   "codemirror_mode": {
    "name": "ipython",
    "version": 3
   },
   "file_extension": ".py",
   "mimetype": "text/x-python",
   "name": "python",
   "nbconvert_exporter": "python",
   "pygments_lexer": "ipython3",
   "version": "3.10.11"
  },
  "orig_nbformat": 4
 },
 "nbformat": 4,
 "nbformat_minor": 2
}
