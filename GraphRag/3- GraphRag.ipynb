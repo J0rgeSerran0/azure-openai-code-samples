{
 "cells": [
  {
   "cell_type": "markdown",
   "metadata": {},
   "source": [
    "### **Load Environment variables from .env file**"
   ]
  },
  {
   "cell_type": "code",
   "execution_count": 1,
   "metadata": {},
   "outputs": [],
   "source": [
    "from langchain_openai import AzureChatOpenAI\n",
    "from langchain_openai import AzureOpenAIEmbeddings\n",
    "from dotenv import load_dotenv\n",
    "import os\n",
    "from IPython.display import display, HTML, JSON, Markdown, Image\n",
    "from neo4j import GraphDatabase\n",
    "from langchain.vectorstores import FAISS\n",
    "from langchain.text_splitter import TokenTextSplitter\n",
    "from langchain.document_loaders import WikipediaLoader\n",
    "from langchain.chains import GraphCypherQAChain\n",
    "from langchain_community.graphs import Neo4jGraph\n",
    "from langchain.prompts.prompt import PromptTemplate\n",
    "from langchain.schema.runnable import Runnable\n",
    "from langchain_openai import ChatOpenAI\n",
    "\n",
    "load_dotenv()\n",
    "OPENAI_API_KEY = os.getenv(\"OPENAI_API_KEY\")\n",
    "OPENAI_DEPLOYMENT_ENDPOINT = os.getenv(\"OPENAI_DEPLOYMENT_ENDPOINT\")\n",
    "OPENAI_GPT4_DEPLOYMENT_NAME = os.getenv(\"OPENAI_GPT4_DEPLOYMENT_NAME\")\n",
    "OPENAI_ADA_EMBEDDING_DEPLOYMENT_NAME = os.getenv(\"OPENAI_ADA_EMBEDDING_DEPLOYMENT_NAME\")\n",
    "api_version = \"2024-02-01\"\n",
    "\n",
    "NEO4J_URI = os.getenv(\"NEO4J_URI\")\n",
    "NEO4J_USERNAME = os.getenv(\"NEO4J_USERNAME\")\n",
    "NEO4J_PASSWORD = os.getenv(\"NEO4J_PASSWORD\")\n",
    "NEO4J_DATABASE = os.getenv(\"NEO4J_DATABASE\")\n",
    "\n",
    "llm = AzureChatOpenAI(\n",
    "    model=OPENAI_GPT4_DEPLOYMENT_NAME,\n",
    "    azure_deployment=OPENAI_GPT4_DEPLOYMENT_NAME,\n",
    "    api_key=OPENAI_API_KEY,\n",
    "    azure_endpoint=OPENAI_DEPLOYMENT_ENDPOINT,\n",
    "    openai_api_version=api_version,\n",
    ")\n"
   ]
  },
  {
   "cell_type": "code",
   "execution_count": 2,
   "metadata": {},
   "outputs": [],
   "source": [
    "def call_openAI(text):\n",
    "    response = llm.chat.completions.create(\n",
    "        model=OPENAI_GPT4_DEPLOYMENT_NAME,\n",
    "        messages = text,\n",
    "        temperature=0.0\n",
    "    )\n",
    "    return response.choices[0].message.content"
   ]
  },
  {
   "cell_type": "code",
   "execution_count": 3,
   "metadata": {},
   "outputs": [],
   "source": [
    "# define embeddings \n",
    "embeddings = AzureOpenAIEmbeddings(\n",
    "    model=OPENAI_ADA_EMBEDDING_DEPLOYMENT_NAME,\n",
    "    azure_endpoint=OPENAI_DEPLOYMENT_ENDPOINT,\n",
    "    openai_api_version=api_version,\n",
    "    chunk_size = 1\n",
    ")"
   ]
  },
  {
   "cell_type": "code",
   "execution_count": 4,
   "metadata": {},
   "outputs": [],
   "source": [
    "# connect to the vector store and load it into memory\n",
    "\n",
    "vectorStore = FAISS.load_local(\"./dbs/documentation/faiss_index\", embeddings, allow_dangerous_deserialization=True)\n",
    "retriever = vectorStore.as_retriever(search_type=\"similarity\", search_kwargs={\"k\": 3})  # returns 3 most similar vectors/documents\n",
    "qa = RetrievalQA.from_chain_type(llm=llm, chain_type=\"stuff\", retriever=retriever, return_source_documents=True)"
   ]
  },
  {
   "cell_type": "code",
   "execution_count": 5,
   "metadata": {},
   "outputs": [],
   "source": [
    "# connect to the graph database\n",
    "graph = Neo4jGraph(\n",
    "    url=NEO4J_URI,\n",
    "    username=NEO4J_USERNAME,\n",
    "    password=NEO4J_PASSWORD,\n",
    "    database=NEO4J_DATABASE,\n",
    "    sanitize=True,\n",
    ")\n",
    "\n",
    "graph.refresh_schema()"
   ]
  },
  {
   "cell_type": "markdown",
   "metadata": {},
   "source": [
    "### Graph + RAG = GraphRAG"
   ]
  },
  {
   "cell_type": "code",
   "execution_count": 9,
   "metadata": {},
   "outputs": [],
   "source": [
    "from langchain.chains import GraphCypherQAChain\n",
    "from langchain.chains import RetrievalQA\n",
    "from langchain.prompts import PromptTemplate\n",
    "from langchain_core.messages import HumanMessage\n",
    "from langchain.chains import create_retrieval_chain\n",
    "from langchain.chains.combine_documents import create_stuff_documents_chain\n",
    "from langchain_core.prompts import ChatPromptTemplate\n",
    "\n",
    "# use faiss to search for similar documents using similarity search with embeddings - RAG only\n",
    "def vector_search(question):\n",
    "    system_prompt = (\n",
    "        \"Use the given context to answer the question. \"\n",
    "        \"If you don't know the answer, say you don't know. \"\n",
    "        \"Use three sentence maximum and keep the answer concise. \"\n",
    "        \"Context: {context}\"\n",
    "    )\n",
    "    prompt = ChatPromptTemplate.from_messages(\n",
    "        [\n",
    "            (\"system\", system_prompt),\n",
    "            (\"human\", \"{input}\"),\n",
    "        ]\n",
    "    )\n",
    "    question_answer_chain = create_stuff_documents_chain(llm, prompt)\n",
    "    # using Faiss as a retriever\n",
    "    chain = create_retrieval_chain(retriever, question_answer_chain)\n",
    "\n",
    "    response = chain.invoke({\"input\": question})\n",
    "    return response\n",
    "\n",
    "# use the graphDB to search for answers to the question - graph only\n",
    "def graph_search(question):\n",
    "    # using neo4j graph db as the graph\n",
    "    chain = GraphCypherQAChain.from_llm(graph=graph, llm=llm, verbose=True)\n",
    "    response = chain.invoke({\"query\": question})\n",
    "    return response\n",
    "\n",
    "def hybrid_search(question):\n",
    "    v_response = vector_search(question)\n",
    "    g_response = graph_search(question)\n",
    "\n",
    "    prompt_template = \"\"\"You are a helpful question-answering agent. Your task is to analyze \n",
    "    and synthesize information from two sources: the top result from a similarity search \n",
    "    (unstructured information) and relevant data from a graph database (structured information). \n",
    "    Given the user's query: {question}, provide a meaningful and efficient answer based \n",
    "    on the insights derived from the following data:\n",
    "\n",
    "    Unstructured information: {vector_result}. \n",
    "    Structured information: {graph_result}.\n",
    "    \"\"\"\n",
    "\n",
    "    prompt = PromptTemplate(\n",
    "        input_variables=[\"question\", \"vector_result\", \"graph_result\"],\n",
    "        template=prompt_template,\n",
    "    )\n",
    "\n",
    "    message = HumanMessage(\n",
    "        content=prompt_template.format(question=question,  vector_result=v_response, graph_result=g_response)\n",
    "    )\n",
    "    response = llm.invoke([message])\n",
    "    return response"
   ]
  },
  {
   "cell_type": "code",
   "execution_count": 16,
   "metadata": {},
   "outputs": [
    {
     "data": {
      "text/plain": [
       "{'input': \"Describe the families of Harry Potter's best friends.\",\n",
       " 'context': [Document(metadata={'title': 'Harry Potter', 'summary': \"Harry Potter is a series of seven fantasy novels written by British author J. K. Rowling. The novels chronicle the lives of a young wizard, Harry Potter, and his friends, Hermione Granger and Ron Weasley, all of whom are students at Hogwarts School of Witchcraft and Wizardry. The main story arc concerns Harry's conflict with Lord Voldemort, a dark wizard who intends to become immortal, overthrow the wizard governing body known as the Ministry of Magic, and subjugate all wizards and Muggles (non-magical people).\\nThe series was originally published in English by Bloomsbury in the United Kingdom and Scholastic Press in the United States.  A series of many genres, including fantasy, drama, coming-of-age fiction, and the British school story (which includes elements of mystery, thriller, adventure, horror, and romance), the world of Harry Potter explores numerous themes and includes many cultural meanings and references. Major themes in the series include prejudice, corruption, madness, and death.\\nSince the release of the first novel, Harry Potter and the Philosopher's Stone, on 26 June 1997, the books have found immense popularity, positive reviews, and commercial success worldwide. They have attracted a wide adult audience as well as younger readers and are widely considered cornerstones of modern literature. As of February 2023, the books have sold more than 600 million copies worldwide, making them the best-selling book series in history, and have been available in 85 languages. The last four books consecutively set records as the fastest-selling books in history, with the final instalment selling roughly 2.7 million copies in the United Kingdom and 8.3 million copies in the United States within twenty-four hours of its release.\\nWarner Bros. Pictures adapted the original seven books into an eight-part namesake film series. In 2016, the total value of the Harry Potter franchise was estimated at $25 billion, making it one of the highest-grossing media franchises of all time. Harry Potter and the Cursed Child is a play based on a story co-written by Rowling.\\nThe success of the books and films has allowed the Harry Potter franchise to expand with numerous derivative works, a travelling exhibition that premiered in Chicago in 2009, a studio tour in London that opened in 2012, a digital platform on which J. K. Rowling updates the series with new information and insight, and a trilogy of spin-off films premiering in November 2016 with Fantastic Beasts and Where to Find Them, among many other developments. Themed attractions, collectively known as The Wizarding World of Harry Potter, have been built at several Universal Destinations & Experiences amusement parks around the world.\", 'source': 'https://en.wikipedia.org/wiki/Harry_Potter'}, page_content=\"Harry Potter is a series of seven fantasy novels written by British author J. K. Rowling. The novels chronicle the lives of a young wizard, Harry Potter, and his friends, Hermione Granger and Ron Weasley, all of whom are students at Hogwarts School of Witchcraft and Wizardry. The main story arc concerns Harry's conflict with Lord Voldemort, a dark wizard who intends to become immortal, overthrow the wizard governing body known as the Ministry of Magic, and subjugate all wizards and Muggles (non-magical people).\\nThe series was originally published in English by Bloomsbury in the United Kingdom and Scholastic Press in the United States.  A series of many genres, including fantasy, drama, coming-of-age fiction, and the British school story (which includes elements of mystery, thriller, adventure, horror, and romance), the world of Harry Potter explores numerous themes and includes many cultural meanings and references. Major themes in the series include prejudice, corruption, madness, and death.\\nSince the release of the first novel, Harry Potter and the Philosopher's Stone, on 26 June 1997, the books have found immense popularity, positive reviews, and commercial success worldwide. They have attracted a wide adult audience as well as younger readers and are widely considered cornerstones of modern literature. As of February 2023, the books have sold more than 600 million copies worldwide, making them the best-selling book series in history, and have been available in 85 languages. The last four books consecutively set records as the fastest-selling books in history, with the final instalment selling roughly 2.7 million copies in the United Kingdom and 8.3 million copies in the United States within twenty-four hours of its release.\\nWarner Bros. Pictures adapted the original seven books into an eight-part namesake film series. In 2016, the total value of the Harry Potter franchise was estimated at $25 billion, making it one of the highest-grossing media franchises of all time. Harry Potter and the Cursed Child is a play based on a story co-written by Rowling.\\nThe success of the books and films has allowed the Harry Potter franchise to expand with numerous derivative works, a travelling exhibition that premiered in Chicago in 2009, a studio tour in London that opened in 2012, a digital platform on which J. K. Rowling updates the series with new information and insight, and a trilogy of spin-off films premiering in November 2016 with Fantastic Beasts and Where to Find Them, among many other developments. Themed attractions, collectively known as The Wizarding World of Harry Potter, have been built at several Universal Destinations & Experiences amusement parks around the world.\\n\\n\\n== Plot ==\\n\\n\\n=== Early years ===\\n\\nThe series follows the life of a boy named Harry Potter. In the first book, Harry Potter and the Philosopher's Stone, Harry lives in a cupboard under the stairs in the house of the Dursleys, his aunt, uncle and cousin, who all treat him poorly. At the age of 11, Harry discovers that he is a wizard. He meets a half-giant named Hagrid who gives him a letter of acceptance to attend the Hogwarts School of Witchcraft and Wizardry. Harry learns that his parents, Lily and James Potter, also had magical powers, and were murdered by the dark wizard Lord Voldemort when Harry was a baby. When Voldemort attempted to kill Harry, his curse rebounded, seemingly killing Voldemort, and Harry survived with a lightning-shaped scar on his forehead. The event made Harry famous among the community of wizards and witches.\\nHarry becomes a student at Hogwarts and is sorted into Gryffindor House. He gains the friendship of Ron Weasley, a member of a large but poor wizarding family, and Hermione Granger, a witch of non-magical, or Muggle, parentage. The trio develop an enmity with the rich pure-blood student Draco Malfoy. Harry encounters the school's headmaster, Albus Dumbledore; the potions professor, Severus Snape, who displays a dislike for him; a\"),\n",
       "  Document(metadata={'title': \"Harry Potter and the Philosopher's Stone\", 'summary': \"Harry Potter and the Philosopher's Stone is a fantasy novel written by British author J. K. Rowling. The first novel in the Harry Potter series and Rowling's debut novel follows Harry Potter, a young wizard who discovers his magical heritage on his eleventh birthday when he receives a letter of acceptance to Hogwarts School of Witchcraft and Wizardry. Harry makes close friends and a few enemies during his first year at the school. With the help of his friends, Ron Weasley and Hermione Granger, he faces an attempted comeback by the dark wizard Lord Voldemort, who killed Harry's parents but failed to kill Harry when he was just 15 months old.\\nThe book was first published in the United Kingdom on 26 June 1997 by Bloomsbury. It was published in the United States the following year by Scholastic Corporation under the title Harry Potter and the Sorcerer's Stone. It won most of the British book awards that were judged by children and other awards in the US. The book reached the top of the New York Times list of best-selling fiction in August 1999, and stayed near the top of that list for much of 1999 and 2000. It has been translated into at least 73 other languages and made into a feature-length film of the same name, as have all six of its sequels. The novel has sold in excess of 120 million copies, making it the fourth best-selling book of all time.\\nMost reviews were very favourable, commenting on Rowling's imagination, humour, simple, direct style and clever plot construction, although a few complained that the final chapters seemed rushed. The writing has been compared to that of Jane Austen, one of Rowling's favourite authors; Roald Dahl, whose works dominated children's stories before the appearance of Harry Potter; and the ancient Greek story-teller Homer. While some commentators thought the book looked backward to Victorian and Edwardian boarding school stories, others thought it placed the genre firmly in the modern world by featuring contemporary ethical and social issues, as well as showing overcoming obstacles like bullying.\\nThe Harry Potter series has been used as a source of object lessons in educational techniques, sociological analysis, and marketing.\\n\\n\", 'source': 'https://en.wikipedia.org/wiki/Harry_Potter_and_the_Philosopher%27s_Stone'}, page_content='Harry Potter and the Philosopher\\'s Stone is a fantasy novel written by British author J. K. Rowling. The first novel in the Harry Potter series and Rowling\\'s debut novel follows Harry Potter, a young wizard who discovers his magical heritage on his eleventh birthday when he receives a letter of acceptance to Hogwarts School of Witchcraft and Wizardry. Harry makes close friends and a few enemies during his first year at the school. With the help of his friends, Ron Weasley and Hermione Granger, he faces an attempted comeback by the dark wizard Lord Voldemort, who killed Harry\\'s parents but failed to kill Harry when he was just 15 months old.\\nThe book was first published in the United Kingdom on 26 June 1997 by Bloomsbury. It was published in the United States the following year by Scholastic Corporation under the title Harry Potter and the Sorcerer\\'s Stone. It won most of the British book awards that were judged by children and other awards in the US. The book reached the top of the New York Times list of best-selling fiction in August 1999, and stayed near the top of that list for much of 1999 and 2000. It has been translated into at least 73 other languages and made into a feature-length film of the same name, as have all six of its sequels. The novel has sold in excess of 120 million copies, making it the fourth best-selling book of all time.\\nMost reviews were very favourable, commenting on Rowling\\'s imagination, humour, simple, direct style and clever plot construction, although a few complained that the final chapters seemed rushed. The writing has been compared to that of Jane Austen, one of Rowling\\'s favourite authors; Roald Dahl, whose works dominated children\\'s stories before the appearance of Harry Potter; and the ancient Greek story-teller Homer. While some commentators thought the book looked backward to Victorian and Edwardian boarding school stories, others thought it placed the genre firmly in the modern world by featuring contemporary ethical and social issues, as well as showing overcoming obstacles like bullying.\\nThe Harry Potter series has been used as a source of object lessons in educational techniques, sociological analysis, and marketing.\\n\\n\\n== Plot ==\\nHarry Potter lives with his neglectful uncle and aunt, Vernon and Petunia Dursley, and their bullying son, Dudley. On Harry\\'s eleventh birthday, Rubeus Hagrid, a half-giant, delivers an acceptance letter from Hogwarts School of Witchcraft and Wizardry, revealing that Harry\\'s parents, James and Lily Potter, were wizards. When Harry was just a year old, a powerful but malevolent dark wizard named Lord Voldemort murdered his parents; Harry survived Voldemort\\'s killing curse that rebounded and seemingly destroyed the Dark Lord, leaving a lightning bolt-shaped scar on Harry\\'s forehead. Unknown to Harry, this act made him famous in the wizarding world.\\nHagrid escorts Harry to Diagon Alley, the hidden wizard commerce and retail section in London. Harry\\'s parents have left him a fortune kept in Gringotts Wizarding Bank, which he uses to buy school supplies and a wand from Ollivander\\'s. The cores of Harry and Lord Voldemort\\'s wands have feathers from the same phoenix bird, making them \"brothers\". Hagrid gifts Harry an owl, whom he names as Hedwig, as a birthday present. A month later, Harry boards the Hogwarts Express at King\\'s Cross railway station\\'s secret Platform 9+3⁄4. En route to Hogwarts, Harry befriends fellow first year Ron Weasley and meets Hermione Granger, whom the two boys initially dislike.\\nHarry runs afoul of Draco Malfoy, the spoiled son of a prominent wizard. At Hogwarts, a magical Sorting Hat sorts the first years among four school Houses (Gryffindor, Hufflepuff, Ravenclaw, and Slytherin) that best suit their personalities and talents. Draco joins Slytherin, known for producing dark wizards, while Harry, Ron, and Hermione are sorted into Gryffindor.\\nHarry\\'s broomstick flying ability earns him a place on the Gryffindor Quidditch team as the Seeker. H'),\n",
       "  Document(metadata={'title': 'Harry Potter (film series)', 'summary': \"Harry Potter is a film series based on the eponymous novels by British author J. K. Rowling. The series is produced and distributed by Warner Bros. Pictures and consists of eight fantasy films, beginning with Harry Potter and the Philosopher's Stone (2001) and culminating with Harry Potter and the Deathly Hallows – Part 2 (2011). A spin-off prequel series started with Fantastic Beasts and Where to Find Them (2016), marking the beginning of the Wizarding World shared media franchise.\\nThe series was mainly produced by David Heyman, and stars Daniel Radcliffe, Rupert Grint, and Emma Watson as the three leading characters: Harry Potter, Ron Weasley, and Hermione Granger. Four directors worked on the series: Chris Columbus, Alfonso Cuarón, Mike Newell, and David Yates. Michael Goldenberg wrote the screenplay for Harry Potter and the Order of the Phoenix (2007), while the remaining films' screenplays were written by Steve Kloves. Production took place over ten years, with the main story arc following Harry's quest to overcome his arch-enemy Lord Voldemort.\\nHarry Potter and the Deathly Hallows, the seventh and final novel in the series, was adapted into two feature-length parts. Part 1 was released in November 2010, and Part 2 was released in July 2011.\\nDeathly Hallows – Part 2 is among the 50 highest-grossing films of all time—at 18th-highest, grossing over $1 billion. It is the fourth-highest-grossing film series, with $7.7 billion in worldwide receipts.\\n\\n\", 'source': 'https://en.wikipedia.org/wiki/Harry_Potter_(film_series)'}, page_content='Harry Potter is a film series based on the eponymous novels by British author J. K. Rowling. The series is produced and distributed by Warner Bros. Pictures and consists of eight fantasy films, beginning with Harry Potter and the Philosopher\\'s Stone (2001) and culminating with Harry Potter and the Deathly Hallows – Part 2 (2011). A spin-off prequel series started with Fantastic Beasts and Where to Find Them (2016), marking the beginning of the Wizarding World shared media franchise.\\nThe series was mainly produced by David Heyman, and stars Daniel Radcliffe, Rupert Grint, and Emma Watson as the three leading characters: Harry Potter, Ron Weasley, and Hermione Granger. Four directors worked on the series: Chris Columbus, Alfonso Cuarón, Mike Newell, and David Yates. Michael Goldenberg wrote the screenplay for Harry Potter and the Order of the Phoenix (2007), while the remaining films\\' screenplays were written by Steve Kloves. Production took place over ten years, with the main story arc following Harry\\'s quest to overcome his arch-enemy Lord Voldemort.\\nHarry Potter and the Deathly Hallows, the seventh and final novel in the series, was adapted into two feature-length parts. Part 1 was released in November 2010, and Part 2 was released in July 2011.\\nDeathly Hallows – Part 2 is among the 50 highest-grossing films of all time—at 18th-highest, grossing over $1 billion. It is the fourth-highest-grossing film series, with $7.7 billion in worldwide receipts.\\n\\n\\n== Origins ==\\nIn late 1997, film producer David Heyman\\'s London offices received a copy of the first book in what would become Rowling\\'s series of seven Harry Potter novels. The book, Harry Potter and the Philosopher\\'s Stone, was relegated to a low-priority bookshelf, where it was discovered by a secretary who read it and gave it to Heyman with a positive review. Consequently, Heyman, who had originally disliked \"the rubbish title\", read the book himself. Highly impressed by Rowling\\'s work, he began the process that led to one of the most successful cinematic franchises of all time.\\nHeyman\\'s enthusiasm led to Rowling\\'s 1999 sale of the film rights for the first four Harry Potter books to Warner Bros. for a reported £1 million (US$2,000,000). A demand Rowling made was that the principal cast be kept strictly British and Irish wherever possible, such as Richard Harris as Dumbledore, allowing nonetheless for casting of French and Eastern European actors in Harry Potter and the Goblet of Fire where characters from the book are specified as such. Rowling was hesitant to sell the rights because she \"didn\\'t want to give them control over the rest of the story\" by selling the rights to the characters, which would have enabled Warner Bros. to make non-author-written sequels.\\nAlthough Steven Spielberg initially negotiated to direct the first film, he declined the offer. Spielberg contended that, in his opinion, there was every expectation of profit in making the film. He claims that making money would have been like \"shooting ducks in a barrel. It\\'s just a slam dunk. It\\'s just like withdrawing a billion dollars and putting it into your personal bank accounts. There\\'s no challenge.\" In the \"Rubbish Bin\" section of her website, Rowling maintains that she had no role in choosing directors for the films, writing \"Anyone who thinks I could (or would) have \\'veto-ed\\' him [Spielberg] needs their Quick-Quotes Quill serviced.\"\\nAfter Spielberg left, conversations began with other directors, including Chris Columbus, Jonathan Demme, Terry Gilliam, Mike Newell, Alan Parker, Wolfgang Petersen, Rob Reiner, Tim Robbins, Brad Silberling, and Peter Weir. Petersen and Reiner both pulled out of the running in March 2000. It was then narrowed down to Columbus, Gilliam, Parker, and Silberling. Rowling\\'s first choice was Gilliam. However, on 28 March 2000 Columbus was appointed as director of the film, with Warner Bros. citing his work on other family films such as Home Alone and Mrs. Doubtfire as influences for')],\n",
       " 'answer': \"Harry Potter's best friends are Ron Weasley and Hermione Granger. Ron comes from the large Weasley family, which includes his parents, Arthur and Molly, and his six siblings: Bill, Charlie, Percy, Fred, George, and Ginny. The Weasleys are known for their warm and loving home, their red hair, and their financial struggles, as they are not a wealthy family despite being pure-blood wizards.\\n\\nHermione Granger, on the other hand, is an only child. Her parents are both Muggles, meaning they are non-magical people, and they work as dentists. Hermione's family is smaller and less chaotic compared to the Weasleys, and she comes from a supportive and high-achieving household, with her parents valuing education and hard work.\"}"
      ]
     },
     "metadata": {},
     "output_type": "display_data"
    }
   ],
   "source": [
    "#RAG only answer\n",
    "response = vector_search(\"Describe the families of Harry Potter's best friends.\")\n",
    "display(response)"
   ]
  },
  {
   "cell_type": "code",
   "execution_count": 18,
   "metadata": {},
   "outputs": [
    {
     "name": "stdout",
     "output_type": "stream",
     "text": [
      "\n",
      "\n",
      "\u001b[1m> Entering new GraphCypherQAChain chain...\u001b[0m\n",
      "Generated Cypher:\n",
      "\u001b[32;1m\u001b[1;3mcypher\n",
      "MATCH (hp:Person {id: \"Harry Potter\"})-[:FRIEND_OF]->(bestFriends:Person)-[:CHILD_OF]->(parents:Person)-[:LIVED_WITH]->(family:Family)\n",
      "RETURN bestFriends.id, COLLECT(parents.id) AS parents, family.id AS familyId\n",
      "\u001b[0m\n",
      "Full Context:\n",
      "\u001b[32;1m\u001b[1;3m[]\u001b[0m\n",
      "\n",
      "\u001b[1m> Finished chain.\u001b[0m\n"
     ]
    },
    {
     "data": {
      "text/plain": [
       "{'query': \"Describe the families of Harry Potter's best friends.\",\n",
       " 'result': \"I don't know the answer.\"}"
      ]
     },
     "metadata": {},
     "output_type": "display_data"
    }
   ],
   "source": [
    "#Graph only answer\n",
    "response = graph_search(\"Describe the families of Harry Potter's best friends.\")\n",
    "display(response)"
   ]
  },
  {
   "cell_type": "code",
   "execution_count": 17,
   "metadata": {},
   "outputs": [
    {
     "name": "stdout",
     "output_type": "stream",
     "text": [
      "\n",
      "\n",
      "\u001b[1m> Entering new GraphCypherQAChain chain...\u001b[0m\n",
      "Generated Cypher:\n",
      "\u001b[32;1m\u001b[1;3mcypher\n",
      "MATCH (d:Document)-[:MENTIONS]->(hp:Character {id: \"Harry Potter\"})\n",
      "MATCH (hp)-[:FRIEND_OF]->(friends:Person)-[:CHILD_OF]->(parents:Person)-[:LIVED_WITH]->(family:Family)\n",
      "RETURN family;\n",
      "\u001b[0m\n",
      "Full Context:\n",
      "\u001b[32;1m\u001b[1;3m[]\u001b[0m\n",
      "\n",
      "\u001b[1m> Finished chain.\u001b[0m\n"
     ]
    },
    {
     "data": {
      "text/plain": [
       "AIMessage(content='Based on the provided unstructured information, here\\'s a description of the families of Harry Potter\\'s best friends:\\n\\nHermione Granger\\'s family:\\nHermione Granger is the only child of Muggle parents who are both dentists. Despite not being magical themselves, her parents are very supportive of Hermione\\'s magical abilities and her involvement in the wizarding world. They are portrayed as loving and proud of Hermione\\'s achievements at Hogwarts.\\n\\nRon Weasley\\'s family:\\nRon Weasley comes from a large, pure-blood wizarding family known as the Weasleys. He is the sixth of seven children. The Weasley family is characterized by their red hair, financial modesty, and a warm and loving household. Ron\\'s parents are Arthur and Molly Weasley. Arthur works at the Ministry of Magic, and Molly is a homemaker who dedicates her life to raising her children. The Weasleys value traits such as courage, loyalty, and humor. Despite their lack of wealth, they are generous and welcoming, often opening their home to others, including Harry Potter. The Weasley family is also active in the resistance against dark forces in the wizarding world.\\n\\nThe structured information provided does not offer additional insights into the families of Harry Potter\\'s best friends, as it merely states, \"I don\\'t know the answer.\" Therefore, the answer is derived solely from the unstructured information provided.', response_metadata={'token_usage': {'completion_tokens': 281, 'prompt_tokens': 4424, 'total_tokens': 4705}, 'model_name': 'gpt-4', 'system_fingerprint': 'fp_811936bd4f', 'prompt_filter_results': [{'prompt_index': 0, 'content_filter_results': {'hate': {'filtered': False, 'severity': 'safe'}, 'self_harm': {'filtered': False, 'severity': 'safe'}, 'sexual': {'filtered': False, 'severity': 'safe'}, 'violence': {'filtered': False, 'severity': 'safe'}}}], 'finish_reason': 'stop', 'logprobs': None, 'content_filter_results': {'hate': {'filtered': False, 'severity': 'safe'}, 'self_harm': {'filtered': False, 'severity': 'safe'}, 'sexual': {'filtered': False, 'severity': 'safe'}, 'violence': {'filtered': False, 'severity': 'safe'}}}, id='run-6014d278-7ed1-4f24-adbd-dcbea7842299-0', usage_metadata={'input_tokens': 4424, 'output_tokens': 281, 'total_tokens': 4705})"
      ]
     },
     "metadata": {},
     "output_type": "display_data"
    }
   ],
   "source": [
    "#Graph and RAG hybrid answer\n",
    "response = hybrid_search(\"Describe the families of Harry Potter's best friends.\")\n",
    "display(response)"
   ]
  }
 ],
 "metadata": {
  "kernelspec": {
   "display_name": ".venv",
   "language": "python",
   "name": "python3"
  },
  "language_info": {
   "codemirror_mode": {
    "name": "ipython",
    "version": 3
   },
   "file_extension": ".py",
   "mimetype": "text/x-python",
   "name": "python",
   "nbconvert_exporter": "python",
   "pygments_lexer": "ipython3",
   "version": "3.10.11"
  },
  "orig_nbformat": 4
 },
 "nbformat": 4,
 "nbformat_minor": 2
}
