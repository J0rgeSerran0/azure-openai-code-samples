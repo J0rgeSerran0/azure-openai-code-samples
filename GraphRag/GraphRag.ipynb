{
 "cells": [
  {
   "cell_type": "markdown",
   "metadata": {},
   "source": [
    "### **Load Environment variables from .env file**"
   ]
  },
  {
   "cell_type": "code",
   "execution_count": 26,
   "metadata": {},
   "outputs": [],
   "source": [
    "from langchain_openai import AzureChatOpenAI\n",
    "from langchain_openai import AzureOpenAIEmbeddings\n",
    "from dotenv import load_dotenv\n",
    "import os\n",
    "from IPython.display import display, HTML, JSON, Markdown, Image\n",
    "from neo4j import GraphDatabase\n",
    "\n",
    "load_dotenv()\n",
    "OPENAI_API_KEY = os.getenv(\"OPENAI_API_KEY\")\n",
    "OPENAI_DEPLOYMENT_ENDPOINT = os.getenv(\"OPENAI_DEPLOYMENT_ENDPOINT\")\n",
    "OPENAI_GPT4_DEPLOYMENT_NAME = os.getenv(\"OPENAI_GPT4_DEPLOYMENT_NAME\")\n",
    "OPENAI_ADA_EMBEDDING_DEPLOYMENT_NAME = os.getenv(\"OPENAI_ADA_EMBEDDING_DEPLOYMENT_NAME\")\n",
    "api_version = \"2024-02-01\"\n",
    "\n",
    "NEO4J_URI = os.getenv(\"NEO4J_URI\")\n",
    "NEO4J_USERNAME = os.getenv(\"NEO4J_USERNAME\")\n",
    "NEO4J_PASSWORD = os.getenv(\"NEO4J_PASSWORD\")\n",
    "\n",
    "llm = AzureChatOpenAI(\n",
    "    model=OPENAI_GPT4_DEPLOYMENT_NAME,\n",
    "    azure_deployment=OPENAI_GPT4_DEPLOYMENT_NAME,\n",
    "    api_key=OPENAI_API_KEY,\n",
    "    azure_endpoint=OPENAI_DEPLOYMENT_ENDPOINT,\n",
    "    openai_api_version=api_version,\n",
    ")\n"
   ]
  },
  {
   "cell_type": "code",
   "execution_count": 27,
   "metadata": {},
   "outputs": [],
   "source": [
    "def call_openAI(text):\n",
    "    response = llm.chat.completions.create(\n",
    "        model=OPENAI_GPT4_DEPLOYMENT_NAME,\n",
    "        messages = text,\n",
    "        temperature=0.0\n",
    "    )\n",
    "    return response.choices[0].message.content"
   ]
  },
  {
   "cell_type": "code",
   "execution_count": 28,
   "metadata": {},
   "outputs": [
    {
     "name": "stderr",
     "output_type": "stream",
     "text": [
      "c:\\Users\\dschlesinger\\code\\ongoing\\azure-openai-code-samples\\.venv\\lib\\site-packages\\wikipedia\\wikipedia.py:389: GuessedAtParserWarning: No parser was explicitly specified, so I'm using the best available HTML parser for this system (\"html.parser\"). This usually isn't a problem, but if you run this code on another system, or in a different virtual environment, it may use a different parser and behave differently.\n",
      "\n",
      "The code that caused this warning is on line 389 of the file c:\\Users\\dschlesinger\\code\\ongoing\\azure-openai-code-samples\\.venv\\lib\\site-packages\\wikipedia\\wikipedia.py. To get rid of this warning, pass the additional argument 'features=\"html.parser\"' to the BeautifulSoup constructor.\n",
      "\n",
      "  lis = BeautifulSoup(html).find_all('li')\n"
     ]
    },
    {
     "data": {
      "text/plain": [
       "[Document(metadata={'title': 'Elizabeth II', 'summary': \"Elizabeth II (Elizabeth Alexandra Mary; 21 April 1926 – 8 September 2022) was Queen of the United Kingdom and other Commonwealth realms from 6 February 1952 until her death in 2022. She was queen regnant of 32 sovereign states over the course of her lifetime and remained the monarch of 15 realms by the time of her death. Her reign of 70 years and 214 days is the longest of any British monarch or female monarch, and the second-longest verified reign of any monarch of a sovereign state in history.\\nElizabeth was born in Mayfair, London, during the reign of her paternal grandfather, King George V. She was the first child of the Duke and Duchess of York (later King George VI and Queen Elizabeth The Queen Mother). Her father acceded to the throne in 1936 upon the abdication of his brother Edward VIII, making the ten-year-old Princess Elizabeth the heir presumptive. She was educated privately at home and began to undertake public duties during the Second World War, serving in the Auxiliary Territorial Service. In November 1947, she married Philip Mountbatten, a former prince of Greece and Denmark, and their marriage lasted 73 years until his death in 2021. They had four children: Charles, Anne, Andrew, and Edward.\\nWhen her father died in February 1952, Elizabeth—then 25 years old—became queen of seven independent Commonwealth countries: the United Kingdom, Canada, Australia, New Zealand, South Africa, Pakistan, and Ceylon (known today as Sri Lanka), as well as head of the Commonwealth. Elizabeth reigned as a constitutional monarch through major political changes such as the Troubles in Northern Ireland, devolution in the United Kingdom, the decolonisation of Africa, and the United Kingdom's accession to the European Communities as well as its subsequent withdrawal. The number of her realms varied over time as territories gained independence and some realms became republics. As queen, Elizabeth was served by more than 170 prime ministers across her realms. Her many historic visits and meetings included state visits to China in 1986, to Russia in 1994, and to the Republic of Ireland in 2011, and meetings with five popes and fourteen US presidents.\\nSignificant events included Elizabeth's coronation in 1953 and the celebrations of her Silver, Golden, Diamond, and Platinum jubilees in 1977, 2002, 2012, and 2022, respectively. Although she faced occasional republican sentiment and media criticism of her family—particularly after the breakdowns of her children's marriages, her annus horribilis in 1992, and the death in 1997 of her former daughter-in-law Diana—support for the monarchy in the United Kingdom remained consistently high throughout her lifetime, as did her personal popularity. Elizabeth died at the age of 96 at Balmoral Castle, and was succeeded by her eldest son, Charles III.\\n\\n\", 'source': 'https://en.wikipedia.org/wiki/Elizabeth_II'}, page_content='Elizabeth II (Elizabeth Alexandra Mary; 21 April 1926 – 8 September 2022) was Queen of the United Kingdom and other Commonwealth realms from 6 February 1952 until her death in 2022. She was queen regnant of 32 sovereign states over the course of her lifetime and remained the monarch of 15 realms by the time of her death. Her reign of 70 years and 214 days is the longest of any British monarch or female monarch, and the second-longest verified reign of any monarch of a sovereign state in history.\\nElizabeth was born in Mayfair, London, during the reign of her paternal grandfather, King George V. She was the first child of the Duke and Duchess of York (later King George VI and Queen Elizabeth The Queen Mother). Her father acceded to the throne in 1936 upon the abdication of his brother Edward VIII, making the ten-year-old Princess Elizabeth the heir presumptive. She was educated privately at home and began to undertake public duties during the Second World War, serving in the Auxiliary Territorial Service. In November 1947, she married Philip Mountbatten, a former prince of Greece and Denmark, and their marriage lasted 73 years until his death in 2021. They had four children: Charles, Anne, Andrew, and Edward.\\nWhen her father died in February 1952, Elizabeth—then 25 years old—became queen of seven independent Commonwealth countries: the United Kingdom, Canada, Australia, New Zealand, South Africa, Pakistan, and Ceylon (known today as Sri Lanka), as well as head of the Commonwealth. Elizabeth reigned as a constitutional monarch through major political changes such as the Troubles in Northern Ireland, devolution in the United Kingdom, the decolonisation of Africa, and the United Kingdom\\'s accession to the European Communities as well as its subsequent withdrawal. The number of her realms varied over time as territories gained independence and some realms became republics. As queen, Elizabeth was served by more than 170 prime ministers across her realms. Her many historic visits and meetings included state visits to China in 1986, to Russia in 1994, and to the Republic of Ireland in 2011, and meetings with five popes and fourteen US presidents.\\nSignificant events included Elizabeth\\'s coronation in 1953 and the celebrations of her Silver, Golden, Diamond, and Platinum jubilees in 1977, 2002, 2012, and 2022, respectively. Although she faced occasional republican sentiment and media criticism of her family—particularly after the breakdowns of her children\\'s marriages, her annus horribilis in 1992, and the death in 1997 of her former daughter-in-law Diana—support for the monarchy in the United Kingdom remained consistently high throughout her lifetime, as did her personal popularity. Elizabeth died at the age of 96 at Balmoral Castle, and was succeeded by her eldest son, Charles III.\\n\\n\\n== Early life ==\\nElizabeth was born on 21 April 1926, the first child of Prince Albert, Duke of York (later King George VI), and his wife, Elizabeth, Duchess of York (later Queen Elizabeth The Queen Mother). Her father was the second son of King George V and Queen Mary, and her mother was the youngest daughter of Scottish aristocrat Claude Bowes-Lyon, 14th Earl of Strathmore and Kinghorne. She was delivered at 02:40 (GMT) by Caesarean section at her maternal grandfather\\'s London home, 17 Bruton Street in Mayfair. The Anglican Archbishop of York, Cosmo Gordon Lang, baptised her in the private chapel of Buckingham Palace on 29 May, and she was named Elizabeth after her mother; Alexandra after her paternal great-grandmother, who had died six months earlier; and Mary after her paternal grandmother. She was called \"Lilibet\" by her close family, based on what she called herself at first. She was cherished by her grandfather George V, whom she affectionately called \"Grandpa England\", and her regular visits during his serious illness in 1929 were credited in the popular press and by later biographers with raising his spirits and aiding his recovery.\\n\\nElizabeth\\'s '),\n",
       " Document(metadata={'title': 'Death and state funeral of Elizabeth II', 'summary': \"Elizabeth II, Queen of the United Kingdom and the other Commonwealth realms, died on 8 September 2022 at Balmoral Castle in Scotland, at the age of 96. Elizabeth's reign of 70 years and 214 days was the longest of any British monarch. She was succeeded by her eldest son, Charles III.\\nElizabeth's death set in motion the most recent version of Operation London Bridge, a funeral plan first devised in the 1960s, and Operation Unicorn, the plan for the Queen's death in Scotland. Elizabeth's coffin lay at rest in St Giles' Cathedral in Edinburgh from 12 to 13 September, after which it was flown to London, where it lay in state in Westminster Hall from 14 to 19 September. An estimated 33,000 people filed past the Queen's coffin in Edinburgh, and approximately 250,000 people queued to pay their respects in London. The United Kingdom observed a national mourning period of 10 days.\\nElizabeth's state funeral on 19 September was the first held in Britain since Winston Churchill's in 1965. A funeral service was held at Westminster Abbey, followed by a procession to Wellington Arch which featured around 3,000 military personnel and was watched by approximately one million people in central London. The state hearse then transported the Queen's coffin to Windsor, followed by another procession through Windsor Great Park and a committal service at St George's Chapel at Windsor Castle. The Queen was interred later that evening with her husband, Prince Philip, in the King George VI Memorial Chapel, in a private service attended only by her closest family.\\nDesignated as a public holiday in the UK and several Commonwealth states, the state funeral included dignitaries from around the world and featured the largest security operation ever mounted in the UK. Coverage of the state funeral was one of the UK's most watched special television broadcasts, surpassing the wedding of Prince William and Catherine Middleton, the previous most-watched royal event of the 21st century. The period of official mourning and the funeral was estimated to have cost the government £162 million.\\n\\n\", 'source': 'https://en.wikipedia.org/wiki/Death_and_state_funeral_of_Elizabeth_II'}, page_content='Elizabeth II, Queen of the United Kingdom and the other Commonwealth realms, died on 8 September 2022 at Balmoral Castle in Scotland, at the age of 96. Elizabeth\\'s reign of 70 years and 214 days was the longest of any British monarch. She was succeeded by her eldest son, Charles III.\\nElizabeth\\'s death set in motion the most recent version of Operation London Bridge, a funeral plan first devised in the 1960s, and Operation Unicorn, the plan for the Queen\\'s death in Scotland. Elizabeth\\'s coffin lay at rest in St Giles\\' Cathedral in Edinburgh from 12 to 13 September, after which it was flown to London, where it lay in state in Westminster Hall from 14 to 19 September. An estimated 33,000 people filed past the Queen\\'s coffin in Edinburgh, and approximately 250,000 people queued to pay their respects in London. The United Kingdom observed a national mourning period of 10 days.\\nElizabeth\\'s state funeral on 19 September was the first held in Britain since Winston Churchill\\'s in 1965. A funeral service was held at Westminster Abbey, followed by a procession to Wellington Arch which featured around 3,000 military personnel and was watched by approximately one million people in central London. The state hearse then transported the Queen\\'s coffin to Windsor, followed by another procession through Windsor Great Park and a committal service at St George\\'s Chapel at Windsor Castle. The Queen was interred later that evening with her husband, Prince Philip, in the King George VI Memorial Chapel, in a private service attended only by her closest family.\\nDesignated as a public holiday in the UK and several Commonwealth states, the state funeral included dignitaries from around the world and featured the largest security operation ever mounted in the UK. Coverage of the state funeral was one of the UK\\'s most watched special television broadcasts, surpassing the wedding of Prince William and Catherine Middleton, the previous most-watched royal event of the 21st century. The period of official mourning and the funeral was estimated to have cost the government £162 million.\\n\\n\\n== Background ==\\n\\nQueen Elizabeth II was in good health for most of her life, but her health declined significantly following the death of her husband, Prince Philip, in April 2021. She began to use a walking stick for public engagements in October 2021. On 20 October, the Queen stayed overnight in King Edward VII\\'s Hospital in central London, necessitating the cancellation of scheduled visits to Northern Ireland and the COP26 summit in Glasgow. She suffered a sprained back in November, which prevented her from attending the 2021 National Service of Remembrance.\\nIn February 2022, during the COVID-19 pandemic in England, the Queen was one of several people at Windsor Castle to test positive for COVID-19. Her symptoms were described as \"mild and cold-like\", and she later commented that the disease \"does leave one very tired and exhausted\". The monarch\\'s health became a cause of concern to commentators at this time.\\nThe Queen was said to be feeling well enough to resume her official duties by 1 March 2022 and attended the service of thanksgiving for Prince Philip at Westminster Abbey on 29 March. Despite this, the Queen did not attend several appointments over the following months due to \"episodic mobility problems\", including the annual Commonwealth Day service in March, the Royal Maundy service in April, the State Opening of Parliament in May, and the National Service of Thanksgiving for her Platinum Jubilee in June. During the Jubilee the Queen also suffered \"discomfort\" after standing during Trooping the Colour and was largely confined to balcony appearances during the celebrations. According to her apothecary in Scotland, Douglas Glass, there had been private concerns about her health for several months before her death; he was quoted in a later biography as saying \"It was expected and we were quite aware of what was going to happen.\"\\nTwo days before her death, on 6 Septembe'),\n",
       " Document(metadata={'title': 'Queen Elizabeth 2', 'summary': 'Queen Elizabeth 2 (QE2) is a retired British passenger ship converted into a floating hotel. Originally built for the Cunard Line, the ship was operated by Cunard as both a transatlantic liner and a cruise ship from 1969 to 2008. She was then laid up until converted and since 18 April 2018 has been operating as a floating hotel in Dubai.\\nQueen Elizabeth 2 was designed for the transatlantic service from her home port of Southampton, UK, to New York, United States. She served as the flagship of the line from 1969 until succeeded by Queen Mary 2 in 2004. Queen Elizabeth 2 was designed in Cunard\\'s offices in Liverpool and Southampton and built in Clydebank, Scotland. She was considered the last of the transatlantic ocean liners until \"Project Genesis\" was announced by Cunard Line in 1995 after the business purchase of Cunard by Micky Arison; chairman of Carnival and Carnival UK. Project Genesis was intended to create new life in the ocean liner saga, and in 1998, Cunard revealed the name: RMS Queen Mary 2.\\nQueen Elizabeth 2 was refitted with a modern diesel powerplant in 1986–87. She undertook regular world cruises during almost 40 years of service, and later operated predominantly as a cruise ship, sailing out of Southampton, England. Queen Elizabeth 2 had no running mate and never ran a year-round weekly transatlantic express service to New York. She did, however, continue the Cunard tradition of regular scheduled transatlantic crossings every year of her service life.\\nQueen Elizabeth 2 retired from active Cunard service on 27 November 2008. She had been acquired by the private equity arm of Dubai World, which planned to begin conversion of the vessel to a 500-room floating hotel moored at the Palm Jumeirah, Dubai. The 2008 financial crisis intervened, however, and the ship was laid up at Dubai Drydocks and later Mina Rashid. Subsequent conversion plans were announced in 2012 and then again by the Oceanic Group in 2013, but both plans stalled. In November 2015, Cruise Arabia & Africa quoted DP World chairman Ahmed Sultan Bin Sulayem as saying that QE2 would not be scrapped and a Dubai-based construction company announced in March 2017 that it had been contracted to refurbish the ship. The restored QE2 opened to visitors on 18 April 2018, with a soft opening.', 'source': 'https://en.wikipedia.org/wiki/Queen_Elizabeth_2'}, page_content='Queen Elizabeth 2 (QE2) is a retired British passenger ship converted into a floating hotel. Originally built for the Cunard Line, the ship was operated by Cunard as both a transatlantic liner and a cruise ship from 1969 to 2008. She was then laid up until converted and since 18 April 2018 has been operating as a floating hotel in Dubai.\\nQueen Elizabeth 2 was designed for the transatlantic service from her home port of Southampton, UK, to New York, United States. She served as the flagship of the line from 1969 until succeeded by Queen Mary 2 in 2004. Queen Elizabeth 2 was designed in Cunard\\'s offices in Liverpool and Southampton and built in Clydebank, Scotland. She was considered the last of the transatlantic ocean liners until \"Project Genesis\" was announced by Cunard Line in 1995 after the business purchase of Cunard by Micky Arison; chairman of Carnival and Carnival UK. Project Genesis was intended to create new life in the ocean liner saga, and in 1998, Cunard revealed the name: RMS Queen Mary 2.\\nQueen Elizabeth 2 was refitted with a modern diesel powerplant in 1986–87. She undertook regular world cruises during almost 40 years of service, and later operated predominantly as a cruise ship, sailing out of Southampton, England. Queen Elizabeth 2 had no running mate and never ran a year-round weekly transatlantic express service to New York. She did, however, continue the Cunard tradition of regular scheduled transatlantic crossings every year of her service life.\\nQueen Elizabeth 2 retired from active Cunard service on 27 November 2008. She had been acquired by the private equity arm of Dubai World, which planned to begin conversion of the vessel to a 500-room floating hotel moored at the Palm Jumeirah, Dubai. The 2008 financial crisis intervened, however, and the ship was laid up at Dubai Drydocks and later Mina Rashid. Subsequent conversion plans were announced in 2012 and then again by the Oceanic Group in 2013, but both plans stalled. In November 2015, Cruise Arabia & Africa quoted DP World chairman Ahmed Sultan Bin Sulayem as saying that QE2 would not be scrapped and a Dubai-based construction company announced in March 2017 that it had been contracted to refurbish the ship. The restored QE2 opened to visitors on 18 April 2018, with a soft opening.\\n\\n\\n== Development ==\\n\\nBy 1957, transatlantic sea travel was becoming displaced by air transit due to its speed and low relative cost, with passenger numbers split 50:50 between them. With jets capable of spanning the ocean non-stop replacing prop planes, and the debut of the Boeing 707 and the Douglas DC8 in 1958, the trend was rapidly increasing. Simultaneously, the aging Queen Mary and Queen Elizabeth were becoming increasingly expensive to operate, and both internally and externally were relics of the pre-war era.\\nDespite falling passenger revenues, Cunard did not want to give up its traditional role as a provider of a North Atlantic passenger service and  Royal Mail carrier, and so decided to replace the obsolete Queens with a new generation liner.\\nDesignated Q3 during work-up, it was projected to measure 75,000 gross register tons, have berths for 2,270 passengers, and cost about £30 million.\\nWork had proceeded as far as the preparation of submissions from six shipyards and applying for government financial assistance with the construction when misgivings among some executives and directors, coupled with a shareholder revolt, led to the benefits of the project being reappraised and ultimately cancelled on 19 October 1961.\\nCunard decided to continue with a replacement plan but with an altered operating regime and more flexible design. Realising the decline of transatlantic trade, it was visualised that the new Queen would be dual-purpose three-class ship offering First, Cabin and Tourist passage for eight months a year on the transatlantic route, then as a cruise ship in warmer climates and during the winter months.\\nCompared with the older Queens, which had two engine roo')]"
      ]
     },
     "execution_count": 28,
     "metadata": {},
     "output_type": "execute_result"
    }
   ],
   "source": [
    "# download the wikipedia pages for \"Elizabeth II\"\n",
    "from langchain.document_loaders import WikipediaLoader\n",
    "\n",
    "raw_documents = WikipediaLoader(query=\"'Elizabeth II\").load()\n",
    "raw_documents[:3]"
   ]
  },
  {
   "cell_type": "code",
   "execution_count": 47,
   "metadata": {},
   "outputs": [],
   "source": [
    "# split the documents into chunks\n",
    "from langchain.text_splitter import TokenTextSplitter\n",
    "\n",
    "text_splitter = TokenTextSplitter(chunk_size=1024, chunk_overlap=30)\n",
    "documents = text_splitter.split_documents(raw_documents)"
   ]
  },
  {
   "cell_type": "code",
   "execution_count": 48,
   "metadata": {},
   "outputs": [
    {
     "data": {
      "text/plain": [
       "24"
      ]
     },
     "execution_count": 48,
     "metadata": {},
     "output_type": "execute_result"
    }
   ],
   "source": [
    "len(documents)"
   ]
  },
  {
   "cell_type": "code",
   "execution_count": 49,
   "metadata": {},
   "outputs": [],
   "source": [
    "# define embeddings \n",
    "embeddings = AzureOpenAIEmbeddings(\n",
    "    model=OPENAI_ADA_EMBEDDING_DEPLOYMENT_NAME,\n",
    "    azure_endpoint=OPENAI_DEPLOYMENT_ENDPOINT,\n",
    "    openai_api_version=api_version,\n",
    "    chunk_size = 1\n",
    ")"
   ]
  },
  {
   "cell_type": "code",
   "execution_count": 50,
   "metadata": {},
   "outputs": [],
   "source": [
    "#load the documents into Faiss - an in memory vector database\n",
    "from langchain.vectorstores import FAISS\n",
    "\n",
    "db = FAISS.from_documents(documents=documents, embedding=embeddings)\n",
    "# save the FAISS index to disk\n",
    "db.save_local(\"./dbs/documentation/faiss_index\")"
   ]
  },
  {
   "cell_type": "code",
   "execution_count": 51,
   "metadata": {},
   "outputs": [],
   "source": [
    "# load the vector store to memory\n",
    "from langchain.chains import RetrievalQA\n",
    "\n",
    "vectorStore = FAISS.load_local(\"./dbs/documentation/faiss_index\", embeddings, allow_dangerous_deserialization=True)\n",
    "retriever = vectorStore.as_retriever(search_type=\"similarity\", search_kwargs={\"k\": 3})  # returns 3 most similar vectors/documents\n",
    "qa = RetrievalQA.from_chain_type(llm=llm, chain_type=\"stuff\", retriever=retriever, return_source_documents=True)"
   ]
  },
  {
   "cell_type": "code",
   "execution_count": 52,
   "metadata": {},
   "outputs": [
    {
     "data": {
      "text/html": [
       "Elizabeth II belonged to the House of Windsor. The royal house was originally known as the House of Saxe-Coburg and Gotha, but it was changed to Windsor in 1917 due to anti-German sentiment during World War I."
      ],
      "text/plain": [
       "<IPython.core.display.HTML object>"
      ]
     },
     "metadata": {},
     "output_type": "display_data"
    }
   ],
   "source": [
    "# ask a question\n",
    "question = \"Which house did Elizabeth II belong to?\"\n",
    "r = qa.invoke({\"query\": question})\n",
    "\n",
    "display(HTML(r['result']))"
   ]
  },
  {
   "cell_type": "code",
   "execution_count": 53,
   "metadata": {},
   "outputs": [
    {
     "data": {
      "text/html": [
       "Elizabeth II was born into the British royal family, and her close family relationships were an integral part of her life. Here is an overview of her immediate family and relationships:\n",
       "\n",
       "**Parents:**\n",
       "- Father: King George VI (born Prince Albert, Duke of York), the second son of King George V and Queen Mary. He became king after his brother, King Edward VIII, abdicated in 1936.\n",
       "- Mother: Queen Elizabeth (born Elizabeth Angela Marguerite Bowes-Lyon), known as the Duchess of York before her husband's accession to the throne, and later as Queen Elizabeth The Queen Mother after her husband's death to avoid confusion with her daughter, Queen Elizabeth II.\n",
       "\n",
       "**Siblings:**\n",
       "- Sister: Princess Margaret, Countess of Snowdon, was Elizabeth's only sibling. The two were close during their childhood but led very different lives as adults.\n",
       "\n",
       "**Marriage:**\n",
       "- Husband: Prince Philip, Duke of Edinburgh (born Prince Philip of Greece and Denmark), whom she married on 20 November 1947. Prince Philip was a former prince of Greece and Denmark before serving in the British Royal Navy and becoming a British subject. Their marriage lasted 73 years until his death in 2021.\n",
       "\n",
       "**Children:**\n",
       "- Charles, Prince of Wales (now King Charles III), is the eldest child of Elizabeth II and Prince Philip. He became the heir apparent when his mother ascended the throne in 1952.\n",
       "- Princess Anne, The Princess Royal, is Elizabeth's only daughter and is known for her charitable work and equestrian talents.\n",
       "- Prince Andrew, Duke of York, is the third child of Elizabeth II, who has served in the Royal Navy and has been involved in various controversies.\n",
       "- Prince Edward, Earl of Wessex, is the youngest child of Elizabeth II and is involved in numerous charitable organizations and engagements.\n",
       "\n",
       "**Grandchildren:**\n",
       "Elizabeth II had eight grandchildren:\n",
       "\n",
       "1. Prince William, Duke of Cambridge (son of Charles, Prince of Wales)\n",
       "2. Prince Harry, Duke of Sussex (son of Charles, Prince of Wales)\n",
       "3. Peter Phillips (son of Princess Anne, The Princess Royal)\n",
       "4. Zara Tindall (née Phillips; daughter of Princess Anne, The Princess Royal)\n",
       "5. Princess Beatrice of York (daughter of Prince Andrew, Duke of York)\n",
       "6. Princess Eugenie of York (daughter of Prince Andrew, Duke of York)\n",
       "7. Lady Louise Windsor (daughter of Prince Edward, Earl of Wessex)\n",
       "8. James, Viscount Severn (son of Prince Edward, Earl of Wessex)\n",
       "\n",
       "**Great-Grandchildren:**\n",
       "At the time of her death, Elizabeth II also had several great-grandchildren.\n",
       "\n",
       "Elizabeth II's family relationships, like those of many royal families, were both personal and public, with her family members undertaking official roles and duties on behalf of the monarchy. Her relationship with her children and their families was often a subject of public interest and media coverage. Despite the public scrutiny, the Queen was known to have a strong sense of family and duty, often spending private time with her children, grandchildren, and great-grandchildren."
      ],
      "text/plain": [
       "<IPython.core.display.HTML object>"
      ]
     },
     "metadata": {},
     "output_type": "display_data"
    }
   ],
   "source": [
    "# ask a question\n",
    "question = \"Describe the family and relationships of Elizabeth II\"\n",
    "r = qa.invoke({\"query\": question})\n",
    "\n",
    "display(HTML(r['result']))"
   ]
  },
  {
   "cell_type": "code",
   "execution_count": 54,
   "metadata": {},
   "outputs": [],
   "source": [
    "# convert the text documents to graph documents\n",
    "from langchain_experimental.graph_transformers import LLMGraphTransformer\n",
    "\n",
    "# documents = [Document(page_content=text)]\n",
    "llm_transformer = LLMGraphTransformer(llm=llm)\n",
    "graph_documents = llm_transformer.convert_to_graph_documents(documents)\n",
    "print(f\"Nodes:{graph_documents[0].nodes}\")\n",
    "print(f\"Relationships:{graph_documents[0].relationships}\")"
   ]
  },
  {
   "cell_type": "code",
   "execution_count": 40,
   "metadata": {},
   "outputs": [],
   "source": [
    "#load the graph documents into Neo4j\n",
    "from langchain_community.graphs import Neo4jGraph\n",
    "\n",
    "graph = Neo4jGraph()\n",
    "graph.add_graph_documents(graph_documents, baseEntityLabel=True, include_source=True)"
   ]
  },
  {
   "cell_type": "code",
   "execution_count": 42,
   "metadata": {},
   "outputs": [],
   "source": [
    "# query the graphDB\n",
    "query = \"MATCH (s)-[r:!MENTIONS]->(t) RETURN s,r,t LIMIT 50\"\n",
    "\n",
    "driver = GraphDatabase.driver(uri = NEO4J_URI,auth = (NEO4J_USERNAME,NEO4J_PASSWORD))\n",
    "session = driver.session()\n",
    "graph_data = session.run(query).graph()"
   ]
  },
  {
   "cell_type": "code",
   "execution_count": 43,
   "metadata": {},
   "outputs": [
    {
     "data": {
      "application/vnd.jupyter.widget-view+json": {
       "model_id": "fb2714d7b33e4d878ff2a89f7ce07a03",
       "version_major": 2,
       "version_minor": 0
      },
      "text/plain": [
       "GraphWidget(layout=Layout(height='800px', width='100%'))"
      ]
     },
     "metadata": {},
     "output_type": "display_data"
    }
   ],
   "source": [
    "#visualize the graph\n",
    "from yfiles_jupyter_graphs import GraphWidget\n",
    "GraphWidget(graph = graph_data)"
   ]
  },
  {
   "cell_type": "code",
   "execution_count": 44,
   "metadata": {},
   "outputs": [
    {
     "name": "stderr",
     "output_type": "stream",
     "text": [
      "Received notification from DBMS server: {severity: WARNING} {code: Neo.ClientNotification.Statement.FeatureDeprecationWarning} {category: DEPRECATION} {title: This feature is deprecated and will be removed in future versions.} {description: The query used a deprecated procedure. ('db.create.setVectorProperty' has been replaced by 'db.create.setNodeVectorProperty')} {position: line: 1, column: 70, offset: 69} for query: \"UNWIND $data AS row MATCH (n:`Document`) WHERE elementId(n) = row.id CALL db.create.setVectorProperty(n, 'embedding', row.embedding) YIELD node RETURN count(*)\"\n"
     ]
    }
   ],
   "source": [
    "# add the embeddings to the graph\n",
    "from langchain_community.vectorstores import Neo4jVector\n",
    "\n",
    "vector_index = Neo4jVector.from_existing_graph(\n",
    "    embeddings,\n",
    "    search_type=\"hybrid\",\n",
    "    node_label=\"Document\",\n",
    "    text_node_properties=[\"text\"],\n",
    "    embedding_node_property=\"embedding\"\n",
    ")"
   ]
  },
  {
   "cell_type": "code",
   "execution_count": 45,
   "metadata": {},
   "outputs": [
    {
     "name": "stdout",
     "output_type": "stream",
     "text": [
      "\n",
      "text: Elizabeth II (Elizabeth Alexandra Mary; 21 April 1926 – 8 September 2022) was Queen of the United Kingdom and other Commonwealth realms from 6 February 1952 until her death in 2022. She was queen regnant of 32 sovereign states over the course of her lifetime and remained the monarch of 15 realms by the time of her death. Her reign of 70 years and 214 days is the longest of any British monarch or female monarch, and the second-longest verified reign of any monarch of a sovereign state in history.\n",
      "Elizabeth was born in Mayfair, London, during the reign of her paternal grandfather, King George V. She was the first child of the Duke and Duchess of York (later King George VI and Queen Elizabeth The Queen Mother). Her father acceded to the throne in 1936 upon the abdication of his brother Edward VIII, making the ten-year-old Princess Elizabeth the heir presumptive. She was educated privately at home and began to undertake public duties during the Second World War, serving in the Auxiliary Territorial Service. In November 1947, she married Philip Mountbatten, a former prince of Greece and Denmark, and their marriage lasted 73 years until his death in 2021. They had four children: Charles, Anne, Andrew, and Edward.\n",
      "When her father died in February 1952, Elizabeth—then 25 years old—became queen of seven independent Commonwealth countries: the United Kingdom, Canada, Australia, New Zealand, South Africa, Pakistan, and Ceylon (known today as Sri Lanka), as well as head of the Commonwealth. Elizabeth reigned as a constitutional monarch through major political changes such as the Troubles in Northern Ireland, devolution in the United Kingdom, the decolonisation of Africa, and the United Kingdom's accession to the European Communities as well as its subsequent withdrawal. The number of her realms varied over time as territories gained independence and some realms became republics. As queen, Elizabeth was served by more than 170 prime ministers across her realms. Her many historic visits and meetings included state visits to China in 1986, to Russia in 1994, and to the Republic of Ireland in 2011, and meetings with five popes and fourteen US presidents.\n",
      "Significant events included Elizabeth's coronation in 1953 and the celebrations of her Silver, Golden, Diamond, and Platinum jubilees in 1977, 2002, 2012, and 2022, respectively. Although she faced occasional republican sentiment and media criticism of her family—particularly after the breakdowns of her children's marriages, her annus horribilis in 1992, and the death in 1997 of her former daughter-in-law Diana—support for the monarchy in the United Kingdom remained consistently high throughout her lifetime, as did her personal popularity. Elizabeth died at the age of 96 at Balmoral Castle, and was succeeded by her eldest son, Charles III.\n",
      "\n",
      "\n",
      "== Early life ==\n",
      "Elizabeth was born on 21 April 1926, the first child of Prince Albert, Duke of York (later King George VI), and his wife, Elizabeth, Duchess of York (later Queen Elizabeth The Queen Mother). Her father was the second son of King George V and Queen Mary, and her mother was the youngest daughter of Scottish aristocrat Claude Bowes-Lyon, 14th Earl of Strathmore and Kinghorne. She was delivered at 02:40 (GMT) by Caesarean section at her maternal grandfather's London home, 17 Bruton Street in Mayfair. The Anglican Archbishop of York, Cosmo Gordon Lang, baptised her in the private chapel of Buckingham Palace on 29 May, and she was named Elizabeth after her mother; Alexandra after her paternal great-grandmother, who had died six months earlier; and Mary after her paternal grandmother. She was called \"Lilibet\" by her close family, based on what she called herself at first. She was cherished by her grandfather George V, whom she affectionately called \"Grandpa England\", and her regular visits during his serious illness in 1929 were credited in the popular press and by later biographers with raising his spirits and aiding his recovery.\n",
      "\n",
      "Elizabeth's \n"
     ]
    }
   ],
   "source": [
    "query = \"Describe the family and relationships of Elizabeth II\"\n",
    "\n",
    "results = vector_index.similarity_search(query, k=1)\n",
    "print(results[0].page_content)"
   ]
  }
 ],
 "metadata": {
  "kernelspec": {
   "display_name": ".venv",
   "language": "python",
   "name": "python3"
  },
  "language_info": {
   "codemirror_mode": {
    "name": "ipython",
    "version": 3
   },
   "file_extension": ".py",
   "mimetype": "text/x-python",
   "name": "python",
   "nbconvert_exporter": "python",
   "pygments_lexer": "ipython3",
   "version": "3.10.11"
  },
  "orig_nbformat": 4
 },
 "nbformat": 4,
 "nbformat_minor": 2
}
