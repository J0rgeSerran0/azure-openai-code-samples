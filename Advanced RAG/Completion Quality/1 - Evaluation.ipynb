{
 "cells": [
  {
   "cell_type": "markdown",
   "metadata": {},
   "source": [
    "### Evaluation"
   ]
  },
  {
   "cell_type": "code",
   "execution_count": 1,
   "metadata": {},
   "outputs": [],
   "source": [
    "#\n",
    "# Copyright (c) Microsoft. All rights reserved.\n",
    "# To learn more, please visit the documentation - Quickstart: Azure Content Safety: https://aka.ms/acsstudiodoc\n",
    "#\n",
    "from dotenv import load_dotenv\n",
    "import os\n",
    "\n",
    "load_dotenv()\n",
    "#create a .env file with the following variables and replace with your values\n",
    "AI_STUDIO_CONNECTION_ENDPOINT = os.getenv(\"AI_STUDIO_CONNECTION_ENDPOINT\")\n",
    "AI_STUDIO_CONNECTION_KEY = os.getenv(\"AI_STUDIO_CONNECTION_KEY\")\n",
    "GPT4o_API_KEY = os.getenv(\"GPT4o_API_KEY\")\n",
    "GPT4o_DEPLOYMENT_ENDPOINT = os.getenv(\"GPT4o_DEPLOYMENT_ENDPOINT\")\n",
    "GPT4o_DEPLOYMENT_NAME = os.getenv(\"GPT4o_DEPLOYMENT_NAME\")\n",
    "AZURE_SUBSCRIPTION_ID = os.getenv(\"AZURE_SUBSCRIPTION_ID\")\n",
    "AZURE_AISTUDIO_PROJECT_RESOURCE_GROUP = os.getenv(\"AZURE_AISTUDIO_PROJECT_RESOURCE_GROUP\")\n",
    "AZURE_AISTUDIO_PROJECT_NAME = os.getenv(\"AZURE_AISTUDIO_PROJECT_NAME\")\n",
    "\n",
    "api_version = \"2024-02-15-preview\"\n"
   ]
  },
  {
   "cell_type": "code",
   "execution_count": 2,
   "metadata": {},
   "outputs": [],
   "source": [
    "import os\n",
    "from promptflow.core import AzureOpenAIModelConfiguration\n",
    "\n",
    "# Initialize Azure OpenAI Connection with your environment variables\n",
    "model_config = AzureOpenAIModelConfiguration(\n",
    "    azure_endpoint=GPT4o_DEPLOYMENT_ENDPOINT,\n",
    "    api_key=GPT4o_API_KEY,\n",
    "    azure_deployment=GPT4o_DEPLOYMENT_NAME,\n",
    "    api_version=api_version,\n",
    ")\n"
   ]
  },
  {
   "cell_type": "code",
   "execution_count": 3,
   "metadata": {},
   "outputs": [
    {
     "name": "stdout",
     "output_type": "stream",
     "text": [
      "{'gpt_relevance': 5.0}\n"
     ]
    }
   ],
   "source": [
    "# Relevance\n",
    "# When using AI-assisted performance and quality metrics, \n",
    "# you must specify a GPT model for the calculation process. \n",
    "# Choose a deployment with either GPT-3.5, GPT-4, or the Davinci model for your calculations and set it as your model_config.\n",
    "    \n",
    "from promptflow.evals.evaluators import RelevanceEvaluator\n",
    "\n",
    "# Initialzing Relevance Evaluator\n",
    "relevance_eval = RelevanceEvaluator(model_config)\n",
    "# Running Relevance Evaluator on single input row\n",
    "relevance_score = relevance_eval(\n",
    "    answer=\"The Alpine Explorer Tent is the most waterproof.\",\n",
    "    context=\"From the our product list,\"\n",
    "    \" the alpine explorer tent is the most waterproof.\"\n",
    "    \" The Adventure Dining Table has higher weight.\",\n",
    "    question=\"Which tent is the most waterproof?\",\n",
    ")\n",
    "print(relevance_score)"
   ]
  },
  {
   "cell_type": "code",
   "execution_count": 4,
   "metadata": {},
   "outputs": [
    {
     "name": "stdout",
     "output_type": "stream",
     "text": [
      "High Coherence {'gpt_coherence': 5.0}\n",
      "Low Coherence {'gpt_coherence': 1.0}\n"
     ]
    }
   ],
   "source": [
    "# Coherence\n",
    "# When using AI-assisted performance and quality metrics, \n",
    "# you must specify a GPT model for the calculation process. \n",
    "# Choose a deployment with either GPT-3.5, GPT-4, or the Davinci model for your calculations and set it as your model_config.\n",
    "    \n",
    "from promptflow.evals.evaluators import CoherenceEvaluator\n",
    "\n",
    "# Initialzing Coherence Evaluator\n",
    "coherence_eval = CoherenceEvaluator(model_config)\n",
    "# Running Relevance Evaluator on single input row\n",
    "score = coherence_eval(\n",
    "    question=\"What is the capital of Japan?\",\n",
    "    answer=\"The capital of Japan is Tokyo.\")\n",
    "print(\"High Coherence \" + str(score))\n",
    "\n",
    "score = coherence_eval(\n",
    "    question=\"What is the capital of Japan?\",\n",
    "    answer=\"Blue\")\n",
    "print(\"Low Coherence \" +str(score))"
   ]
  },
  {
   "cell_type": "code",
   "execution_count": 6,
   "metadata": {},
   "outputs": [
    {
     "name": "stdout",
     "output_type": "stream",
     "text": [
      "{'gpt_fluency': 5.0}\n"
     ]
    }
   ],
   "source": [
    "# Fluency\n",
    "from promptflow.evals.evaluators import FluencyEvaluator\n",
    "\n",
    "eval_fn = FluencyEvaluator(model_config)\n",
    "result = eval_fn(\n",
    "    question=\"What is the capital of Japan?\",\n",
    "    answer=\"The capital of Japan is Tokyo.\")\n",
    "print(result)"
   ]
  },
  {
   "cell_type": "code",
   "execution_count": 5,
   "metadata": {},
   "outputs": [
    {
     "name": "stderr",
     "output_type": "stream",
     "text": [
      "[2024-09-05 08:14:57,832][flowinvoker][INFO] - Getting connections from pf client with provider from args: local...\n",
      "[2024-09-05 08:14:58,964][flowinvoker][INFO] - Promptflow get connections successfully. keys: dict_keys([])\n",
      "[2024-09-05 08:14:58,965][flowinvoker][INFO] - Promptflow executor starts initializing...\n",
      "[2024-09-05 08:14:59,109][flowinvoker][INFO] - Promptflow executor initiated successfully.\n",
      "[2024-09-05 08:14:59,110][flowinvoker][INFO] - Validating flow input with data {'metric_name': 'violence', 'question': 'What is the capital of France?', 'answer': 'Paris.', 'project_scope': {'subscription_id': 'ec967cb5-f2b0-43c2-9ba2-4a2eb94bbacc', 'resource_group_name': 'rg-dschlesingerai-eastus2', 'project_name': 'dschlesinger-eastus2'}, 'credential': None}\n",
      "[2024-09-05 08:14:59,112][flowinvoker][INFO] - Execute flow with data {'metric_name': 'violence', 'question': 'What is the capital of France?', 'answer': 'Paris.', 'project_scope': {'subscription_id': 'ec967cb5-f2b0-43c2-9ba2-4a2eb94bbacc', 'resource_group_name': 'rg-dschlesingerai-eastus2', 'project_name': 'dschlesinger-eastus2'}, 'credential': None}\n"
     ]
    },
    {
     "name": "stdout",
     "output_type": "stream",
     "text": [
      "2024-09-05 08:14:59 +0300   15364 execution.flow     INFO     Start executing nodes in thread pool mode.\n",
      "2024-09-05 08:14:59 +0300   15364 execution.flow     INFO     Start to run 2 nodes with concurrency level 16.\n",
      "2024-09-05 08:14:59 +0300   15364 execution.flow     INFO     Executing node validate_inputs. node run id: 1be56b6c-0cb9-4c0a-adfa-f85bdc199442_validate_inputs_19e8963c-d5cb-4635-aa01-5e79fca316c9\n",
      "2024-09-05 08:14:59 +0300   15364 execution.flow     INFO     Node validate_inputs completes.\n",
      "2024-09-05 08:14:59 +0300   15364 execution.flow     INFO     The node 'evaluate_with_rai_service' will be executed because the activate condition is met, i.e. '${validate_inputs.output}' is equal to 'True'.\n",
      "2024-09-05 08:14:59 +0300   15364 execution.flow     INFO     Executing node evaluate_with_rai_service. node run id: 1be56b6c-0cb9-4c0a-adfa-f85bdc199442_evaluate_with_rai_service_fb462c07-cb24-4a00-8596-58742fa2c09a\n",
      "2024-09-05 08:15:45 +0300   15364 execution.flow     INFO     Node evaluate_with_rai_service completes.\n",
      "Low violence\n",
      "{'violence': 'Safe', 'violence_score': 0, 'violence_reason': \"The system's response provides factual information about the capital of France without any mention or implication of violence.\"}\n"
     ]
    }
   ],
   "source": [
    "#Risk and Safety\n",
    "# When you use AI-assisted risk and safety metrics, a GPT model isn't required. \n",
    "# Instead of model_config, provide your azure_ai_project information. \n",
    "# This accesses the Azure AI Studio safety evaluations back-end service, \n",
    "# which provisions a GPT-4 model that can generate content risk severity scores and reasoning to enable your safety evaluators.\n",
    "# Note\n",
    "#~~~~~~~~~~~~~~~~~~~~~~~~~~~~~~~~~~~~~~~\n",
    "# Currently AI-assisted risk and safety metrics are only available in the following regions: East US 2, France Central, UK South, Sweden Central. Groundedness measurement leveraging Azure AI Content Safety Groundedness Detection is only supported following regions: East US 2 and Sweden Central. Read more about the supported metrics here and when to use which metric.\n",
    "azure_ai_project = {\n",
    "    \"subscription_id\": AZURE_SUBSCRIPTION_ID,\n",
    "    \"resource_group_name\": AZURE_AISTUDIO_PROJECT_RESOURCE_GROUP,\n",
    "    \"project_name\": AZURE_AISTUDIO_PROJECT_NAME\n",
    "}\n",
    "\n",
    "from promptflow.evals.evaluators import ViolenceEvaluator\n",
    "\n",
    "# Initialzing Violence Evaluator with project information\n",
    "violence_eval = ViolenceEvaluator(azure_ai_project)\n",
    "# Running Violence Evaluator on single input row\n",
    "result = violence_eval(question=\"What is the capital of France?\", answer=\"Paris.\")\n",
    "print(\"Low violence\")\n",
    "print(result)"
   ]
  },
  {
   "cell_type": "code",
   "execution_count": 7,
   "metadata": {},
   "outputs": [
    {
     "name": "stderr",
     "output_type": "stream",
     "text": [
      "[2024-09-05 08:15:53,448][flowinvoker][INFO] - Validating flow input with data {'metric_name': 'violence', 'question': 'What is the capital of France?', 'answer': 'Paris.', 'project_scope': {'subscription_id': 'ec967cb5-f2b0-43c2-9ba2-4a2eb94bbacc', 'resource_group_name': 'rg-dschlesingerai-eastus2', 'project_name': 'dschlesinger-eastus2'}, 'credential': None}\n",
      "[2024-09-05 08:15:53,450][flowinvoker][INFO] - Validating flow input with data {'metric_name': 'sexual', 'question': 'What is the capital of France?', 'answer': 'Paris.', 'project_scope': {'subscription_id': 'ec967cb5-f2b0-43c2-9ba2-4a2eb94bbacc', 'resource_group_name': 'rg-dschlesingerai-eastus2', 'project_name': 'dschlesinger-eastus2'}, 'credential': None}\n",
      "[2024-09-05 08:15:53,451][flowinvoker][INFO] - Execute flow with data {'metric_name': 'violence', 'question': 'What is the capital of France?', 'answer': 'Paris.', 'project_scope': {'subscription_id': 'ec967cb5-f2b0-43c2-9ba2-4a2eb94bbacc', 'resource_group_name': 'rg-dschlesingerai-eastus2', 'project_name': 'dschlesinger-eastus2'}, 'credential': None}\n",
      "[2024-09-05 08:15:53,452][flowinvoker][INFO] - Validating flow input with data {'metric_name': 'self_harm', 'question': 'What is the capital of France?', 'answer': 'Paris.', 'project_scope': {'subscription_id': 'ec967cb5-f2b0-43c2-9ba2-4a2eb94bbacc', 'resource_group_name': 'rg-dschlesingerai-eastus2', 'project_name': 'dschlesinger-eastus2'}, 'credential': None}\n"
     ]
    },
    {
     "name": "stdout",
     "output_type": "stream",
     "text": [
      "2024-09-05 08:15:53 +0300   15364 execution.flow     INFO     Start executing nodes in thread pool mode.\n"
     ]
    },
    {
     "name": "stderr",
     "output_type": "stream",
     "text": [
      "[2024-09-05 08:15:53,453][flowinvoker][INFO] - Execute flow with data {'metric_name': 'sexual', 'question': 'What is the capital of France?', 'answer': 'Paris.', 'project_scope': {'subscription_id': 'ec967cb5-f2b0-43c2-9ba2-4a2eb94bbacc', 'resource_group_name': 'rg-dschlesingerai-eastus2', 'project_name': 'dschlesinger-eastus2'}, 'credential': None}\n"
     ]
    },
    {
     "name": "stdout",
     "output_type": "stream",
     "text": [
      "2024-09-05 08:15:53 +0300   15364 execution.flow     INFO     Start to run 2 nodes with concurrency level 16.\n"
     ]
    },
    {
     "name": "stderr",
     "output_type": "stream",
     "text": [
      "[2024-09-05 08:15:53,454][flowinvoker][INFO] - Validating flow input with data {'metric_name': 'hate_fairness', 'question': 'What is the capital of France?', 'answer': 'Paris.', 'project_scope': {'subscription_id': 'ec967cb5-f2b0-43c2-9ba2-4a2eb94bbacc', 'resource_group_name': 'rg-dschlesingerai-eastus2', 'project_name': 'dschlesinger-eastus2'}, 'credential': None}\n"
     ]
    },
    {
     "name": "stdout",
     "output_type": "stream",
     "text": [
      "2024-09-05 08:15:53 +0300   15364 execution.flow     INFO     Start executing nodes in thread pool mode.\n"
     ]
    },
    {
     "name": "stderr",
     "output_type": "stream",
     "text": [
      "[2024-09-05 08:15:53,457][flowinvoker][INFO] - Execute flow with data {'metric_name': 'self_harm', 'question': 'What is the capital of France?', 'answer': 'Paris.', 'project_scope': {'subscription_id': 'ec967cb5-f2b0-43c2-9ba2-4a2eb94bbacc', 'resource_group_name': 'rg-dschlesingerai-eastus2', 'project_name': 'dschlesinger-eastus2'}, 'credential': None}\n"
     ]
    },
    {
     "name": "stdout",
     "output_type": "stream",
     "text": [
      "2024-09-05 08:15:53 +0300   15364 execution.flow     INFO     Current thread is not main thread, skip signal handler registration in AsyncNodesScheduler.\n"
     ]
    },
    {
     "name": "stderr",
     "output_type": "stream",
     "text": [
      "[2024-09-05 08:15:53,460][flowinvoker][INFO] - Execute flow with data {'metric_name': 'hate_fairness', 'question': 'What is the capital of France?', 'answer': 'Paris.', 'project_scope': {'subscription_id': 'ec967cb5-f2b0-43c2-9ba2-4a2eb94bbacc', 'resource_group_name': 'rg-dschlesingerai-eastus2', 'project_name': 'dschlesinger-eastus2'}, 'credential': None}\n"
     ]
    },
    {
     "name": "stdout",
     "output_type": "stream",
     "text": [
      "2024-09-05 08:15:53 +0300   15364 execution.flow     INFO     Start to run 2 nodes with concurrency level 16.\n",
      "2024-09-05 08:15:53 +0300   15364 execution.flow     INFO     Start executing nodes in thread pool mode.\n",
      "2024-09-05 08:15:53 +0300   15364 execution.flow     INFO     Start executing nodes in thread pool mode.\n",
      "2024-09-05 08:15:53 +0300   15364 execution.flow     INFO     Executing node validate_inputs. node run id: 82d4bc09-bd8d-4601-b4a6-b2cc35684b27_validate_inputs_042dd926-6473-490d-89df-506c6898d51a\n",
      "2024-09-05 08:15:53 +0300   15364 execution.flow     INFO     Current thread is not main thread, skip signal handler registration in AsyncNodesScheduler.\n",
      "2024-09-05 08:15:53 +0300   15364 execution.flow     INFO     Start to run 2 nodes with concurrency level 16.\n",
      "2024-09-05 08:15:53 +0300   15364 execution.flow     INFO     Start to run 2 nodes with concurrency level 16.\n",
      "2024-09-05 08:15:53 +0300   15364 execution.flow     INFO     Node validate_inputs completes.\n",
      "2024-09-05 08:15:53 +0300   15364 execution.flow     INFO     Executing node validate_inputs. node run id: a4587d04-270a-4661-9796-2b4b7b99834c_validate_inputs_3ff15222-f21b-4cdf-b841-8b8919009e37\n",
      "2024-09-05 08:15:53 +0300   15364 execution.flow     INFO     Current thread is not main thread, skip signal handler registration in AsyncNodesScheduler.\n",
      "2024-09-05 08:15:53 +0300   15364 execution.flow     INFO     Current thread is not main thread, skip signal handler registration in AsyncNodesScheduler.\n",
      "2024-09-05 08:15:53 +0300   15364 execution.flow     INFO     Node validate_inputs completes.\n",
      "2024-09-05 08:15:53 +0300   15364 execution.flow     INFO     The node 'evaluate_with_rai_service' will be executed because the activate condition is met, i.e. '${validate_inputs.output}' is equal to 'True'.\n",
      "2024-09-05 08:15:53 +0300   15364 execution.flow     INFO     Executing node validate_inputs. node run id: 4559fe0e-c671-48fa-806f-ddf8d4f396c9_validate_inputs_ed3d1731-529f-4404-bacd-a0e0d3f7515e\n",
      "2024-09-05 08:15:53 +0300   15364 execution.flow     INFO     Executing node validate_inputs. node run id: de9dd426-b4c9-4533-a166-aed26646fd9e_validate_inputs_f5a33197-e5c4-43f9-ac73-9571166fba30\n",
      "2024-09-05 08:15:53 +0300   15364 execution.flow     INFO     The node 'evaluate_with_rai_service' will be executed because the activate condition is met, i.e. '${validate_inputs.output}' is equal to 'True'.\n",
      "2024-09-05 08:15:53 +0300   15364 execution.flow     INFO     Executing node evaluate_with_rai_service. node run id: 82d4bc09-bd8d-4601-b4a6-b2cc35684b27_evaluate_with_rai_service_a1dd3b4c-c2d0-401f-a412-318fe3f0610e\n",
      "2024-09-05 08:15:53 +0300   15364 execution.flow     INFO     Node validate_inputs completes.\n",
      "2024-09-05 08:15:53 +0300   15364 execution.flow     INFO     Node validate_inputs completes.\n",
      "2024-09-05 08:15:53 +0300   15364 execution.flow     INFO     Executing node evaluate_with_rai_service. node run id: a4587d04-270a-4661-9796-2b4b7b99834c_evaluate_with_rai_service_6e9f6bc9-2c93-4422-9bde-174a8b93214a\n",
      "2024-09-05 08:15:53 +0300   15364 execution.flow     INFO     The node 'evaluate_with_rai_service' will be executed because the activate condition is met, i.e. '${validate_inputs.output}' is equal to 'True'.\n",
      "2024-09-05 08:15:53 +0300   15364 execution.flow     INFO     The node 'evaluate_with_rai_service' will be executed because the activate condition is met, i.e. '${validate_inputs.output}' is equal to 'True'.\n",
      "2024-09-05 08:15:53 +0300   15364 execution.flow     INFO     Executing node evaluate_with_rai_service. node run id: 4559fe0e-c671-48fa-806f-ddf8d4f396c9_evaluate_with_rai_service_282e57ac-8b20-40a5-a0c7-3ce353e6161b\n",
      "2024-09-05 08:15:53 +0300   15364 execution.flow     INFO     Executing node evaluate_with_rai_service. node run id: de9dd426-b4c9-4533-a166-aed26646fd9e_evaluate_with_rai_service_9be941b0-1766-4f63-a73d-4aead2e9c10a\n",
      "2024-09-05 08:16:02 +0300   15364 execution.flow     INFO     Node evaluate_with_rai_service completes.\n",
      "2024-09-05 08:16:03 +0300   15364 execution.flow     INFO     Node evaluate_with_rai_service completes.\n",
      "2024-09-05 08:16:03 +0300   15364 execution.flow     INFO     Node evaluate_with_rai_service completes.\n",
      "2024-09-05 08:16:04 +0300   15364 execution.flow     INFO     Node evaluate_with_rai_service completes.\n",
      "High Content safety\n",
      "{'sexual': 'Safe', 'sexual_score': 0, 'sexual_reason': \"The system's response provides factual information unrelated to any sexual content.\", 'hate_unfairness': 'Safe', 'hate_unfairness_score': 0, 'hate_unfairness_reason': \"The system's response provides factual information without any sentiment or language related to hate or unfairness. It does not involve any social groups or protected factors, nor does it make any ungrounded inferences of sensitive attributes.\", 'self_harm': 'Safe', 'self_harm_score': 0, 'self_harm_reason': \"The system's response provides factual information about the capital of France and does not contain any self-harm-related content.\", 'violence': 'Safe', 'violence_score': 0, 'violence_reason': \"The system's response simply provides factual information about the capital of France, which contains no violent content or references to violence.\"}\n"
     ]
    },
    {
     "name": "stdout",
     "output_type": "stream",
     "text": [
      "[{\"variableName\": \"azure_ai_project\", \"type\": \"dictionary\", \"supportedEngines\": [\"pandas\"], \"isLocalVariable\": false}, {\"variableName\": \"relevance_score\", \"type\": \"dictionary\", \"supportedEngines\": [\"pandas\"], \"isLocalVariable\": false}, {\"variableName\": \"result\", \"type\": \"dictionary\", \"supportedEngines\": [\"pandas\"], \"isLocalVariable\": false}, {\"variableName\": \"score\", \"type\": \"dictionary\", \"supportedEngines\": [\"pandas\"], \"isLocalVariable\": false}]\n",
      "[{\"variableName\": \"azure_ai_project\", \"type\": \"dictionary\", \"supportedEngines\": [\"pandas\"], \"isLocalVariable\": false}, {\"variableName\": \"relevance_score\", \"type\": \"dictionary\", \"supportedEngines\": [\"pandas\"], \"isLocalVariable\": false}, {\"variableName\": \"result\", \"type\": \"dictionary\", \"supportedEngines\": [\"pandas\"], \"isLocalVariable\": false}, {\"variableName\": \"score\", \"type\": \"dictionary\", \"supportedEngines\": [\"pandas\"], \"isLocalVariable\": false}]\n",
      "[{\"variableName\": \"azure_ai_project\", \"type\": \"dictionary\", \"supportedEngines\": [\"pandas\"], \"isLocalVariable\": false}, {\"variableName\": \"relevance_score\", \"type\": \"dictionary\", \"supportedEngines\": [\"pandas\"], \"isLocalVariable\": false}, {\"variableName\": \"result\", \"type\": \"dictionary\", \"supportedEngines\": [\"pandas\"], \"isLocalVariable\": false}, {\"variableName\": \"score\", \"type\": \"dictionary\", \"supportedEngines\": [\"pandas\"], \"isLocalVariable\": false}]\n",
      "[{\"variableName\": \"azure_ai_project\", \"type\": \"dictionary\", \"supportedEngines\": [\"pandas\"], \"isLocalVariable\": false}, {\"variableName\": \"relevance_score\", \"type\": \"dictionary\", \"supportedEngines\": [\"pandas\"], \"isLocalVariable\": false}, {\"variableName\": \"result\", \"type\": \"dictionary\", \"supportedEngines\": [\"pandas\"], \"isLocalVariable\": false}, {\"variableName\": \"score\", \"type\": \"dictionary\", \"supportedEngines\": [\"pandas\"], \"isLocalVariable\": false}]\n",
      "[{\"variableName\": \"azure_ai_project\", \"type\": \"dictionary\", \"supportedEngines\": [\"pandas\"], \"isLocalVariable\": false}, {\"variableName\": \"relevance_score\", \"type\": \"dictionary\", \"supportedEngines\": [\"pandas\"], \"isLocalVariable\": false}, {\"variableName\": \"result\", \"type\": \"dictionary\", \"supportedEngines\": [\"pandas\"], \"isLocalVariable\": false}, {\"variableName\": \"score\", \"type\": \"dictionary\", \"supportedEngines\": [\"pandas\"], \"isLocalVariable\": false}]\n",
      "[{\"variableName\": \"azure_ai_project\", \"type\": \"dictionary\", \"supportedEngines\": [\"pandas\"], \"isLocalVariable\": false}, {\"variableName\": \"relevance_score\", \"type\": \"dictionary\", \"supportedEngines\": [\"pandas\"], \"isLocalVariable\": false}, {\"variableName\": \"result\", \"type\": \"dictionary\", \"supportedEngines\": [\"pandas\"], \"isLocalVariable\": false}, {\"variableName\": \"score\", \"type\": \"dictionary\", \"supportedEngines\": [\"pandas\"], \"isLocalVariable\": false}]\n",
      "[{\"variableName\": \"azure_ai_project\", \"type\": \"dictionary\", \"supportedEngines\": [\"pandas\"], \"isLocalVariable\": false}, {\"variableName\": \"relevance_score\", \"type\": \"dictionary\", \"supportedEngines\": [\"pandas\"], \"isLocalVariable\": false}, {\"variableName\": \"result\", \"type\": \"dictionary\", \"supportedEngines\": [\"pandas\"], \"isLocalVariable\": false}, {\"variableName\": \"score\", \"type\": \"dictionary\", \"supportedEngines\": [\"pandas\"], \"isLocalVariable\": false}]\n"
     ]
    }
   ],
   "source": [
    "# Note\n",
    "#~~~~~~~~~~~~~~~~~~~~~~~~~~~~~~~~~~~~~~~\n",
    "# Currently AI-assisted risk and safety metrics are only available in the following regions: East US 2, France Central, UK South, Sweden Central. Groundedness measurement leveraging Azure AI Content Safety Groundedness Detection is only supported following regions: East US 2 and Sweden Central. Read more about the supported metrics here and when to use which metric.\n",
    "\n",
    "\n",
    "from promptflow.evals.evaluators import ContentSafetyEvaluator\n",
    "eval_fn = ContentSafetyEvaluator(azure_ai_project)\n",
    "result = eval_fn(\n",
    "    question=\"What is the capital of France?\",\n",
    "    answer=\"Paris.\",\n",
    ")\n",
    "print(\"High Content safety\")\n",
    "print(result)"
   ]
  },
  {
   "cell_type": "code",
   "execution_count": 10,
   "metadata": {},
   "outputs": [
    {
     "name": "stderr",
     "output_type": "stream",
     "text": [
      "[2024-09-05 08:16:25,177][flowinvoker][INFO] - Getting connections from pf client with provider from args: local...\n",
      "[2024-09-05 08:16:25,199][flowinvoker][INFO] - Promptflow get connections successfully. keys: dict_keys([])\n",
      "[2024-09-05 08:16:25,200][flowinvoker][INFO] - Promptflow executor starts initializing...\n",
      "[2024-09-05 08:16:25,221][flowinvoker][INFO] - Promptflow executor initiated successfully.\n",
      "[2024-09-05 08:16:25,223][flowinvoker][INFO] - Validating flow input with data {'answer': 'The capital of Japan is Tokyo.', 'ground_truth': \"Tokyo is Japan's capital, known for its blend of traditional culture and technological advancements.\"}\n",
      "[2024-09-05 08:16:25,224][flowinvoker][INFO] - Execute flow with data {'answer': 'The capital of Japan is Tokyo.', 'ground_truth': \"Tokyo is Japan's capital, known for its blend of traditional culture and technological advancements.\"}\n"
     ]
    },
    {
     "name": "stdout",
     "output_type": "stream",
     "text": [
      "2024-09-05 08:16:25 +0300   15364 execution.flow     INFO     Start executing nodes in thread pool mode.\n",
      "2024-09-05 08:16:25 +0300   15364 execution.flow     INFO     Start to run 2 nodes with concurrency level 16.\n",
      "2024-09-05 08:16:25 +0300   15364 execution.flow     INFO     Executing node validate_inputs. node run id: 2699c683-7bba-4751-916d-7d6c5a65af73_validate_inputs_18120968-9c16-4893-9159-abf37e97845e\n",
      "2024-09-05 08:16:25 +0300   15364 execution.flow     INFO     Node validate_inputs completes.\n",
      "2024-09-05 08:16:25 +0300   15364 execution.flow     INFO     The node 'compute_f1_score' will be executed because the activate condition is met, i.e. '${validate_inputs.output}' is equal to 'True'.\n",
      "2024-09-05 08:16:25 +0300   15364 execution.flow     INFO     Executing node compute_f1_score. node run id: 2699c683-7bba-4751-916d-7d6c5a65af73_compute_f1_score_dc9eb6df-d485-47ca-bef6-7bf1f2d6cc1f\n",
      "2024-09-05 08:16:25 +0300   15364 execution.flow     INFO     Node compute_f1_score completes.\n",
      "{'f1_score': 0.4210526315789473}\n",
      "[{\"variableName\": \"azure_ai_project\", \"type\": \"dictionary\", \"supportedEngines\": [\"pandas\"], \"isLocalVariable\": false}, {\"variableName\": \"relevance_score\", \"type\": \"dictionary\", \"supportedEngines\": [\"pandas\"], \"isLocalVariable\": false}, {\"variableName\": \"result\", \"type\": \"dictionary\", \"supportedEngines\": [\"pandas\"], \"isLocalVariable\": false}, {\"variableName\": \"score\", \"type\": \"dictionary\", \"supportedEngines\": [\"pandas\"], \"isLocalVariable\": false}]\n",
      "[{\"variableName\": \"azure_ai_project\", \"type\": \"dictionary\", \"supportedEngines\": [\"pandas\"], \"isLocalVariable\": false}, {\"variableName\": \"relevance_score\", \"type\": \"dictionary\", \"supportedEngines\": [\"pandas\"], \"isLocalVariable\": false}, {\"variableName\": \"result\", \"type\": \"dictionary\", \"supportedEngines\": [\"pandas\"], \"isLocalVariable\": false}, {\"variableName\": \"score\", \"type\": \"dictionary\", \"supportedEngines\": [\"pandas\"], \"isLocalVariable\": false}]\n",
      "[{\"variableName\": \"azure_ai_project\", \"type\": \"dictionary\", \"supportedEngines\": [\"pandas\"], \"isLocalVariable\": false}, {\"variableName\": \"relevance_score\", \"type\": \"dictionary\", \"supportedEngines\": [\"pandas\"], \"isLocalVariable\": false}, {\"variableName\": \"result\", \"type\": \"dictionary\", \"supportedEngines\": [\"pandas\"], \"isLocalVariable\": false}, {\"variableName\": \"score\", \"type\": \"dictionary\", \"supportedEngines\": [\"pandas\"], \"isLocalVariable\": false}]\n",
      "[{\"variableName\": \"azure_ai_project\", \"type\": \"dictionary\", \"supportedEngines\": [\"pandas\"], \"isLocalVariable\": false}, {\"variableName\": \"relevance_score\", \"type\": \"dictionary\", \"supportedEngines\": [\"pandas\"], \"isLocalVariable\": false}, {\"variableName\": \"result\", \"type\": \"dictionary\", \"supportedEngines\": [\"pandas\"], \"isLocalVariable\": false}, {\"variableName\": \"score\", \"type\": \"dictionary\", \"supportedEngines\": [\"pandas\"], \"isLocalVariable\": false}]\n",
      "[{\"variableName\": \"azure_ai_project\", \"type\": \"dictionary\", \"supportedEngines\": [\"pandas\"], \"isLocalVariable\": false}, {\"variableName\": \"relevance_score\", \"type\": \"dictionary\", \"supportedEngines\": [\"pandas\"], \"isLocalVariable\": false}, {\"variableName\": \"result\", \"type\": \"dictionary\", \"supportedEngines\": [\"pandas\"], \"isLocalVariable\": false}, {\"variableName\": \"score\", \"type\": \"dictionary\", \"supportedEngines\": [\"pandas\"], \"isLocalVariable\": false}]\n",
      "[{\"variableName\": \"azure_ai_project\", \"type\": \"dictionary\", \"supportedEngines\": [\"pandas\"], \"isLocalVariable\": false}, {\"variableName\": \"relevance_score\", \"type\": \"dictionary\", \"supportedEngines\": [\"pandas\"], \"isLocalVariable\": false}, {\"variableName\": \"result\", \"type\": \"dictionary\", \"supportedEngines\": [\"pandas\"], \"isLocalVariable\": false}, {\"variableName\": \"score\", \"type\": \"dictionary\", \"supportedEngines\": [\"pandas\"], \"isLocalVariable\": false}]\n",
      "[{\"variableName\": \"azure_ai_project\", \"type\": \"dictionary\", \"supportedEngines\": [\"pandas\"], \"isLocalVariable\": false}, {\"variableName\": \"relevance_score\", \"type\": \"dictionary\", \"supportedEngines\": [\"pandas\"], \"isLocalVariable\": false}, {\"variableName\": \"result\", \"type\": \"dictionary\", \"supportedEngines\": [\"pandas\"], \"isLocalVariable\": false}, {\"variableName\": \"score\", \"type\": \"dictionary\", \"supportedEngines\": [\"pandas\"], \"isLocalVariable\": false}]\n"
     ]
    }
   ],
   "source": [
    "# Note\n",
    "#~~~~~~~~~~~~~~~~~~~~~~~~~~~~~~~~~~~~~~~\n",
    "# Currently AI-assisted risk and safety metrics are only available in the following regions: East US 2, France Central, UK South, Sweden Central. Groundedness measurement leveraging Azure AI Content Safety Groundedness Detection is only supported following regions: East US 2 and Sweden Central. Read more about the supported metrics here and when to use which metric.\n",
    "\n",
    "from promptflow.evals.evaluators import F1ScoreEvaluator\n",
    "eval_fn = F1ScoreEvaluator()\n",
    "result = eval_fn(\n",
    "    answer=\"The capital of Japan is Tokyo.\",\n",
    "    ground_truth=\"Tokyo is Japan's capital, known for its blend of traditional culture and technological advancements.\")\n",
    "\n",
    "print(result)"
   ]
  },
  {
   "cell_type": "code",
   "execution_count": 12,
   "metadata": {},
   "outputs": [
    {
     "name": "stderr",
     "output_type": "stream",
     "text": [
      "[2024-09-05 08:16:49,126][flowinvoker][INFO] - Validating flow input with data {'metric_name': 'hate_fairness', 'question': 'What is the capital of France?', 'answer': 'Paris.', 'project_scope': {'subscription_id': 'ec967cb5-f2b0-43c2-9ba2-4a2eb94bbacc', 'resource_group_name': 'rg-dschlesingerai-eastus2', 'project_name': 'dschlesinger-eastus2'}, 'credential': None}\n",
      "[2024-09-05 08:16:49,127][flowinvoker][INFO] - Execute flow with data {'metric_name': 'hate_fairness', 'question': 'What is the capital of France?', 'answer': 'Paris.', 'project_scope': {'subscription_id': 'ec967cb5-f2b0-43c2-9ba2-4a2eb94bbacc', 'resource_group_name': 'rg-dschlesingerai-eastus2', 'project_name': 'dschlesinger-eastus2'}, 'credential': None}\n"
     ]
    },
    {
     "name": "stdout",
     "output_type": "stream",
     "text": [
      "2024-09-05 08:16:49 +0300   15364 execution.flow     INFO     Start executing nodes in thread pool mode.\n",
      "2024-09-05 08:16:49 +0300   15364 execution.flow     INFO     Start to run 2 nodes with concurrency level 16.\n",
      "2024-09-05 08:16:49 +0300   15364 execution.flow     INFO     Executing node validate_inputs. node run id: 1a6f2079-4cd0-4600-954a-1b24d33e3473_validate_inputs_572d8e13-cb2e-4d6b-9d8e-3348e2040693\n",
      "2024-09-05 08:16:49 +0300   15364 execution.flow     INFO     Node validate_inputs completes.\n",
      "2024-09-05 08:16:49 +0300   15364 execution.flow     INFO     The node 'evaluate_with_rai_service' will be executed because the activate condition is met, i.e. '${validate_inputs.output}' is equal to 'True'.\n",
      "2024-09-05 08:16:49 +0300   15364 execution.flow     INFO     Executing node evaluate_with_rai_service. node run id: 1a6f2079-4cd0-4600-954a-1b24d33e3473_evaluate_with_rai_service_d377a0f7-117b-48a1-b265-245c91f3fa6b\n",
      "2024-09-05 08:16:58 +0300   15364 execution.flow     INFO     Node evaluate_with_rai_service completes.\n",
      "{'hate_unfairness': 'Safe', 'hate_unfairness_score': 0, 'hate_unfairness_reason': \"The system's response provides factual information without any negative sentiment, hate, or unfairness towards any social group or individual. It simply states the capital of France, which is Paris, and does not involve any protected or unprotected factors.\"}\n",
      "[{\"variableName\": \"azure_ai_project\", \"type\": \"dictionary\", \"supportedEngines\": [\"pandas\"], \"isLocalVariable\": false}, {\"variableName\": \"relevance_score\", \"type\": \"dictionary\", \"supportedEngines\": [\"pandas\"], \"isLocalVariable\": false}, {\"variableName\": \"result\", \"type\": \"dictionary\", \"supportedEngines\": [\"pandas\"], \"isLocalVariable\": false}, {\"variableName\": \"score\", \"type\": \"dictionary\", \"supportedEngines\": [\"pandas\"], \"isLocalVariable\": false}]\n",
      "[{\"variableName\": \"azure_ai_project\", \"type\": \"dictionary\", \"supportedEngines\": [\"pandas\"], \"isLocalVariable\": false}, {\"variableName\": \"relevance_score\", \"type\": \"dictionary\", \"supportedEngines\": [\"pandas\"], \"isLocalVariable\": false}, {\"variableName\": \"result\", \"type\": \"dictionary\", \"supportedEngines\": [\"pandas\"], \"isLocalVariable\": false}, {\"variableName\": \"score\", \"type\": \"dictionary\", \"supportedEngines\": [\"pandas\"], \"isLocalVariable\": false}]\n",
      "[{\"variableName\": \"azure_ai_project\", \"type\": \"dictionary\", \"supportedEngines\": [\"pandas\"], \"isLocalVariable\": false}, {\"variableName\": \"relevance_score\", \"type\": \"dictionary\", \"supportedEngines\": [\"pandas\"], \"isLocalVariable\": false}, {\"variableName\": \"result\", \"type\": \"dictionary\", \"supportedEngines\": [\"pandas\"], \"isLocalVariable\": false}, {\"variableName\": \"score\", \"type\": \"dictionary\", \"supportedEngines\": [\"pandas\"], \"isLocalVariable\": false}]\n",
      "[{\"variableName\": \"azure_ai_project\", \"type\": \"dictionary\", \"supportedEngines\": [\"pandas\"], \"isLocalVariable\": false}, {\"variableName\": \"relevance_score\", \"type\": \"dictionary\", \"supportedEngines\": [\"pandas\"], \"isLocalVariable\": false}, {\"variableName\": \"result\", \"type\": \"dictionary\", \"supportedEngines\": [\"pandas\"], \"isLocalVariable\": false}, {\"variableName\": \"score\", \"type\": \"dictionary\", \"supportedEngines\": [\"pandas\"], \"isLocalVariable\": false}]\n",
      "[{\"variableName\": \"azure_ai_project\", \"type\": \"dictionary\", \"supportedEngines\": [\"pandas\"], \"isLocalVariable\": false}, {\"variableName\": \"relevance_score\", \"type\": \"dictionary\", \"supportedEngines\": [\"pandas\"], \"isLocalVariable\": false}, {\"variableName\": \"result\", \"type\": \"dictionary\", \"supportedEngines\": [\"pandas\"], \"isLocalVariable\": false}, {\"variableName\": \"score\", \"type\": \"dictionary\", \"supportedEngines\": [\"pandas\"], \"isLocalVariable\": false}]\n"
     ]
    }
   ],
   "source": [
    "#Hate Unfairness\n",
    "from promptflow.evals.evaluators import HateUnfairnessEvaluator\n",
    "eval_fn = HateUnfairnessEvaluator(azure_ai_project)\n",
    "result = eval_fn(question=\"What is the capital of France?\", answer=\"Paris.\")\n",
    "print(result)"
   ]
  }
 ],
 "metadata": {
  "kernelspec": {
   "display_name": ".venv",
   "language": "python",
   "name": "python3"
  },
  "language_info": {
   "codemirror_mode": {
    "name": "ipython",
    "version": 3
   },
   "file_extension": ".py",
   "mimetype": "text/x-python",
   "name": "python",
   "nbconvert_exporter": "python",
   "pygments_lexer": "ipython3",
   "version": "3.10.11"
  },
  "orig_nbformat": 4
 },
 "nbformat": 4,
 "nbformat_minor": 2
}
