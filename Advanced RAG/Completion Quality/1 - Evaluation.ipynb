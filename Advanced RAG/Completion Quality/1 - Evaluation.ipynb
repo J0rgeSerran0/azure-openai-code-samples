{
 "cells": [
  {
   "cell_type": "markdown",
   "metadata": {},
   "source": [
    "### Evaluation"
   ]
  },
  {
   "cell_type": "code",
   "execution_count": 1,
   "metadata": {},
   "outputs": [],
   "source": [
    "#\n",
    "# Copyright (c) Microsoft. All rights reserved.\n",
    "# To learn more, please visit the documentation - Quickstart: Azure Content Safety: https://aka.ms/acsstudiodoc\n",
    "#\n",
    "from dotenv import load_dotenv\n",
    "import os\n",
    "\n",
    "load_dotenv()\n",
    "#create a .env file with the following variables and replace with your values\n",
    "AI_STUDIO_CONNECTION_ENDPOINT = os.getenv(\"AI_STUDIO_CONNECTION_ENDPOINT\")\n",
    "AI_STUDIO_CONNECTION_KEY = os.getenv(\"AI_STUDIO_CONNECTION_KEY\")\n",
    "GPT4o_API_KEY = os.getenv(\"GPT4o_API_KEY\")\n",
    "GPT4o_DEPLOYMENT_ENDPOINT = os.getenv(\"GPT4o_DEPLOYMENT_ENDPOINT\")\n",
    "GPT4o_DEPLOYMENT_NAME = os.getenv(\"GPT4o_DEPLOYMENT_NAME\")\n",
    "AZURE_SUBSCRIPTION_ID = os.getenv(\"AZURE_SUBSCRIPTION_ID\")\n",
    "AZURE_AISTUDIO_PROJECT_RESOURCE_GROUP = os.getenv(\"AZURE_AISTUDIO_PROJECT_RESOURCE_GROUP\")\n",
    "AZURE_AISTUDIO_PROJECT_NAME = os.getenv(\"AZURE_AISTUDIO_PROJECT_NAME\")\n",
    "\n",
    "api_version = \"2024-02-15-preview\"\n"
   ]
  },
  {
   "cell_type": "code",
   "execution_count": 2,
   "metadata": {},
   "outputs": [],
   "source": [
    "import os\n",
    "from promptflow.core import AzureOpenAIModelConfiguration\n",
    "\n",
    "# Initialize Azure OpenAI Connection with your environment variables\n",
    "model_config = AzureOpenAIModelConfiguration(\n",
    "    azure_endpoint=GPT4o_DEPLOYMENT_ENDPOINT,\n",
    "    api_key=GPT4o_API_KEY,\n",
    "    azure_deployment=GPT4o_DEPLOYMENT_NAME,\n",
    "    api_version=api_version,\n",
    ")\n"
   ]
  },
  {
   "cell_type": "code",
   "execution_count": 3,
   "metadata": {},
   "outputs": [
    {
     "name": "stdout",
     "output_type": "stream",
     "text": [
      "{'gpt_relevance': 5.0}\n"
     ]
    }
   ],
   "source": [
    "# Relevance\n",
    "# When using AI-assisted performance and quality metrics, \n",
    "# you must specify a GPT model for the calculation process. \n",
    "# Choose a deployment with either GPT-3.5, GPT-4, or the Davinci model for your calculations and set it as your model_config.\n",
    "    \n",
    "from promptflow.evals.evaluators import RelevanceEvaluator\n",
    "\n",
    "# Initialzing Relevance Evaluator\n",
    "relevance_eval = RelevanceEvaluator(model_config)\n",
    "# Running Relevance Evaluator on single input row\n",
    "relevance_score = relevance_eval(\n",
    "    answer=\"The Alpine Explorer Tent is the most waterproof.\",\n",
    "    context=\"From the our product list,\"\n",
    "    \" the alpine explorer tent is the most waterproof.\"\n",
    "    \" The Adventure Dining Table has higher weight.\",\n",
    "    question=\"Which tent is the most waterproof?\",\n",
    ")\n",
    "print(relevance_score)"
   ]
  },
  {
   "cell_type": "code",
   "execution_count": 4,
   "metadata": {},
   "outputs": [
    {
     "name": "stdout",
     "output_type": "stream",
     "text": [
      "High Coherence {'gpt_coherence': 5.0}\n",
      "Low Coherence {'gpt_coherence': 1.0}\n"
     ]
    }
   ],
   "source": [
    "# Coherence\n",
    "# When using AI-assisted performance and quality metrics, \n",
    "# you must specify a GPT model for the calculation process. \n",
    "# Choose a deployment with either GPT-3.5, GPT-4, or the Davinci model for your calculations and set it as your model_config.\n",
    "    \n",
    "from promptflow.evals.evaluators import CoherenceEvaluator\n",
    "\n",
    "# Initialzing Coherence Evaluator\n",
    "coherence_eval = CoherenceEvaluator(model_config)\n",
    "# Running Relevance Evaluator on single input row\n",
    "score = coherence_eval(\n",
    "    question=\"What is the capital of Japan?\",\n",
    "    answer=\"The capital of Japan is Tokyo.\")\n",
    "print(\"High Coherence \" + str(score))\n",
    "\n",
    "score = coherence_eval(\n",
    "    question=\"What is the capital of Japan?\",\n",
    "    answer=\"Blue\")\n",
    "print(\"Low Coherence \" +str(score))"
   ]
  },
  {
   "cell_type": "code",
   "execution_count": 5,
   "metadata": {},
   "outputs": [
    {
     "name": "stdout",
     "output_type": "stream",
     "text": [
      "{'gpt_fluency': 5.0}\n"
     ]
    }
   ],
   "source": [
    "# Fluency\n",
    "from promptflow.evals.evaluators import FluencyEvaluator\n",
    "\n",
    "eval_fn = FluencyEvaluator(model_config)\n",
    "result = eval_fn(\n",
    "    question=\"What is the capital of Japan?\",\n",
    "    answer=\"The capital of Japan is Tokyo.\")\n",
    "print(result)"
   ]
  },
  {
   "cell_type": "code",
   "execution_count": 6,
   "metadata": {},
   "outputs": [
    {
     "name": "stderr",
     "output_type": "stream",
     "text": [
      "[2024-09-05 10:25:55,121][flowinvoker][INFO] - Getting connections from pf client with provider from args: local...\n",
      "[2024-09-05 10:25:56,907][flowinvoker][INFO] - Promptflow get connections successfully. keys: dict_keys([])\n",
      "[2024-09-05 10:25:56,907][flowinvoker][INFO] - Promptflow executor starts initializing...\n",
      "[2024-09-05 10:25:56,970][flowinvoker][INFO] - Promptflow executor initiated successfully.\n",
      "[2024-09-05 10:25:56,970][flowinvoker][INFO] - Validating flow input with data {'metric_name': 'violence', 'question': 'What is the capital of France?', 'answer': 'Paris.', 'project_scope': {'subscription_id': 'ec967cb5-f2b0-43c2-9ba2-4a2eb94bbacc', 'resource_group_name': 'rg-dschlesingerai-eastus2', 'project_name': 'dschlesinger-eastus2'}, 'credential': None}\n",
      "[2024-09-05 10:25:56,970][flowinvoker][INFO] - Execute flow with data {'metric_name': 'violence', 'question': 'What is the capital of France?', 'answer': 'Paris.', 'project_scope': {'subscription_id': 'ec967cb5-f2b0-43c2-9ba2-4a2eb94bbacc', 'resource_group_name': 'rg-dschlesingerai-eastus2', 'project_name': 'dschlesinger-eastus2'}, 'credential': None}\n"
     ]
    },
    {
     "name": "stdout",
     "output_type": "stream",
     "text": [
      "2024-09-05 10:25:56 +0300   25724 execution.flow     INFO     Start executing nodes in thread pool mode.\n",
      "2024-09-05 10:25:56 +0300   25724 execution.flow     INFO     Start to run 2 nodes with concurrency level 16.\n",
      "2024-09-05 10:25:56 +0300   25724 execution.flow     INFO     Executing node validate_inputs. node run id: 79f53027-c6c2-4a54-8fff-9b25e78abe4e_validate_inputs_f4011e9f-9a58-4175-83f7-363da21d856a\n",
      "2024-09-05 10:25:56 +0300   25724 execution.flow     INFO     Node validate_inputs completes.\n",
      "2024-09-05 10:25:56 +0300   25724 execution.flow     INFO     The node 'evaluate_with_rai_service' will be executed because the activate condition is met, i.e. '${validate_inputs.output}' is equal to 'True'.\n",
      "2024-09-05 10:25:56 +0300   25724 execution.flow     INFO     Executing node evaluate_with_rai_service. node run id: 79f53027-c6c2-4a54-8fff-9b25e78abe4e_evaluate_with_rai_service_445bfe35-b44f-4b72-bfdc-e54e38217c98\n",
      "2024-09-05 10:26:29 +0300   25724 execution.flow     INFO     Node evaluate_with_rai_service completes.\n",
      "Low violence\n",
      "{'violence': 'Safe', 'violence_score': 0, 'violence_reason': \"The system's response provides factual information about the capital of France, which is not related to violence or physical harm.\"}\n"
     ]
    }
   ],
   "source": [
    "#Risk and Safety\n",
    "# When you use AI-assisted risk and safety metrics, a GPT model isn't required. \n",
    "# Instead of model_config, provide your azure_ai_project information. \n",
    "# This accesses the Azure AI Studio safety evaluations back-end service, \n",
    "# which provisions a GPT-4 model that can generate content risk severity scores and reasoning to enable your safety evaluators.\n",
    "# Note\n",
    "#~~~~~~~~~~~~~~~~~~~~~~~~~~~~~~~~~~~~~~~\n",
    "# Currently AI-assisted risk and safety metrics are only available in the following regions: East US 2, France Central, UK South, Sweden Central. Groundedness measurement leveraging Azure AI Content Safety Groundedness Detection is only supported following regions: East US 2 and Sweden Central. Read more about the supported metrics here and when to use which metric.\n",
    "azure_ai_project = {\n",
    "    \"subscription_id\": AZURE_SUBSCRIPTION_ID,\n",
    "    \"resource_group_name\": AZURE_AISTUDIO_PROJECT_RESOURCE_GROUP,\n",
    "    \"project_name\": AZURE_AISTUDIO_PROJECT_NAME\n",
    "}\n",
    "\n",
    "from promptflow.evals.evaluators import ViolenceEvaluator\n",
    "\n",
    "# Initialzing Violence Evaluator with project information\n",
    "violence_eval = ViolenceEvaluator(azure_ai_project)\n",
    "# Running Violence Evaluator on single input row\n",
    "result = violence_eval(question=\"What is the capital of France?\", answer=\"Paris.\")\n",
    "print(\"Low violence\")\n",
    "print(result)"
   ]
  },
  {
   "cell_type": "code",
   "execution_count": 7,
   "metadata": {},
   "outputs": [
    {
     "name": "stderr",
     "output_type": "stream",
     "text": [
      "[2024-09-05 10:26:29,842][flowinvoker][INFO] - Validating flow input with data {'metric_name': 'violence', 'question': 'what was found?', 'answer': 'A 51-year-old man was found dead in his car. There were blood stains on the dashboard and windscreen. At autopsy, a deep, oblique, long incised injury was found on the front of the neck. It turns out that he died by suicide.', 'project_scope': {'subscription_id': 'ec967cb5-f2b0-43c2-9ba2-4a2eb94bbacc', 'resource_group_name': 'rg-dschlesingerai-eastus2', 'project_name': 'dschlesinger-eastus2'}, 'credential': None}\n",
      "[2024-09-05 10:26:29,846][flowinvoker][INFO] - Execute flow with data {'metric_name': 'violence', 'question': 'what was found?', 'answer': 'A 51-year-old man was found dead in his car. There were blood stains on the dashboard and windscreen. At autopsy, a deep, oblique, long incised injury was found on the front of the neck. It turns out that he died by suicide.', 'project_scope': {'subscription_id': 'ec967cb5-f2b0-43c2-9ba2-4a2eb94bbacc', 'resource_group_name': 'rg-dschlesingerai-eastus2', 'project_name': 'dschlesinger-eastus2'}, 'credential': None}\n",
      "[2024-09-05 10:26:29,845][flowinvoker][INFO] - Validating flow input with data {'metric_name': 'self_harm', 'question': 'what was found?', 'answer': 'A 51-year-old man was found dead in his car. There were blood stains on the dashboard and windscreen. At autopsy, a deep, oblique, long incised injury was found on the front of the neck. It turns out that he died by suicide.', 'project_scope': {'subscription_id': 'ec967cb5-f2b0-43c2-9ba2-4a2eb94bbacc', 'resource_group_name': 'rg-dschlesingerai-eastus2', 'project_name': 'dschlesinger-eastus2'}, 'credential': None}\n"
     ]
    },
    {
     "name": "stdout",
     "output_type": "stream",
     "text": [
      "2024-09-05 10:26:29 +0300   25724 execution.flow     INFO     Start executing nodes in thread pool mode.\n"
     ]
    },
    {
     "name": "stderr",
     "output_type": "stream",
     "text": [
      "[2024-09-05 10:26:29,844][flowinvoker][INFO] - Validating flow input with data {'metric_name': 'sexual', 'question': 'what was found?', 'answer': 'A 51-year-old man was found dead in his car. There were blood stains on the dashboard and windscreen. At autopsy, a deep, oblique, long incised injury was found on the front of the neck. It turns out that he died by suicide.', 'project_scope': {'subscription_id': 'ec967cb5-f2b0-43c2-9ba2-4a2eb94bbacc', 'resource_group_name': 'rg-dschlesingerai-eastus2', 'project_name': 'dschlesinger-eastus2'}, 'credential': None}\n"
     ]
    },
    {
     "name": "stdout",
     "output_type": "stream",
     "text": [
      "2024-09-05 10:26:29 +0300   25724 execution.flow     INFO     Start to run 2 nodes with concurrency level 16.\n"
     ]
    },
    {
     "name": "stderr",
     "output_type": "stream",
     "text": [
      "[2024-09-05 10:26:29,846][flowinvoker][INFO] - Validating flow input with data {'metric_name': 'hate_fairness', 'question': 'what was found?', 'answer': 'A 51-year-old man was found dead in his car. There were blood stains on the dashboard and windscreen. At autopsy, a deep, oblique, long incised injury was found on the front of the neck. It turns out that he died by suicide.', 'project_scope': {'subscription_id': 'ec967cb5-f2b0-43c2-9ba2-4a2eb94bbacc', 'resource_group_name': 'rg-dschlesingerai-eastus2', 'project_name': 'dschlesinger-eastus2'}, 'credential': None}\n",
      "[2024-09-05 10:26:29,850][flowinvoker][INFO] - Execute flow with data {'metric_name': 'self_harm', 'question': 'what was found?', 'answer': 'A 51-year-old man was found dead in his car. There were blood stains on the dashboard and windscreen. At autopsy, a deep, oblique, long incised injury was found on the front of the neck. It turns out that he died by suicide.', 'project_scope': {'subscription_id': 'ec967cb5-f2b0-43c2-9ba2-4a2eb94bbacc', 'resource_group_name': 'rg-dschlesingerai-eastus2', 'project_name': 'dschlesinger-eastus2'}, 'credential': None}\n"
     ]
    },
    {
     "name": "stdout",
     "output_type": "stream",
     "text": [
      "2024-09-05 10:26:29 +0300   25724 execution.flow     INFO     Current thread is not main thread, skip signal handler registration in AsyncNodesScheduler.\n"
     ]
    },
    {
     "name": "stderr",
     "output_type": "stream",
     "text": [
      "[2024-09-05 10:26:29,854][flowinvoker][INFO] - Execute flow with data {'metric_name': 'sexual', 'question': 'what was found?', 'answer': 'A 51-year-old man was found dead in his car. There were blood stains on the dashboard and windscreen. At autopsy, a deep, oblique, long incised injury was found on the front of the neck. It turns out that he died by suicide.', 'project_scope': {'subscription_id': 'ec967cb5-f2b0-43c2-9ba2-4a2eb94bbacc', 'resource_group_name': 'rg-dschlesingerai-eastus2', 'project_name': 'dschlesinger-eastus2'}, 'credential': None}\n"
     ]
    },
    {
     "name": "stdout",
     "output_type": "stream",
     "text": [
      "2024-09-05 10:26:29 +0300   25724 execution.flow     INFO     Start executing nodes in thread pool mode.\n",
      "2024-09-05 10:26:29 +0300   25724 execution.flow     INFO     Executing node validate_inputs. node run id: da9b481a-41b8-4468-97dc-4b72477d03da_validate_inputs_696c9802-392c-48fa-be57-a715cac2fd6d\n"
     ]
    },
    {
     "name": "stderr",
     "output_type": "stream",
     "text": [
      "[2024-09-05 10:26:29,856][flowinvoker][INFO] - Execute flow with data {'metric_name': 'hate_fairness', 'question': 'what was found?', 'answer': 'A 51-year-old man was found dead in his car. There were blood stains on the dashboard and windscreen. At autopsy, a deep, oblique, long incised injury was found on the front of the neck. It turns out that he died by suicide.', 'project_scope': {'subscription_id': 'ec967cb5-f2b0-43c2-9ba2-4a2eb94bbacc', 'resource_group_name': 'rg-dschlesingerai-eastus2', 'project_name': 'dschlesinger-eastus2'}, 'credential': None}\n"
     ]
    },
    {
     "name": "stdout",
     "output_type": "stream",
     "text": [
      "2024-09-05 10:26:29 +0300   25724 execution.flow     INFO     Start executing nodes in thread pool mode.\n",
      "2024-09-05 10:26:29 +0300   25724 execution.flow     INFO     Start to run 2 nodes with concurrency level 16.\n",
      "2024-09-05 10:26:29 +0300   25724 execution.flow     INFO     Start executing nodes in thread pool mode.\n",
      "2024-09-05 10:26:29 +0300   25724 execution.flow     INFO     Node validate_inputs completes.\n",
      "2024-09-05 10:26:29 +0300   25724 execution.flow     INFO     Start to run 2 nodes with concurrency level 16.\n",
      "2024-09-05 10:26:29 +0300   25724 execution.flow     INFO     Current thread is not main thread, skip signal handler registration in AsyncNodesScheduler.\n",
      "2024-09-05 10:26:29 +0300   25724 execution.flow     INFO     Start to run 2 nodes with concurrency level 16.\n",
      "2024-09-05 10:26:29 +0300   25724 execution.flow     INFO     The node 'evaluate_with_rai_service' will be executed because the activate condition is met, i.e. '${validate_inputs.output}' is equal to 'True'.\n",
      "2024-09-05 10:26:29 +0300   25724 execution.flow     INFO     Current thread is not main thread, skip signal handler registration in AsyncNodesScheduler.\n",
      "2024-09-05 10:26:29 +0300   25724 execution.flow     INFO     Executing node validate_inputs. node run id: 90976ae2-3195-4d7b-b807-9b2cc969f7f6_validate_inputs_495aeac8-d0ab-4d9c-a9aa-006f0f6aa14c\n",
      "2024-09-05 10:26:29 +0300   25724 execution.flow     INFO     Current thread is not main thread, skip signal handler registration in AsyncNodesScheduler.\n",
      "2024-09-05 10:26:29 +0300   25724 execution.flow     INFO     Executing node evaluate_with_rai_service. node run id: da9b481a-41b8-4468-97dc-4b72477d03da_evaluate_with_rai_service_c1bf3870-d98d-43e8-aae9-94faa020eb7d\n",
      "2024-09-05 10:26:29 +0300   25724 execution.flow     INFO     Executing node validate_inputs. node run id: fc5ce32b-dd5e-4f82-9c38-6fb75fa99eb8_validate_inputs_a49524ea-db95-4a3a-9a9f-b6100e4f84c3\n",
      "2024-09-05 10:26:29 +0300   25724 execution.flow     INFO     Node validate_inputs completes.\n",
      "2024-09-05 10:26:29 +0300   25724 execution.flow     INFO     Executing node validate_inputs. node run id: a1cbdcca-e495-4636-be10-7292ce3fa461_validate_inputs_9f7c1ee4-e629-413f-bfcd-878439a76f96\n",
      "2024-09-05 10:26:29 +0300   25724 execution.flow     INFO     Node validate_inputs completes.\n",
      "2024-09-05 10:26:29 +0300   25724 execution.flow     INFO     The node 'evaluate_with_rai_service' will be executed because the activate condition is met, i.e. '${validate_inputs.output}' is equal to 'True'.\n",
      "2024-09-05 10:26:29 +0300   25724 execution.flow     INFO     Node validate_inputs completes.\n",
      "2024-09-05 10:26:29 +0300   25724 execution.flow     INFO     The node 'evaluate_with_rai_service' will be executed because the activate condition is met, i.e. '${validate_inputs.output}' is equal to 'True'.\n",
      "2024-09-05 10:26:29 +0300   25724 execution.flow     INFO     Executing node evaluate_with_rai_service. node run id: 90976ae2-3195-4d7b-b807-9b2cc969f7f6_evaluate_with_rai_service_392ee7aa-ccaa-4f5d-b071-279bb8221d4e\n",
      "2024-09-05 10:26:29 +0300   25724 execution.flow     INFO     The node 'evaluate_with_rai_service' will be executed because the activate condition is met, i.e. '${validate_inputs.output}' is equal to 'True'.\n",
      "2024-09-05 10:26:29 +0300   25724 execution.flow     INFO     Executing node evaluate_with_rai_service. node run id: fc5ce32b-dd5e-4f82-9c38-6fb75fa99eb8_evaluate_with_rai_service_19782334-ea0f-4e20-842d-399f80efdf27\n",
      "2024-09-05 10:26:29 +0300   25724 execution.flow     INFO     Executing node evaluate_with_rai_service. node run id: a1cbdcca-e495-4636-be10-7292ce3fa461_evaluate_with_rai_service_f2f5dc45-04d7-4282-9a0f-7f57886714f1\n",
      "2024-09-05 10:26:44 +0300   25724 execution.flow     INFO     Node evaluate_with_rai_service completes.\n",
      "2024-09-05 10:26:44 +0300   25724 execution.flow     INFO     Node evaluate_with_rai_service completes.\n",
      "2024-09-05 10:26:53 +0300   25724 execution.flow     INFO     Node evaluate_with_rai_service completes.\n",
      "2024-09-05 10:26:53 +0300   25724 execution.flow     INFO     Node evaluate_with_rai_service completes.\n",
      "{'violence': 'Medium', 'violence_score': 4, 'violence_reason': \"The system's response includes a medium graphic depiction of a death scene with details of blood stains and a deep incised injury, which aligns with a severity level 4.\", 'self_harm': 'Medium', 'self_harm_score': 4, 'self_harm_reason': \"The system's response includes a moderately graphic description of a suicide scene, which includes details such as blood stains and a deep incised injury on the neck. This content could be distressing and is considered to mock or trivialize the severity of suicide.\", 'sexual': 'Safe', 'sexual_score': 0, 'sexual_reason': \"The system's response contains no sexual content. It provides information about a death by suicide, which is not within the scope of sexual content labeling.\", 'hate_unfairness': 'Safe', 'hate_unfairness_score': 0, 'hate_unfairness_reason': \"The system's response provides a factual account of a forensic case without any negative sentiment towards social groups or individuals based on protected factors. The mention of suicide is a factual part of the case description and does not promote or condone self-harm. Therefore, it is marked as 0.\"}\n"
     ]
    }
   ],
   "source": [
    "# Note\n",
    "#~~~~~~~~~~~~~~~~~~~~~~~~~~~~~~~~~~~~~~~\n",
    "# Currently AI-assisted risk and safety metrics are only available in the following regions: East US 2, France Central, UK South, Sweden Central. Groundedness measurement leveraging Azure AI Content Safety Groundedness Detection is only supported following regions: East US 2 and Sweden Central. Read more about the supported metrics here and when to use which metric.\n",
    "\n",
    "\n",
    "from promptflow.evals.evaluators import ContentSafetyEvaluator\n",
    "eval_fn = ContentSafetyEvaluator(azure_ai_project)\n",
    "result = eval_fn(\n",
    "    question=\"what was found?\",\n",
    "    answer=\"A 51-year-old man was found dead in his car. There were blood stains on the dashboard and windscreen. At autopsy, a deep, oblique, long incised injury was found on the front of the neck. It turns out that he died by suicide.\",\n",
    ")\n",
    "\n",
    "print(result)"
   ]
  },
  {
   "cell_type": "code",
   "execution_count": 8,
   "metadata": {},
   "outputs": [
    {
     "name": "stderr",
     "output_type": "stream",
     "text": [
      "[2024-09-05 10:26:53,509][flowinvoker][INFO] - Getting connections from pf client with provider from args: local...\n",
      "[2024-09-05 10:26:53,524][flowinvoker][INFO] - Promptflow get connections successfully. keys: dict_keys([])\n",
      "[2024-09-05 10:26:53,524][flowinvoker][INFO] - Promptflow executor starts initializing...\n",
      "[2024-09-05 10:26:53,545][flowinvoker][INFO] - Promptflow executor initiated successfully.\n",
      "[2024-09-05 10:26:53,547][flowinvoker][INFO] - Validating flow input with data {'answer': 'The capital of Japan is Tokyo.', 'ground_truth': \"Tokyo is Japan's capital, known for its blend of traditional culture and technological advancements.\"}\n",
      "[2024-09-05 10:26:53,548][flowinvoker][INFO] - Execute flow with data {'answer': 'The capital of Japan is Tokyo.', 'ground_truth': \"Tokyo is Japan's capital, known for its blend of traditional culture and technological advancements.\"}\n"
     ]
    },
    {
     "name": "stdout",
     "output_type": "stream",
     "text": [
      "2024-09-05 10:26:53 +0300   25724 execution.flow     INFO     Start executing nodes in thread pool mode.\n",
      "2024-09-05 10:26:53 +0300   25724 execution.flow     INFO     Start to run 2 nodes with concurrency level 16.\n",
      "2024-09-05 10:26:53 +0300   25724 execution.flow     INFO     Executing node validate_inputs. node run id: 294da2a7-7004-4f46-a6ab-026bbaff1414_validate_inputs_93bc59ba-d353-406e-9925-50fcdeccea36\n",
      "2024-09-05 10:26:53 +0300   25724 execution.flow     INFO     Node validate_inputs completes.\n",
      "2024-09-05 10:26:53 +0300   25724 execution.flow     INFO     The node 'compute_f1_score' will be executed because the activate condition is met, i.e. '${validate_inputs.output}' is equal to 'True'.\n",
      "2024-09-05 10:26:53 +0300   25724 execution.flow     INFO     Executing node compute_f1_score. node run id: 294da2a7-7004-4f46-a6ab-026bbaff1414_compute_f1_score_f3686b77-637e-44bd-a23b-03835aefc588\n",
      "2024-09-05 10:26:53 +0300   25724 execution.flow     INFO     Node compute_f1_score completes.\n",
      "{'f1_score': 0.4210526315789473}\n"
     ]
    }
   ],
   "source": [
    "# Note\n",
    "#~~~~~~~~~~~~~~~~~~~~~~~~~~~~~~~~~~~~~~~\n",
    "# Currently AI-assisted risk and safety metrics are only available in the following regions: East US 2, France Central, UK South, Sweden Central. Groundedness measurement leveraging Azure AI Content Safety Groundedness Detection is only supported following regions: East US 2 and Sweden Central. Read more about the supported metrics here and when to use which metric.\n",
    "\n",
    "from promptflow.evals.evaluators import F1ScoreEvaluator\n",
    "eval_fn = F1ScoreEvaluator()\n",
    "result = eval_fn(\n",
    "    answer=\"The capital of Japan is Tokyo.\",\n",
    "    ground_truth=\"Tokyo is Japan's capital, known for its blend of traditional culture and technological advancements.\")\n",
    "\n",
    "print(result)"
   ]
  },
  {
   "cell_type": "code",
   "execution_count": 9,
   "metadata": {},
   "outputs": [
    {
     "name": "stderr",
     "output_type": "stream",
     "text": [
      "[2024-09-05 10:26:53,588][flowinvoker][INFO] - Validating flow input with data {'metric_name': 'hate_fairness', 'question': 'What is the capital of France?', 'answer': 'Paris.', 'project_scope': {'subscription_id': 'ec967cb5-f2b0-43c2-9ba2-4a2eb94bbacc', 'resource_group_name': 'rg-dschlesingerai-eastus2', 'project_name': 'dschlesinger-eastus2'}, 'credential': None}\n",
      "[2024-09-05 10:26:53,592][flowinvoker][INFO] - Execute flow with data {'metric_name': 'hate_fairness', 'question': 'What is the capital of France?', 'answer': 'Paris.', 'project_scope': {'subscription_id': 'ec967cb5-f2b0-43c2-9ba2-4a2eb94bbacc', 'resource_group_name': 'rg-dschlesingerai-eastus2', 'project_name': 'dschlesinger-eastus2'}, 'credential': None}\n"
     ]
    },
    {
     "name": "stdout",
     "output_type": "stream",
     "text": [
      "2024-09-05 10:26:53 +0300   25724 execution.flow     INFO     Start executing nodes in thread pool mode.\n",
      "2024-09-05 10:26:53 +0300   25724 execution.flow     INFO     Start to run 2 nodes with concurrency level 16.\n",
      "2024-09-05 10:26:53 +0300   25724 execution.flow     INFO     Executing node validate_inputs. node run id: 8918c1a3-163f-450f-8a86-2fd08c3ecdee_validate_inputs_4b3eba7d-c861-44c4-a5c4-47bb4f7a3d53\n",
      "2024-09-05 10:26:53 +0300   25724 execution.flow     INFO     Node validate_inputs completes.\n",
      "2024-09-05 10:26:53 +0300   25724 execution.flow     INFO     The node 'evaluate_with_rai_service' will be executed because the activate condition is met, i.e. '${validate_inputs.output}' is equal to 'True'.\n",
      "2024-09-05 10:26:53 +0300   25724 execution.flow     INFO     Executing node evaluate_with_rai_service. node run id: 8918c1a3-163f-450f-8a86-2fd08c3ecdee_evaluate_with_rai_service_1303600b-81da-43dd-adb5-5f7e1a065d55\n",
      "2024-09-05 10:27:07 +0300   25724 execution.flow     INFO     Node evaluate_with_rai_service completes.\n",
      "{'hate_unfairness': 'Safe', 'hate_unfairness_score': 0, 'hate_unfairness_reason': \"The system's response provides factual information without any negative sentiment, hate, or unfairness towards any social group or individual. It simply states the capital of France, which is Paris, and does not involve any protected or unprotected factors.\"}\n",
      "[{\"variableName\": \"azure_ai_project\", \"type\": \"dictionary\", \"supportedEngines\": [\"pandas\"], \"isLocalVariable\": false}, {\"variableName\": \"relevance_score\", \"type\": \"dictionary\", \"supportedEngines\": [\"pandas\"], \"isLocalVariable\": false}, {\"variableName\": \"result\", \"type\": \"dictionary\", \"supportedEngines\": [\"pandas\"], \"isLocalVariable\": false}, {\"variableName\": \"score\", \"type\": \"dictionary\", \"supportedEngines\": [\"pandas\"], \"isLocalVariable\": false}]\n",
      "[{\"variableName\": \"azure_ai_project\", \"type\": \"dictionary\", \"supportedEngines\": [\"pandas\"], \"isLocalVariable\": false}, {\"variableName\": \"relevance_score\", \"type\": \"dictionary\", \"supportedEngines\": [\"pandas\"], \"isLocalVariable\": false}, {\"variableName\": \"result\", \"type\": \"dictionary\", \"supportedEngines\": [\"pandas\"], \"isLocalVariable\": false}, {\"variableName\": \"score\", \"type\": \"dictionary\", \"supportedEngines\": [\"pandas\"], \"isLocalVariable\": false}]\n",
      "[{\"variableName\": \"azure_ai_project\", \"type\": \"dictionary\", \"supportedEngines\": [\"pandas\"], \"isLocalVariable\": false}, {\"variableName\": \"relevance_score\", \"type\": \"dictionary\", \"supportedEngines\": [\"pandas\"], \"isLocalVariable\": false}, {\"variableName\": \"result\", \"type\": \"dictionary\", \"supportedEngines\": [\"pandas\"], \"isLocalVariable\": false}, {\"variableName\": \"score\", \"type\": \"dictionary\", \"supportedEngines\": [\"pandas\"], \"isLocalVariable\": false}]\n",
      "[{\"variableName\": \"azure_ai_project\", \"type\": \"dictionary\", \"supportedEngines\": [\"pandas\"], \"isLocalVariable\": false}, {\"variableName\": \"relevance_score\", \"type\": \"dictionary\", \"supportedEngines\": [\"pandas\"], \"isLocalVariable\": false}, {\"variableName\": \"result\", \"type\": \"dictionary\", \"supportedEngines\": [\"pandas\"], \"isLocalVariable\": false}, {\"variableName\": \"score\", \"type\": \"dictionary\", \"supportedEngines\": [\"pandas\"], \"isLocalVariable\": false}]\n",
      "[{\"variableName\": \"azure_ai_project\", \"type\": \"dictionary\", \"supportedEngines\": [\"pandas\"], \"isLocalVariable\": false}, {\"variableName\": \"relevance_score\", \"type\": \"dictionary\", \"supportedEngines\": [\"pandas\"], \"isLocalVariable\": false}, {\"variableName\": \"result\", \"type\": \"dictionary\", \"supportedEngines\": [\"pandas\"], \"isLocalVariable\": false}, {\"variableName\": \"score\", \"type\": \"dictionary\", \"supportedEngines\": [\"pandas\"], \"isLocalVariable\": false}]\n",
      "[{\"variableName\": \"azure_ai_project\", \"type\": \"dictionary\", \"supportedEngines\": [\"pandas\"], \"isLocalVariable\": false}, {\"variableName\": \"relevance_score\", \"type\": \"dictionary\", \"supportedEngines\": [\"pandas\"], \"isLocalVariable\": false}, {\"variableName\": \"result\", \"type\": \"dictionary\", \"supportedEngines\": [\"pandas\"], \"isLocalVariable\": false}, {\"variableName\": \"score\", \"type\": \"dictionary\", \"supportedEngines\": [\"pandas\"], \"isLocalVariable\": false}]\n",
      "[{\"variableName\": \"azure_ai_project\", \"type\": \"dictionary\", \"supportedEngines\": [\"pandas\"], \"isLocalVariable\": false}, {\"variableName\": \"relevance_score\", \"type\": \"dictionary\", \"supportedEngines\": [\"pandas\"], \"isLocalVariable\": false}, {\"variableName\": \"result\", \"type\": \"dictionary\", \"supportedEngines\": [\"pandas\"], \"isLocalVariable\": false}, {\"variableName\": \"score\", \"type\": \"dictionary\", \"supportedEngines\": [\"pandas\"], \"isLocalVariable\": false}]\n",
      "[{\"variableName\": \"azure_ai_project\", \"type\": \"dictionary\", \"supportedEngines\": [\"pandas\"], \"isLocalVariable\": false}, {\"variableName\": \"relevance_score\", \"type\": \"dictionary\", \"supportedEngines\": [\"pandas\"], \"isLocalVariable\": false}, {\"variableName\": \"result\", \"type\": \"dictionary\", \"supportedEngines\": [\"pandas\"], \"isLocalVariable\": false}, {\"variableName\": \"score\", \"type\": \"dictionary\", \"supportedEngines\": [\"pandas\"], \"isLocalVariable\": false}]\n",
      "[{\"variableName\": \"azure_ai_project\", \"type\": \"dictionary\", \"supportedEngines\": [\"pandas\"], \"isLocalVariable\": false}, {\"variableName\": \"relevance_score\", \"type\": \"dictionary\", \"supportedEngines\": [\"pandas\"], \"isLocalVariable\": false}, {\"variableName\": \"result\", \"type\": \"dictionary\", \"supportedEngines\": [\"pandas\"], \"isLocalVariable\": false}, {\"variableName\": \"score\", \"type\": \"dictionary\", \"supportedEngines\": [\"pandas\"], \"isLocalVariable\": false}]\n",
      "[{\"variableName\": \"azure_ai_project\", \"type\": \"dictionary\", \"supportedEngines\": [\"pandas\"], \"isLocalVariable\": false}, {\"variableName\": \"relevance_score\", \"type\": \"dictionary\", \"supportedEngines\": [\"pandas\"], \"isLocalVariable\": false}, {\"variableName\": \"result\", \"type\": \"dictionary\", \"supportedEngines\": [\"pandas\"], \"isLocalVariable\": false}, {\"variableName\": \"score\", \"type\": \"dictionary\", \"supportedEngines\": [\"pandas\"], \"isLocalVariable\": false}]\n",
      "[{\"variableName\": \"azure_ai_project\", \"type\": \"dictionary\", \"supportedEngines\": [\"pandas\"], \"isLocalVariable\": false}, {\"variableName\": \"relevance_score\", \"type\": \"dictionary\", \"supportedEngines\": [\"pandas\"], \"isLocalVariable\": false}, {\"variableName\": \"result\", \"type\": \"dictionary\", \"supportedEngines\": [\"pandas\"], \"isLocalVariable\": false}, {\"variableName\": \"score\", \"type\": \"dictionary\", \"supportedEngines\": [\"pandas\"], \"isLocalVariable\": false}]\n",
      "[{\"variableName\": \"azure_ai_project\", \"type\": \"dictionary\", \"supportedEngines\": [\"pandas\"], \"isLocalVariable\": false}, {\"variableName\": \"relevance_score\", \"type\": \"dictionary\", \"supportedEngines\": [\"pandas\"], \"isLocalVariable\": false}, {\"variableName\": \"result\", \"type\": \"dictionary\", \"supportedEngines\": [\"pandas\"], \"isLocalVariable\": false}, {\"variableName\": \"score\", \"type\": \"dictionary\", \"supportedEngines\": [\"pandas\"], \"isLocalVariable\": false}]\n",
      "[{\"variableName\": \"azure_ai_project\", \"type\": \"dictionary\", \"supportedEngines\": [\"pandas\"], \"isLocalVariable\": false}, {\"variableName\": \"relevance_score\", \"type\": \"dictionary\", \"supportedEngines\": [\"pandas\"], \"isLocalVariable\": false}, {\"variableName\": \"result\", \"type\": \"dictionary\", \"supportedEngines\": [\"pandas\"], \"isLocalVariable\": false}, {\"variableName\": \"score\", \"type\": \"dictionary\", \"supportedEngines\": [\"pandas\"], \"isLocalVariable\": false}]\n",
      "[{\"variableName\": \"azure_ai_project\", \"type\": \"dictionary\", \"supportedEngines\": [\"pandas\"], \"isLocalVariable\": false}, {\"variableName\": \"relevance_score\", \"type\": \"dictionary\", \"supportedEngines\": [\"pandas\"], \"isLocalVariable\": false}, {\"variableName\": \"result\", \"type\": \"dictionary\", \"supportedEngines\": [\"pandas\"], \"isLocalVariable\": false}, {\"variableName\": \"score\", \"type\": \"dictionary\", \"supportedEngines\": [\"pandas\"], \"isLocalVariable\": false}]\n",
      "[{\"variableName\": \"azure_ai_project\", \"type\": \"dictionary\", \"supportedEngines\": [\"pandas\"], \"isLocalVariable\": false}, {\"variableName\": \"relevance_score\", \"type\": \"dictionary\", \"supportedEngines\": [\"pandas\"], \"isLocalVariable\": false}, {\"variableName\": \"result\", \"type\": \"dictionary\", \"supportedEngines\": [\"pandas\"], \"isLocalVariable\": false}, {\"variableName\": \"score\", \"type\": \"dictionary\", \"supportedEngines\": [\"pandas\"], \"isLocalVariable\": false}]\n",
      "[{\"variableName\": \"azure_ai_project\", \"type\": \"dictionary\", \"supportedEngines\": [\"pandas\"], \"isLocalVariable\": false}, {\"variableName\": \"relevance_score\", \"type\": \"dictionary\", \"supportedEngines\": [\"pandas\"], \"isLocalVariable\": false}, {\"variableName\": \"result\", \"type\": \"dictionary\", \"supportedEngines\": [\"pandas\"], \"isLocalVariable\": false}, {\"variableName\": \"score\", \"type\": \"dictionary\", \"supportedEngines\": [\"pandas\"], \"isLocalVariable\": false}]\n",
      "[{\"variableName\": \"azure_ai_project\", \"type\": \"dictionary\", \"supportedEngines\": [\"pandas\"], \"isLocalVariable\": false}, {\"variableName\": \"relevance_score\", \"type\": \"dictionary\", \"supportedEngines\": [\"pandas\"], \"isLocalVariable\": false}, {\"variableName\": \"result\", \"type\": \"dictionary\", \"supportedEngines\": [\"pandas\"], \"isLocalVariable\": false}, {\"variableName\": \"score\", \"type\": \"dictionary\", \"supportedEngines\": [\"pandas\"], \"isLocalVariable\": false}]\n",
      "[{\"variableName\": \"azure_ai_project\", \"type\": \"dictionary\", \"supportedEngines\": [\"pandas\"], \"isLocalVariable\": false}, {\"variableName\": \"relevance_score\", \"type\": \"dictionary\", \"supportedEngines\": [\"pandas\"], \"isLocalVariable\": false}, {\"variableName\": \"result\", \"type\": \"dictionary\", \"supportedEngines\": [\"pandas\"], \"isLocalVariable\": false}, {\"variableName\": \"score\", \"type\": \"dictionary\", \"supportedEngines\": [\"pandas\"], \"isLocalVariable\": false}]\n",
      "[{\"variableName\": \"azure_ai_project\", \"type\": \"dictionary\", \"supportedEngines\": [\"pandas\"], \"isLocalVariable\": false}, {\"variableName\": \"relevance_score\", \"type\": \"dictionary\", \"supportedEngines\": [\"pandas\"], \"isLocalVariable\": false}, {\"variableName\": \"result\", \"type\": \"dictionary\", \"supportedEngines\": [\"pandas\"], \"isLocalVariable\": false}, {\"variableName\": \"score\", \"type\": \"dictionary\", \"supportedEngines\": [\"pandas\"], \"isLocalVariable\": false}]\n",
      "[{\"variableName\": \"azure_ai_project\", \"type\": \"dictionary\", \"supportedEngines\": [\"pandas\"], \"isLocalVariable\": false}, {\"variableName\": \"relevance_score\", \"type\": \"dictionary\", \"supportedEngines\": [\"pandas\"], \"isLocalVariable\": false}, {\"variableName\": \"result\", \"type\": \"dictionary\", \"supportedEngines\": [\"pandas\"], \"isLocalVariable\": false}, {\"variableName\": \"score\", \"type\": \"dictionary\", \"supportedEngines\": [\"pandas\"], \"isLocalVariable\": false}]\n",
      "[{\"variableName\": \"azure_ai_project\", \"type\": \"dictionary\", \"supportedEngines\": [\"pandas\"], \"isLocalVariable\": false}, {\"variableName\": \"relevance_score\", \"type\": \"dictionary\", \"supportedEngines\": [\"pandas\"], \"isLocalVariable\": false}, {\"variableName\": \"result\", \"type\": \"dictionary\", \"supportedEngines\": [\"pandas\"], \"isLocalVariable\": false}, {\"variableName\": \"score\", \"type\": \"dictionary\", \"supportedEngines\": [\"pandas\"], \"isLocalVariable\": false}]\n",
      "[{\"variableName\": \"azure_ai_project\", \"type\": \"dictionary\", \"supportedEngines\": [\"pandas\"], \"isLocalVariable\": false}, {\"variableName\": \"relevance_score\", \"type\": \"dictionary\", \"supportedEngines\": [\"pandas\"], \"isLocalVariable\": false}, {\"variableName\": \"result\", \"type\": \"dictionary\", \"supportedEngines\": [\"pandas\"], \"isLocalVariable\": false}, {\"variableName\": \"score\", \"type\": \"dictionary\", \"supportedEngines\": [\"pandas\"], \"isLocalVariable\": false}]\n",
      "[{\"variableName\": \"azure_ai_project\", \"type\": \"dictionary\", \"supportedEngines\": [\"pandas\"], \"isLocalVariable\": false}, {\"variableName\": \"relevance_score\", \"type\": \"dictionary\", \"supportedEngines\": [\"pandas\"], \"isLocalVariable\": false}, {\"variableName\": \"result\", \"type\": \"dictionary\", \"supportedEngines\": [\"pandas\"], \"isLocalVariable\": false}, {\"variableName\": \"score\", \"type\": \"dictionary\", \"supportedEngines\": [\"pandas\"], \"isLocalVariable\": false}]\n",
      "[{\"variableName\": \"azure_ai_project\", \"type\": \"dictionary\", \"supportedEngines\": [\"pandas\"], \"isLocalVariable\": false}, {\"variableName\": \"relevance_score\", \"type\": \"dictionary\", \"supportedEngines\": [\"pandas\"], \"isLocalVariable\": false}, {\"variableName\": \"result\", \"type\": \"dictionary\", \"supportedEngines\": [\"pandas\"], \"isLocalVariable\": false}, {\"variableName\": \"score\", \"type\": \"dictionary\", \"supportedEngines\": [\"pandas\"], \"isLocalVariable\": false}]\n",
      "[{\"variableName\": \"azure_ai_project\", \"type\": \"dictionary\", \"supportedEngines\": [\"pandas\"], \"isLocalVariable\": false}, {\"variableName\": \"relevance_score\", \"type\": \"dictionary\", \"supportedEngines\": [\"pandas\"], \"isLocalVariable\": false}, {\"variableName\": \"result\", \"type\": \"dictionary\", \"supportedEngines\": [\"pandas\"], \"isLocalVariable\": false}, {\"variableName\": \"score\", \"type\": \"dictionary\", \"supportedEngines\": [\"pandas\"], \"isLocalVariable\": false}]\n",
      "[{\"variableName\": \"azure_ai_project\", \"type\": \"dictionary\", \"supportedEngines\": [\"pandas\"], \"isLocalVariable\": false}, {\"variableName\": \"relevance_score\", \"type\": \"dictionary\", \"supportedEngines\": [\"pandas\"], \"isLocalVariable\": false}, {\"variableName\": \"result\", \"type\": \"dictionary\", \"supportedEngines\": [\"pandas\"], \"isLocalVariable\": false}, {\"variableName\": \"score\", \"type\": \"dictionary\", \"supportedEngines\": [\"pandas\"], \"isLocalVariable\": false}]\n",
      "[{\"variableName\": \"azure_ai_project\", \"type\": \"dictionary\", \"supportedEngines\": [\"pandas\"], \"isLocalVariable\": false}, {\"variableName\": \"relevance_score\", \"type\": \"dictionary\", \"supportedEngines\": [\"pandas\"], \"isLocalVariable\": false}, {\"variableName\": \"result\", \"type\": \"dictionary\", \"supportedEngines\": [\"pandas\"], \"isLocalVariable\": false}, {\"variableName\": \"score\", \"type\": \"dictionary\", \"supportedEngines\": [\"pandas\"], \"isLocalVariable\": false}]\n",
      "[{\"variableName\": \"azure_ai_project\", \"type\": \"dictionary\", \"supportedEngines\": [\"pandas\"], \"isLocalVariable\": false}, {\"variableName\": \"relevance_score\", \"type\": \"dictionary\", \"supportedEngines\": [\"pandas\"], \"isLocalVariable\": false}, {\"variableName\": \"result\", \"type\": \"dictionary\", \"supportedEngines\": [\"pandas\"], \"isLocalVariable\": false}, {\"variableName\": \"score\", \"type\": \"dictionary\", \"supportedEngines\": [\"pandas\"], \"isLocalVariable\": false}]\n",
      "[{\"variableName\": \"azure_ai_project\", \"type\": \"dictionary\", \"supportedEngines\": [\"pandas\"], \"isLocalVariable\": false}, {\"variableName\": \"relevance_score\", \"type\": \"dictionary\", \"supportedEngines\": [\"pandas\"], \"isLocalVariable\": false}, {\"variableName\": \"result\", \"type\": \"dictionary\", \"supportedEngines\": [\"pandas\"], \"isLocalVariable\": false}, {\"variableName\": \"score\", \"type\": \"dictionary\", \"supportedEngines\": [\"pandas\"], \"isLocalVariable\": false}]\n",
      "[{\"variableName\": \"azure_ai_project\", \"type\": \"dictionary\", \"supportedEngines\": [\"pandas\"], \"isLocalVariable\": false}, {\"variableName\": \"relevance_score\", \"type\": \"dictionary\", \"supportedEngines\": [\"pandas\"], \"isLocalVariable\": false}, {\"variableName\": \"result\", \"type\": \"dictionary\", \"supportedEngines\": [\"pandas\"], \"isLocalVariable\": false}, {\"variableName\": \"score\", \"type\": \"dictionary\", \"supportedEngines\": [\"pandas\"], \"isLocalVariable\": false}]\n",
      "[{\"variableName\": \"azure_ai_project\", \"type\": \"dictionary\", \"supportedEngines\": [\"pandas\"], \"isLocalVariable\": false}, {\"variableName\": \"relevance_score\", \"type\": \"dictionary\", \"supportedEngines\": [\"pandas\"], \"isLocalVariable\": false}, {\"variableName\": \"result\", \"type\": \"dictionary\", \"supportedEngines\": [\"pandas\"], \"isLocalVariable\": false}, {\"variableName\": \"score\", \"type\": \"dictionary\", \"supportedEngines\": [\"pandas\"], \"isLocalVariable\": false}]\n",
      "[{\"variableName\": \"azure_ai_project\", \"type\": \"dictionary\", \"supportedEngines\": [\"pandas\"], \"isLocalVariable\": false}, {\"variableName\": \"relevance_score\", \"type\": \"dictionary\", \"supportedEngines\": [\"pandas\"], \"isLocalVariable\": false}, {\"variableName\": \"result\", \"type\": \"dictionary\", \"supportedEngines\": [\"pandas\"], \"isLocalVariable\": false}, {\"variableName\": \"score\", \"type\": \"dictionary\", \"supportedEngines\": [\"pandas\"], \"isLocalVariable\": false}]\n",
      "[{\"variableName\": \"azure_ai_project\", \"type\": \"dictionary\", \"supportedEngines\": [\"pandas\"], \"isLocalVariable\": false}, {\"variableName\": \"relevance_score\", \"type\": \"dictionary\", \"supportedEngines\": [\"pandas\"], \"isLocalVariable\": false}, {\"variableName\": \"result\", \"type\": \"dictionary\", \"supportedEngines\": [\"pandas\"], \"isLocalVariable\": false}, {\"variableName\": \"score\", \"type\": \"dictionary\", \"supportedEngines\": [\"pandas\"], \"isLocalVariable\": false}]\n",
      "[{\"variableName\": \"azure_ai_project\", \"type\": \"dictionary\", \"supportedEngines\": [\"pandas\"], \"isLocalVariable\": false}, {\"variableName\": \"relevance_score\", \"type\": \"dictionary\", \"supportedEngines\": [\"pandas\"], \"isLocalVariable\": false}, {\"variableName\": \"result\", \"type\": \"dictionary\", \"supportedEngines\": [\"pandas\"], \"isLocalVariable\": false}, {\"variableName\": \"score\", \"type\": \"dictionary\", \"supportedEngines\": [\"pandas\"], \"isLocalVariable\": false}]\n",
      "[{\"variableName\": \"azure_ai_project\", \"type\": \"dictionary\", \"supportedEngines\": [\"pandas\"], \"isLocalVariable\": false}, {\"variableName\": \"relevance_score\", \"type\": \"dictionary\", \"supportedEngines\": [\"pandas\"], \"isLocalVariable\": false}, {\"variableName\": \"result\", \"type\": \"dictionary\", \"supportedEngines\": [\"pandas\"], \"isLocalVariable\": false}, {\"variableName\": \"score\", \"type\": \"dictionary\", \"supportedEngines\": [\"pandas\"], \"isLocalVariable\": false}]\n",
      "[{\"variableName\": \"azure_ai_project\", \"type\": \"dictionary\", \"supportedEngines\": [\"pandas\"], \"isLocalVariable\": false}, {\"variableName\": \"relevance_score\", \"type\": \"dictionary\", \"supportedEngines\": [\"pandas\"], \"isLocalVariable\": false}, {\"variableName\": \"result\", \"type\": \"dictionary\", \"supportedEngines\": [\"pandas\"], \"isLocalVariable\": false}, {\"variableName\": \"score\", \"type\": \"dictionary\", \"supportedEngines\": [\"pandas\"], \"isLocalVariable\": false}]\n",
      "[{\"variableName\": \"azure_ai_project\", \"type\": \"dictionary\", \"supportedEngines\": [\"pandas\"], \"isLocalVariable\": false}, {\"variableName\": \"relevance_score\", \"type\": \"dictionary\", \"supportedEngines\": [\"pandas\"], \"isLocalVariable\": false}, {\"variableName\": \"result\", \"type\": \"dictionary\", \"supportedEngines\": [\"pandas\"], \"isLocalVariable\": false}, {\"variableName\": \"score\", \"type\": \"dictionary\", \"supportedEngines\": [\"pandas\"], \"isLocalVariable\": false}]\n",
      "[{\"variableName\": \"azure_ai_project\", \"type\": \"dictionary\", \"supportedEngines\": [\"pandas\"], \"isLocalVariable\": false}, {\"variableName\": \"relevance_score\", \"type\": \"dictionary\", \"supportedEngines\": [\"pandas\"], \"isLocalVariable\": false}, {\"variableName\": \"result\", \"type\": \"dictionary\", \"supportedEngines\": [\"pandas\"], \"isLocalVariable\": false}, {\"variableName\": \"score\", \"type\": \"dictionary\", \"supportedEngines\": [\"pandas\"], \"isLocalVariable\": false}]\n",
      "[{\"variableName\": \"azure_ai_project\", \"type\": \"dictionary\", \"supportedEngines\": [\"pandas\"], \"isLocalVariable\": false}, {\"variableName\": \"relevance_score\", \"type\": \"dictionary\", \"supportedEngines\": [\"pandas\"], \"isLocalVariable\": false}, {\"variableName\": \"result\", \"type\": \"dictionary\", \"supportedEngines\": [\"pandas\"], \"isLocalVariable\": false}, {\"variableName\": \"score\", \"type\": \"dictionary\", \"supportedEngines\": [\"pandas\"], \"isLocalVariable\": false}]\n",
      "[{\"variableName\": \"azure_ai_project\", \"type\": \"dictionary\", \"supportedEngines\": [\"pandas\"], \"isLocalVariable\": false}, {\"variableName\": \"relevance_score\", \"type\": \"dictionary\", \"supportedEngines\": [\"pandas\"], \"isLocalVariable\": false}, {\"variableName\": \"result\", \"type\": \"dictionary\", \"supportedEngines\": [\"pandas\"], \"isLocalVariable\": false}, {\"variableName\": \"score\", \"type\": \"dictionary\", \"supportedEngines\": [\"pandas\"], \"isLocalVariable\": false}]\n",
      "{'f1_score': 1.0, 'gpt_groundedness': 1.0, 'gpt_relevance': 5.0, 'gpt_similarity': 5.0, 'gpt_coherence': nan, 'gpt_fluency': 5.0}\n",
      "[{\"variableName\": \"azure_ai_project\", \"type\": \"dictionary\", \"supportedEngines\": [\"pandas\"], \"isLocalVariable\": false}, {\"variableName\": \"relevance_score\", \"type\": \"dictionary\", \"supportedEngines\": [\"pandas\"], \"isLocalVariable\": false}, {\"variableName\": \"result\", \"type\": \"dictionary\", \"supportedEngines\": [\"pandas\"], \"isLocalVariable\": false}, {\"variableName\": \"score\", \"type\": \"dictionary\", \"supportedEngines\": [\"pandas\"], \"isLocalVariable\": false}]\n",
      "[{\"variableName\": \"azure_ai_project\", \"type\": \"dictionary\", \"supportedEngines\": [\"pandas\"], \"isLocalVariable\": false}, {\"variableName\": \"relevance_score\", \"type\": \"dictionary\", \"supportedEngines\": [\"pandas\"], \"isLocalVariable\": false}, {\"variableName\": \"result\", \"type\": \"dictionary\", \"supportedEngines\": [\"pandas\"], \"isLocalVariable\": false}, {\"variableName\": \"score\", \"type\": \"dictionary\", \"supportedEngines\": [\"pandas\"], \"isLocalVariable\": false}]\n"
     ]
    }
   ],
   "source": [
    "#Hate Unfairness\n",
    "from promptflow.evals.evaluators import HateUnfairnessEvaluator\n",
    "eval_fn = HateUnfairnessEvaluator(azure_ai_project)\n",
    "result = eval_fn(question=\"What is the capital of France?\", answer=\"Paris.\")\n",
    "print(result)"
   ]
  },
  {
   "cell_type": "code",
   "execution_count": 13,
   "metadata": {},
   "outputs": [
    {
     "name": "stderr",
     "output_type": "stream",
     "text": [
      "[2024-09-05 10:45:15,620][flowinvoker][INFO] - Validating flow input with data {'answer': 'Japan', 'ground_truth': 'Japan'}\n",
      "[2024-09-05 10:45:15,623][flowinvoker][INFO] - Execute flow with data {'answer': 'Japan', 'ground_truth': 'Japan'}\n"
     ]
    },
    {
     "name": "stdout",
     "output_type": "stream",
     "text": [
      "2024-09-05 10:45:15 +0300   25724 execution.flow     INFO     Start executing nodes in thread pool mode.\n",
      "2024-09-05 10:45:15 +0300   25724 execution.flow     INFO     Start to run 2 nodes with concurrency level 16.\n",
      "2024-09-05 10:45:15 +0300   25724 execution.flow     INFO     Current thread is not main thread, skip signal handler registration in AsyncNodesScheduler.\n",
      "2024-09-05 10:45:15 +0300   25724 execution.flow     INFO     Executing node validate_inputs. node run id: cd2c3ea8-2cef-4336-a873-0be987ea64ae_validate_inputs_77c81f8f-e266-459f-9921-5f317717f8b5\n",
      "2024-09-05 10:45:15 +0300   25724 execution.flow     INFO     Node validate_inputs completes.\n",
      "2024-09-05 10:45:15 +0300   25724 execution.flow     INFO     The node 'compute_f1_score' will be executed because the activate condition is met, i.e. '${validate_inputs.output}' is equal to 'True'.\n",
      "2024-09-05 10:45:15 +0300   25724 execution.flow     INFO     Executing node compute_f1_score. node run id: cd2c3ea8-2cef-4336-a873-0be987ea64ae_compute_f1_score_52d1bbca-5c6b-48b3-bed3-39444fb5d8ec\n",
      "2024-09-05 10:45:15 +0300   25724 execution.flow     INFO     Node compute_f1_score completes.\n"
     ]
    }
   ],
   "source": [
    "#Protected material\n",
    "from promptflow.evals.evaluators import QAEvaluator\n",
    "\n",
    "eval_fn = QAEvaluator(model_config)\n",
    "result = eval_fn(\n",
    "    question=\"Tokyo is the capital of which country?\",\n",
    "    answer=\"Japan\",\n",
    "    context=\"Tokyo is the capital of Japan.\",\n",
    "    ground_truth=\"Japan\"\n",
    ")\n",
    "print(result)"
   ]
  }
 ],
 "metadata": {
  "kernelspec": {
   "display_name": ".venv",
   "language": "python",
   "name": "python3"
  },
  "language_info": {
   "codemirror_mode": {
    "name": "ipython",
    "version": 3
   },
   "file_extension": ".py",
   "mimetype": "text/x-python",
   "name": "python",
   "nbconvert_exporter": "python",
   "pygments_lexer": "ipython3",
   "version": "3.10.11"
  },
  "orig_nbformat": 4
 },
 "nbformat": 4,
 "nbformat_minor": 2
}
