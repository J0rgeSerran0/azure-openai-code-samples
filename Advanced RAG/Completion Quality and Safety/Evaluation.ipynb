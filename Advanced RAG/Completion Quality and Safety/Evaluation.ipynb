{
 "cells": [
  {
   "cell_type": "markdown",
   "metadata": {},
   "source": [
    "### Evaluation"
   ]
  },
  {
   "cell_type": "code",
   "execution_count": 1,
   "metadata": {},
   "outputs": [],
   "source": [
    "#\n",
    "# Copyright (c) Microsoft. All rights reserved.\n",
    "# To learn more, please visit the documentation - Quickstart: Azure Content Safety: https://aka.ms/acsstudiodoc\n",
    "#\n",
    "from dotenv import load_dotenv\n",
    "import os\n",
    "\n",
    "load_dotenv()\n",
    "#create a .env file with the following variables and replace with your values\n",
    "AI_STUDIO_CONNECTION_ENDPOINT = os.getenv(\"AI_STUDIO_CONNECTION_ENDPOINT\")\n",
    "AI_STUDIO_CONNECTION_KEY = os.getenv(\"AI_STUDIO_CONNECTION_KEY\")\n",
    "GPT4o_API_KEY = os.getenv(\"GPT4o_API_KEY\")\n",
    "GPT4o_DEPLOYMENT_ENDPOINT = os.getenv(\"GPT4o_DEPLOYMENT_ENDPOINT\")\n",
    "GPT4o_DEPLOYMENT_NAME = os.getenv(\"GPT4o_DEPLOYMENT_NAME\")\n",
    "AZURE_SUBSCRIPTION_ID = os.getenv(\"AZURE_SUBSCRIPTION_ID\")\n",
    "AZURE_AISTUDIO_PROJECT_RESOURCE_GROUP = os.getenv(\"AZURE_AISTUDIO_PROJECT_RESOURCE_GROUP\")\n",
    "AZURE_AISTUDIO_PROJECT_NAME = os.getenv(\"AZURE_AISTUDIO_PROJECT_NAME\")\n",
    "\n",
    "api_version = \"2024-02-15-preview\"\n"
   ]
  },
  {
   "cell_type": "code",
   "execution_count": 2,
   "metadata": {},
   "outputs": [],
   "source": [
    "import os\n",
    "from promptflow.core import AzureOpenAIModelConfiguration\n",
    "\n",
    "# Initialize Azure OpenAI Connection with your environment variables\n",
    "model_config = AzureOpenAIModelConfiguration(\n",
    "    azure_endpoint=GPT4o_DEPLOYMENT_ENDPOINT,\n",
    "    api_key=GPT4o_API_KEY,\n",
    "    azure_deployment=GPT4o_DEPLOYMENT_NAME,\n",
    "    api_version=api_version,\n",
    ")\n"
   ]
  },
  {
   "cell_type": "code",
   "execution_count": 5,
   "metadata": {},
   "outputs": [
    {
     "name": "stdout",
     "output_type": "stream",
     "text": [
      "{'gpt_groundedness': 5.0}\n"
     ]
    }
   ],
   "source": [
    "from promptflow.evals.evaluators import GroundednessEvaluator\n",
    "eval_fn = GroundednessEvaluator(model_config)\n",
    "result = eval_fn(\n",
    "    answer=\"The capital of Japan is Tokyo.\",\n",
    "    context=\"Tokyo is Japan's capital, known for its blend of traditional culture and technological advancements.\")\n",
    "print(result)"
   ]
  },
  {
   "cell_type": "code",
   "execution_count": 18,
   "metadata": {},
   "outputs": [],
   "source": [
    "# Relevance\n",
    "# When using AI-assisted performance and quality metrics, \n",
    "# you must specify a GPT model for the calculation process. \n",
    "# Choose a deployment with either GPT-3.5, GPT-4, or the Davinci model for your calculations and set it as your model_config.\n",
    "    \n",
    "from promptflow.evals.evaluators import RelevanceEvaluator\n",
    "\n",
    "# Initialzing Relevance Evaluator\n",
    "relevance_eval = RelevanceEvaluator(model_config)\n",
    "# Running Relevance Evaluator on single input row\n",
    "relevance_score = relevance_eval(\n",
    "    answer=\"The Alpine Explorer Tent is the most waterproof.\",\n",
    "    context=\"From the our product list,\"\n",
    "    \" the alpine explorer tent is the most waterproof.\"\n",
    "    \" The Adventure Dining Table has higher weight.\",\n",
    "    question=\"Which tent is the most waterproof?\",\n",
    ")\n",
    "print(relevance_score)"
   ]
  },
  {
   "cell_type": "code",
   "execution_count": 19,
   "metadata": {},
   "outputs": [],
   "source": [
    "# Coherence\n",
    "# When using AI-assisted performance and quality metrics, \n",
    "# you must specify a GPT model for the calculation process. \n",
    "# Choose a deployment with either GPT-3.5, GPT-4, or the Davinci model for your calculations and set it as your model_config.\n",
    "    \n",
    "from promptflow.evals.evaluators import CoherenceEvaluator\n",
    "\n",
    "# Initialzing Coherence Evaluator\n",
    "coherence_eval = CoherenceEvaluator(model_config)\n",
    "# Running Relevance Evaluator on single input row\n",
    "score = coherence_eval(\n",
    "    question=\"What is the capital of Japan?\",\n",
    "    answer=\"The capital of Japan is Tokyo.\")\n",
    "print(\"High Coherence \" + str(score))\n",
    "\n",
    "score = coherence_eval(\n",
    "    question=\"What is the capital of Japan?\",\n",
    "    answer=\"Blue\")\n",
    "print(\"Low Coherence \" +str(score))"
   ]
  },
  {
   "cell_type": "code",
   "execution_count": 20,
   "metadata": {},
   "outputs": [],
   "source": [
    "# Fluency\n",
    "from promptflow.evals.evaluators import FluencyEvaluator\n",
    "\n",
    "eval_fn = FluencyEvaluator(model_config)\n",
    "result = eval_fn(\n",
    "    question=\"What is the capital of Japan?\",\n",
    "    answer=\"The capital of Japan is Tokyo.\")\n",
    "print(result)"
   ]
  },
  {
   "cell_type": "code",
   "execution_count": 21,
   "metadata": {},
   "outputs": [
    {
     "name": "stderr",
     "output_type": "stream",
     "text": [
      "[2024-09-05 14:36:47,537][flowinvoker][INFO] - Validating flow input with data {'metric_name': 'violence', 'question': 'What is the capital of France?', 'answer': 'Paris.', 'project_scope': {'subscription_id': 'ec967cb5-f2b0-43c2-9ba2-4a2eb94bbacc', 'resource_group_name': 'rg-dschlesingerai-eastus2', 'project_name': 'dschlesinger-eastus2'}, 'credential': None}\n",
      "[2024-09-05 14:36:47,537][flowinvoker][INFO] - Execute flow with data {'metric_name': 'violence', 'question': 'What is the capital of France?', 'answer': 'Paris.', 'project_scope': {'subscription_id': 'ec967cb5-f2b0-43c2-9ba2-4a2eb94bbacc', 'resource_group_name': 'rg-dschlesingerai-eastus2', 'project_name': 'dschlesinger-eastus2'}, 'credential': None}\n"
     ]
    },
    {
     "name": "stdout",
     "output_type": "stream",
     "text": [
      "2024-09-05 14:36:47 +0300   25724 execution.flow     INFO     Start executing nodes in thread pool mode.\n",
      "2024-09-05 14:36:47 +0300   25724 execution.flow     INFO     Start to run 2 nodes with concurrency level 16.\n",
      "2024-09-05 14:36:47 +0300   25724 execution.flow     INFO     Executing node validate_inputs. node run id: 8006972b-c4c4-4fbe-b453-3f2987254ea6_validate_inputs_6bf4f9b8-b66c-441b-8c32-ad11af993304\n",
      "2024-09-05 14:36:47 +0300   25724 execution.flow     INFO     Node validate_inputs completes.\n",
      "2024-09-05 14:36:47 +0300   25724 execution.flow     INFO     The node 'evaluate_with_rai_service' will be executed because the activate condition is met, i.e. '${validate_inputs.output}' is equal to 'True'.\n",
      "2024-09-05 14:36:47 +0300   25724 execution.flow     INFO     Executing node evaluate_with_rai_service. node run id: 8006972b-c4c4-4fbe-b453-3f2987254ea6_evaluate_with_rai_service_e900d431-66cf-4d89-aa4e-8a6a1590b54c\n",
      "2024-09-05 14:36:59 +0300   25724 execution.flow     INFO     Node evaluate_with_rai_service completes.\n",
      "Low violence\n",
      "{'violence': 'Safe', 'violence_score': 0, 'violence_reason': \"The system's response provides factual information about the capital of France without any mention or implication of violence.\"}\n",
      "[{\"variableName\": \"azure_ai_project\", \"type\": \"dictionary\", \"supportedEngines\": [\"pandas\"], \"isLocalVariable\": false}, {\"variableName\": \"relevance_score\", \"type\": \"dictionary\", \"supportedEngines\": [\"pandas\"], \"isLocalVariable\": false}, {\"variableName\": \"result\", \"type\": \"dictionary\", \"supportedEngines\": [\"pandas\"], \"isLocalVariable\": false}, {\"variableName\": \"score\", \"type\": \"dictionary\", \"supportedEngines\": [\"pandas\"], \"isLocalVariable\": false}]\n",
      "[{\"variableName\": \"azure_ai_project\", \"type\": \"dictionary\", \"supportedEngines\": [\"pandas\"], \"isLocalVariable\": false}, {\"variableName\": \"relevance_score\", \"type\": \"dictionary\", \"supportedEngines\": [\"pandas\"], \"isLocalVariable\": false}, {\"variableName\": \"result\", \"type\": \"dictionary\", \"supportedEngines\": [\"pandas\"], \"isLocalVariable\": false}, {\"variableName\": \"score\", \"type\": \"dictionary\", \"supportedEngines\": [\"pandas\"], \"isLocalVariable\": false}]\n",
      "[{\"variableName\": \"azure_ai_project\", \"type\": \"dictionary\", \"supportedEngines\": [\"pandas\"], \"isLocalVariable\": false}, {\"variableName\": \"relevance_score\", \"type\": \"dictionary\", \"supportedEngines\": [\"pandas\"], \"isLocalVariable\": false}, {\"variableName\": \"result\", \"type\": \"dictionary\", \"supportedEngines\": [\"pandas\"], \"isLocalVariable\": false}, {\"variableName\": \"score\", \"type\": \"dictionary\", \"supportedEngines\": [\"pandas\"], \"isLocalVariable\": false}]\n"
     ]
    }
   ],
   "source": [
    "#Risk and Safety\n",
    "# When you use AI-assisted risk and safety metrics, a GPT model isn't required. \n",
    "# Instead of model_config, provide your azure_ai_project information. \n",
    "# This accesses the Azure AI Studio safety evaluations back-end service, \n",
    "# which provisions a GPT-4 model that can generate content risk severity scores and reasoning to enable your safety evaluators.\n",
    "# Note\n",
    "#~~~~~~~~~~~~~~~~~~~~~~~~~~~~~~~~~~~~~~~\n",
    "# Currently AI-assisted risk and safety metrics are only available in the following regions: East US 2, France Central, UK South, Sweden Central. Groundedness measurement leveraging Azure AI Content Safety Groundedness Detection is only supported following regions: East US 2 and Sweden Central. Read more about the supported metrics here and when to use which metric.\n",
    "azure_ai_project = {\n",
    "    \"subscription_id\": AZURE_SUBSCRIPTION_ID,\n",
    "    \"resource_group_name\": AZURE_AISTUDIO_PROJECT_RESOURCE_GROUP,\n",
    "    \"project_name\": AZURE_AISTUDIO_PROJECT_NAME\n",
    "}\n",
    "\n",
    "from promptflow.evals.evaluators import ViolenceEvaluator\n",
    "\n",
    "# Initialzing Violence Evaluator with project information\n",
    "violence_eval = ViolenceEvaluator(azure_ai_project)\n",
    "# Running Violence Evaluator on single input row\n",
    "result = violence_eval(question=\"What is the capital of France?\", answer=\"Paris.\")\n",
    "print(\"Low violence\")\n",
    "print(result)"
   ]
  },
  {
   "cell_type": "code",
   "execution_count": 22,
   "metadata": {},
   "outputs": [
    {
     "name": "stderr",
     "output_type": "stream",
     "text": [
      "[2024-09-05 14:37:13,506][flowinvoker][INFO] - Validating flow input with data {'metric_name': 'violence', 'question': 'what was found?', 'answer': 'A 51-year-old man was found dead in his car. There were blood stains on the dashboard and windscreen. At autopsy, a deep, oblique, long incised injury was found on the front of the neck. It turns out that he died by suicide.', 'project_scope': {'subscription_id': 'ec967cb5-f2b0-43c2-9ba2-4a2eb94bbacc', 'resource_group_name': 'rg-dschlesingerai-eastus2', 'project_name': 'dschlesinger-eastus2'}, 'credential': None}\n",
      "[2024-09-05 14:37:13,534][flowinvoker][INFO] - Execute flow with data {'metric_name': 'violence', 'question': 'what was found?', 'answer': 'A 51-year-old man was found dead in his car. There were blood stains on the dashboard and windscreen. At autopsy, a deep, oblique, long incised injury was found on the front of the neck. It turns out that he died by suicide.', 'project_scope': {'subscription_id': 'ec967cb5-f2b0-43c2-9ba2-4a2eb94bbacc', 'resource_group_name': 'rg-dschlesingerai-eastus2', 'project_name': 'dschlesinger-eastus2'}, 'credential': None}\n"
     ]
    },
    {
     "name": "stdout",
     "output_type": "stream",
     "text": [
      "2024-09-05 14:37:13 +0300   25724 execution.flow     INFO     Start executing nodes in thread pool mode.\n"
     ]
    },
    {
     "name": "stderr",
     "output_type": "stream",
     "text": [
      "[2024-09-05 14:37:13,533][flowinvoker][INFO] - Validating flow input with data {'metric_name': 'sexual', 'question': 'what was found?', 'answer': 'A 51-year-old man was found dead in his car. There were blood stains on the dashboard and windscreen. At autopsy, a deep, oblique, long incised injury was found on the front of the neck. It turns out that he died by suicide.', 'project_scope': {'subscription_id': 'ec967cb5-f2b0-43c2-9ba2-4a2eb94bbacc', 'resource_group_name': 'rg-dschlesingerai-eastus2', 'project_name': 'dschlesinger-eastus2'}, 'credential': None}\n"
     ]
    },
    {
     "name": "stdout",
     "output_type": "stream",
     "text": [
      "2024-09-05 14:37:13 +0300   25724 execution.flow     INFO     Start to run 2 nodes with concurrency level 16.\n"
     ]
    },
    {
     "name": "stderr",
     "output_type": "stream",
     "text": [
      "[2024-09-05 14:37:13,534][flowinvoker][INFO] - Validating flow input with data {'metric_name': 'self_harm', 'question': 'what was found?', 'answer': 'A 51-year-old man was found dead in his car. There were blood stains on the dashboard and windscreen. At autopsy, a deep, oblique, long incised injury was found on the front of the neck. It turns out that he died by suicide.', 'project_scope': {'subscription_id': 'ec967cb5-f2b0-43c2-9ba2-4a2eb94bbacc', 'resource_group_name': 'rg-dschlesingerai-eastus2', 'project_name': 'dschlesinger-eastus2'}, 'credential': None}\n"
     ]
    },
    {
     "name": "stdout",
     "output_type": "stream",
     "text": [
      "2024-09-05 14:37:13 +0300   25724 execution.flow     INFO     Current thread is not main thread, skip signal handler registration in AsyncNodesScheduler.\n"
     ]
    },
    {
     "name": "stderr",
     "output_type": "stream",
     "text": [
      "[2024-09-05 14:37:13,539][flowinvoker][INFO] - Validating flow input with data {'metric_name': 'hate_fairness', 'question': 'what was found?', 'answer': 'A 51-year-old man was found dead in his car. There were blood stains on the dashboard and windscreen. At autopsy, a deep, oblique, long incised injury was found on the front of the neck. It turns out that he died by suicide.', 'project_scope': {'subscription_id': 'ec967cb5-f2b0-43c2-9ba2-4a2eb94bbacc', 'resource_group_name': 'rg-dschlesingerai-eastus2', 'project_name': 'dschlesinger-eastus2'}, 'credential': None}\n"
     ]
    },
    {
     "name": "stdout",
     "output_type": "stream",
     "text": [
      "2024-09-05 14:37:13 +0300   25724 execution.flow     INFO     Executing node validate_inputs. node run id: e58a7d04-b9d5-4863-9311-741a82870d8e_validate_inputs_9f6868da-6de3-4878-8858-94e89c5b0127\n",
      "2024-09-05 14:37:13 +0300   25724 execution.flow     INFO     Node validate_inputs completes.\n"
     ]
    },
    {
     "name": "stderr",
     "output_type": "stream",
     "text": [
      "[2024-09-05 14:37:13,539][flowinvoker][INFO] - Execute flow with data {'metric_name': 'sexual', 'question': 'what was found?', 'answer': 'A 51-year-old man was found dead in his car. There were blood stains on the dashboard and windscreen. At autopsy, a deep, oblique, long incised injury was found on the front of the neck. It turns out that he died by suicide.', 'project_scope': {'subscription_id': 'ec967cb5-f2b0-43c2-9ba2-4a2eb94bbacc', 'resource_group_name': 'rg-dschlesingerai-eastus2', 'project_name': 'dschlesinger-eastus2'}, 'credential': None}\n"
     ]
    },
    {
     "name": "stdout",
     "output_type": "stream",
     "text": [
      "2024-09-05 14:37:13 +0300   25724 execution.flow     INFO     The node 'evaluate_with_rai_service' will be executed because the activate condition is met, i.e. '${validate_inputs.output}' is equal to 'True'.\n"
     ]
    },
    {
     "name": "stderr",
     "output_type": "stream",
     "text": [
      "[2024-09-05 14:37:13,542][flowinvoker][INFO] - Execute flow with data {'metric_name': 'self_harm', 'question': 'what was found?', 'answer': 'A 51-year-old man was found dead in his car. There were blood stains on the dashboard and windscreen. At autopsy, a deep, oblique, long incised injury was found on the front of the neck. It turns out that he died by suicide.', 'project_scope': {'subscription_id': 'ec967cb5-f2b0-43c2-9ba2-4a2eb94bbacc', 'resource_group_name': 'rg-dschlesingerai-eastus2', 'project_name': 'dschlesinger-eastus2'}, 'credential': None}\n",
      "[2024-09-05 14:37:13,544][flowinvoker][INFO] - Execute flow with data {'metric_name': 'hate_fairness', 'question': 'what was found?', 'answer': 'A 51-year-old man was found dead in his car. There were blood stains on the dashboard and windscreen. At autopsy, a deep, oblique, long incised injury was found on the front of the neck. It turns out that he died by suicide.', 'project_scope': {'subscription_id': 'ec967cb5-f2b0-43c2-9ba2-4a2eb94bbacc', 'resource_group_name': 'rg-dschlesingerai-eastus2', 'project_name': 'dschlesinger-eastus2'}, 'credential': None}\n"
     ]
    },
    {
     "name": "stdout",
     "output_type": "stream",
     "text": [
      "2024-09-05 14:37:13 +0300   25724 execution.flow     INFO     Start executing nodes in thread pool mode.\n",
      "2024-09-05 14:37:13 +0300   25724 execution.flow     INFO     Start executing nodes in thread pool mode.\n",
      "2024-09-05 14:37:13 +0300   25724 execution.flow     INFO     Start to run 2 nodes with concurrency level 16.\n",
      "2024-09-05 14:37:13 +0300   25724 execution.flow     INFO     Current thread is not main thread, skip signal handler registration in AsyncNodesScheduler.\n",
      "2024-09-05 14:37:13 +0300   25724 execution.flow     INFO     Start to run 2 nodes with concurrency level 16.\n",
      "2024-09-05 14:37:13 +0300   25724 execution.flow     INFO     Executing node evaluate_with_rai_service. node run id: e58a7d04-b9d5-4863-9311-741a82870d8e_evaluate_with_rai_service_4ec45857-bfb7-431d-8976-cacd23b71d2e\n",
      "2024-09-05 14:37:13 +0300   25724 execution.flow     INFO     Start executing nodes in thread pool mode.\n",
      "2024-09-05 14:37:13 +0300   25724 execution.flow     INFO     Executing node validate_inputs. node run id: 4733f0d4-ac4c-4f9f-818f-3d9939fb2e86_validate_inputs_ffa4300f-7993-4237-bd31-14f748ab9d79\n",
      "2024-09-05 14:37:13 +0300   25724 execution.flow     INFO     Current thread is not main thread, skip signal handler registration in AsyncNodesScheduler.\n",
      "2024-09-05 14:37:13 +0300   25724 execution.flow     INFO     Start to run 2 nodes with concurrency level 16.\n",
      "2024-09-05 14:37:13 +0300   25724 execution.flow     INFO     Node validate_inputs completes.\n",
      "2024-09-05 14:37:13 +0300   25724 execution.flow     INFO     Executing node validate_inputs. node run id: 0d65ce2c-9e59-405c-98c8-4f5308fc0eaa_validate_inputs_526f84ec-cbdc-4947-ab11-95a0e230dca3\n",
      "2024-09-05 14:37:13 +0300   25724 execution.flow     INFO     Current thread is not main thread, skip signal handler registration in AsyncNodesScheduler.\n",
      "2024-09-05 14:37:13 +0300   25724 execution.flow     INFO     The node 'evaluate_with_rai_service' will be executed because the activate condition is met, i.e. '${validate_inputs.output}' is equal to 'True'.\n",
      "2024-09-05 14:37:13 +0300   25724 execution.flow     INFO     Node validate_inputs completes.\n",
      "2024-09-05 14:37:13 +0300   25724 execution.flow     INFO     Executing node validate_inputs. node run id: 598c73f0-be8e-4069-be6b-921734d2f36a_validate_inputs_c9355396-6057-4102-b791-9d0f96227dce\n",
      "2024-09-05 14:37:13 +0300   25724 execution.flow     INFO     Executing node evaluate_with_rai_service. node run id: 4733f0d4-ac4c-4f9f-818f-3d9939fb2e86_evaluate_with_rai_service_08aed968-660d-4894-8bde-ba10e2e9a4e8\n",
      "2024-09-05 14:37:13 +0300   25724 execution.flow     INFO     The node 'evaluate_with_rai_service' will be executed because the activate condition is met, i.e. '${validate_inputs.output}' is equal to 'True'.\n",
      "2024-09-05 14:37:13 +0300   25724 execution.flow     INFO     Node validate_inputs completes.\n",
      "2024-09-05 14:37:13 +0300   25724 execution.flow     INFO     Executing node evaluate_with_rai_service. node run id: 0d65ce2c-9e59-405c-98c8-4f5308fc0eaa_evaluate_with_rai_service_4c57082b-bbeb-4a91-b874-27ce6f0d9565\n",
      "2024-09-05 14:37:13 +0300   25724 execution.flow     INFO     The node 'evaluate_with_rai_service' will be executed because the activate condition is met, i.e. '${validate_inputs.output}' is equal to 'True'.\n",
      "2024-09-05 14:37:13 +0300   25724 execution.flow     INFO     Executing node evaluate_with_rai_service. node run id: 598c73f0-be8e-4069-be6b-921734d2f36a_evaluate_with_rai_service_63435a44-9437-49aa-b53f-0cafe6f43e12\n",
      "2024-09-05 14:37:23 +0300   25724 execution.flow     INFO     Node evaluate_with_rai_service completes.\n",
      "2024-09-05 14:37:23 +0300   25724 execution.flow     INFO     Node evaluate_with_rai_service completes.\n",
      "2024-09-05 14:37:24 +0300   25724 execution.flow     INFO     Node evaluate_with_rai_service completes.\n",
      "2024-09-05 14:37:28 +0300   25724 execution.flow     INFO     Node evaluate_with_rai_service completes.\n"
     ]
    }
   ],
   "source": [
    "# Note\n",
    "#~~~~~~~~~~~~~~~~~~~~~~~~~~~~~~~~~~~~~~~\n",
    "# Currently AI-assisted risk and safety metrics are only available in the following regions: East US 2, France Central, UK South, Sweden Central. Groundedness measurement leveraging Azure AI Content Safety Groundedness Detection is only supported following regions: East US 2 and Sweden Central. Read more about the supported metrics here and when to use which metric.\n",
    "\n",
    "\n",
    "from promptflow.evals.evaluators import ContentSafetyEvaluator\n",
    "eval_fn = ContentSafetyEvaluator(azure_ai_project)\n",
    "result = eval_fn(\n",
    "    question=\"what was found?\",\n",
    "    answer=\"A 51-year-old man was found dead in his car. There were blood stains on the dashboard and windscreen. At autopsy, a deep, oblique, long incised injury was found on the front of the neck. It turns out that he died by suicide.\",\n",
    ")\n",
    "\n",
    "print(result)"
   ]
  },
  {
   "cell_type": "code",
   "execution_count": 23,
   "metadata": {},
   "outputs": [],
   "source": [
    "# Note\n",
    "#~~~~~~~~~~~~~~~~~~~~~~~~~~~~~~~~~~~~~~~\n",
    "# Currently AI-assisted risk and safety metrics are only available in the following regions: East US 2, France Central, UK South, Sweden Central. Groundedness measurement leveraging Azure AI Content Safety Groundedness Detection is only supported following regions: East US 2 and Sweden Central. Read more about the supported metrics here and when to use which metric.\n",
    "\n",
    "from promptflow.evals.evaluators import F1ScoreEvaluator\n",
    "eval_fn = F1ScoreEvaluator()\n",
    "result = eval_fn(\n",
    "    answer=\"The capital of Japan is Tokyo.\",\n",
    "    ground_truth=\"Tokyo is Japan's capital, known for its blend of traditional culture and technological advancements.\")\n",
    "\n",
    "print(result)"
   ]
  },
  {
   "cell_type": "code",
   "execution_count": 24,
   "metadata": {},
   "outputs": [],
   "source": [
    "#Hate Unfairness\n",
    "from promptflow.evals.evaluators import HateUnfairnessEvaluator\n",
    "eval_fn = HateUnfairnessEvaluator(azure_ai_project)\n",
    "result = eval_fn(question=\"What is the capital of France?\", answer=\"Paris.\")\n",
    "print(result)"
   ]
  },
  {
   "cell_type": "code",
   "execution_count": 25,
   "metadata": {},
   "outputs": [
    {
     "name": "stderr",
     "output_type": "stream",
     "text": [
      "[2024-09-05 14:37:38,251][flowinvoker][INFO] - Validating flow input with data {'answer': 'Japan', 'ground_truth': 'Japan'}\n",
      "[2024-09-05 14:37:38,251][flowinvoker][INFO] - Execute flow with data {'answer': 'Japan', 'ground_truth': 'Japan'}\n"
     ]
    },
    {
     "name": "stdout",
     "output_type": "stream",
     "text": [
      "2024-09-05 14:37:38 +0300   25724 execution.flow     INFO     Start executing nodes in thread pool mode.\n",
      "2024-09-05 14:37:38 +0300   25724 execution.flow     INFO     Start to run 2 nodes with concurrency level 16.\n",
      "2024-09-05 14:37:38 +0300   25724 execution.flow     INFO     Current thread is not main thread, skip signal handler registration in AsyncNodesScheduler.\n",
      "2024-09-05 14:37:38 +0300   25724 execution.flow     INFO     Executing node validate_inputs. node run id: 62e8fa52-af86-431d-a48c-79daabb328bc_validate_inputs_81641014-6fb2-4186-a1ae-5f09b0d2f56f\n",
      "2024-09-05 14:37:38 +0300   25724 execution.flow     INFO     Node validate_inputs completes.\n",
      "2024-09-05 14:37:38 +0300   25724 execution.flow     INFO     The node 'compute_f1_score' will be executed because the activate condition is met, i.e. '${validate_inputs.output}' is equal to 'True'.\n",
      "2024-09-05 14:37:38 +0300   25724 execution.flow     INFO     Executing node compute_f1_score. node run id: 62e8fa52-af86-431d-a48c-79daabb328bc_compute_f1_score_51d9da60-b474-4845-9af6-006713e27db9\n",
      "2024-09-05 14:37:38 +0300   25724 execution.flow     INFO     Node compute_f1_score completes.\n"
     ]
    }
   ],
   "source": [
    "#Protected material\n",
    "from promptflow.evals.evaluators import QAEvaluator\n",
    "\n",
    "eval_fn = QAEvaluator(model_config)\n",
    "result = eval_fn(\n",
    "    question=\"Tokyo is the capital of which country?\",\n",
    "    answer=\"Japan\",\n",
    "    context=\"Tokyo is the capital of Japan.\",\n",
    "    ground_truth=\"Japan\"\n",
    ")\n",
    "print(result)"
   ]
  }
 ],
 "metadata": {
  "kernelspec": {
   "display_name": ".venv",
   "language": "python",
   "name": "python3"
  },
  "language_info": {
   "codemirror_mode": {
    "name": "ipython",
    "version": 3
   },
   "file_extension": ".py",
   "mimetype": "text/x-python",
   "name": "python",
   "nbconvert_exporter": "python",
   "pygments_lexer": "ipython3",
   "version": "3.10.11"
  },
  "orig_nbformat": 4
 },
 "nbformat": 4,
 "nbformat_minor": 2
}
