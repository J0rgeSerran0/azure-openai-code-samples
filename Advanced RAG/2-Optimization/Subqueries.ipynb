{
 "cells": [
  {
   "cell_type": "markdown",
   "metadata": {},
   "source": [
    "### Use LLMs for generating Subqueries"
   ]
  },
  {
   "cell_type": "markdown",
   "metadata": {},
   "source": [
    "Note: before running below cell, please configure required environment variable `AZURE_OPENAI_API_KEY`, `AZURE_OPENAI_ENDPOINT` by create an `.env` file. Please refer to `../.env.example` as an template."
   ]
  },
  {
   "cell_type": "code",
   "execution_count": 2,
   "metadata": {},
   "outputs": [],
   "source": [
    "from openai import AzureOpenAI\n",
    "from dotenv import load_dotenv\n",
    "import os\n",
    "from IPython.display import display, HTML, JSON, Markdown, Image\n",
    "import textwrap\n",
    "\n",
    "load_dotenv()\n",
    "GPT4OMINI_API_KEY = os.getenv(\"GPT4OMINI_API_KEY\")\n",
    "GPT4OMINI_DEPLOYMENT_NAME = os.getenv(\"GPT4OMINI_DEPLOYMENT_NAME\")\n",
    "GPT4OMINI_DEPLOYMENT_ENDPOINT = os.getenv(\"GPT4OMINI_DEPLOYMENT_ENDPOINT\")\n",
    "\n",
    "\n",
    "client = AzureOpenAI(\n",
    "  azure_endpoint = GPT4OMINI_DEPLOYMENT_ENDPOINT, \n",
    "  api_key=GPT4OMINI_API_KEY,  \n",
    "  api_version=\"2024-02-01\"\n",
    ")"
   ]
  },
  {
   "cell_type": "code",
   "execution_count": 23,
   "metadata": {},
   "outputs": [],
   "source": [
    "def call_openAI(text):\n",
    "    system_message = \"\"\"\n",
    "    You are a world class state of the art assistant.\n",
    "\n",
    "    Your purpose is to help answer a complex user question by generating a list of sub \\\n",
    "    questions that will answer the original questions.\n",
    "\n",
    "    These are the guidelines you consider when completing your task:\n",
    "    * The sub questions should be part to the user's question\n",
    "    * You can generate multiple sub questions \n",
    "    * The sub questions should answer the original question\n",
    "    * Do not add other subjects that are not part of the original question\n",
    "    * the sub questions should be part of the original question\n",
    "\n",
    "    Examples:\n",
    "    question: What is the capital of France and UK?\n",
    "    sub questions: [\"What is the capital of France?\",\"What is the capital of UK?\"]\n",
    "\n",
    "    question: What is the GDP of France and Germany?\n",
    "    sub questions: [\"What is the GDP of France?\",\"What is the GDP of Germany?\"]\n",
    "\n",
    "    Output the list of sub questions in JSON format in a list.\n",
    "\n",
    "    \"\"\"\n",
    "\n",
    "    response = client.chat.completions.create(\n",
    "        model=GPT4OMINI_DEPLOYMENT_NAME,\n",
    "        messages = [\n",
    "            {\"role\":\"system\",\"content\":system_message},\n",
    "            {\"role\":\"user\",\"content\":text}\n",
    "            ],\n",
    "        temperature=1\n",
    "    )\n",
    "\n",
    "    return response.choices[0].message.content\n",
    "\n",
    "def prettyprint(text: str) -> str:\n",
    "    print(textwrap.fill(text, 60))"
   ]
  },
  {
   "cell_type": "code",
   "execution_count": 24,
   "metadata": {},
   "outputs": [
    {
     "data": {
      "text/html": [
       "```json\n",
       "[\n",
       "    \"Is Harley Quinn considered a righteous character in the context of the Avengers?\",\n",
       "    \"Is Thanos considered a righteous character in the context of the Avengers?\"\n",
       "]\n",
       "```"
      ],
      "text/plain": [
       "<IPython.core.display.HTML object>"
      ]
     },
     "metadata": {},
     "output_type": "display_data"
    }
   ],
   "source": [
    "answer = call_openAI(\"Are Harley Quinn and Thanos righteous characters in the Avengers?\")\n",
    "display(HTML(answer))"
   ]
  }
 ],
 "metadata": {
  "kernelspec": {
   "display_name": ".venv",
   "language": "python",
   "name": "python3"
  },
  "language_info": {
   "codemirror_mode": {
    "name": "ipython",
    "version": 3
   },
   "file_extension": ".py",
   "mimetype": "text/x-python",
   "name": "python",
   "nbconvert_exporter": "python",
   "pygments_lexer": "ipython3",
   "version": "3.10.11"
  },
  "orig_nbformat": 4
 },
 "nbformat": 4,
 "nbformat_minor": 2
}
