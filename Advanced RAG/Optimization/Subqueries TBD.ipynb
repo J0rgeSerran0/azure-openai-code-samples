{
 "cells": [
  {
   "cell_type": "markdown",
   "metadata": {},
   "source": [
    "### **Load Environment variables from .env file**"
   ]
  },
  {
   "cell_type": "code",
   "execution_count": 1,
   "metadata": {},
   "outputs": [],
   "source": [
    "from openai import AzureOpenAI\n",
    "from dotenv import load_dotenv\n",
    "import os\n",
    "from IPython.display import display, HTML, JSON, Markdown, Image\n",
    "import textwrap\n",
    "\n",
    "load_dotenv()\n",
    "GPT4OMINI_API_KEY = os.getenv(\"GPT4OMINI_API_KEY\")\n",
    "GPT4OMINI_DEPLOYMENT_NAME = os.getenv(\"GPT4OMINI_DEPLOYMENT_NAME\")\n",
    "GPT4OMINI_DEPLOYMENT_ENDPOINT = os.getenv(\"GPT4OMINI_DEPLOYMENT_ENDPOINT\")\n",
    "\n",
    "\n",
    "client = AzureOpenAI(\n",
    "  azure_endpoint = GPT4OMINI_DEPLOYMENT_ENDPOINT, \n",
    "  api_key=GPT4OMINI_API_KEY,  \n",
    "  api_version=\"2024-02-01\"\n",
    ")"
   ]
  },
  {
   "cell_type": "code",
   "execution_count": 2,
   "metadata": {},
   "outputs": [],
   "source": [
    "def call_openAI(text):\n",
    "    system_message = \"\"\"\n",
    "    You are a world class state of the art agent.\n",
    "\n",
    "    You have access to multiple tools, each representing a different data source or API.\n",
    "    Each of the tools has a name and a description, formatted as a JSON dictionary.\n",
    "    The keys of the dictionary are the names of the tools and the values are the \\\n",
    "    descriptions.\n",
    "    Your purpose is to help answer a complex user question by generating a list of sub \\\n",
    "    questions that can be answered by the tools.\n",
    "\n",
    "    These are the guidelines you consider when completing your task:\n",
    "    * Be as specific as possible\n",
    "    * The sub questions should be relevant to the user question\n",
    "    * The sub questions should be answerable by the tools provided\n",
    "    * You can generate multiple sub questions for each tool\n",
    "    * Tools must be specified by their name, not their description\n",
    "    * You don't need to use a tool if you don't think it's relevant\n",
    "\n",
    "    Output the list of sub questions by calling the SubQuestionList function.\n",
    "\n",
    "    \"\"\"\n",
    "\n",
    "    response = client.chat.completions.create(\n",
    "        model=GPT4OMINI_DEPLOYMENT_NAME,\n",
    "        messages = [\n",
    "            {\"role\":\"system\",\"content\":system_message},\n",
    "            {\"role\":\"user\",\"content\":text}\n",
    "            ],\n",
    "        temperature=1\n",
    "    )\n",
    "\n",
    "    return response.choices[0].message.content\n",
    "\n",
    "def prettyprint(text: str) -> str:\n",
    "    print(textwrap.fill(text, 60))"
   ]
  },
  {
   "cell_type": "code",
   "execution_count": 3,
   "metadata": {},
   "outputs": [
    {
     "data": {
      "text/html": [
       "Meat"
      ],
      "text/plain": [
       "<IPython.core.display.HTML object>"
      ]
     },
     "metadata": {},
     "output_type": "display_data"
    }
   ],
   "source": [
    "answer = call_openAI(\"chicken\")\n",
    "display(HTML(answer))"
   ]
  },
  {
   "cell_type": "code",
   "execution_count": 4,
   "metadata": {},
   "outputs": [
    {
     "data": {
      "text/html": [
       "Fruits"
      ],
      "text/plain": [
       "<IPython.core.display.HTML object>"
      ]
     },
     "metadata": {},
     "output_type": "display_data"
    }
   ],
   "source": [
    "answer = call_openAI(\"Melon\")\n",
    "display(HTML(answer))"
   ]
  }
 ],
 "metadata": {
  "kernelspec": {
   "display_name": ".venv",
   "language": "python",
   "name": "python3"
  },
  "language_info": {
   "codemirror_mode": {
    "name": "ipython",
    "version": 3
   },
   "file_extension": ".py",
   "mimetype": "text/x-python",
   "name": "python",
   "nbconvert_exporter": "python",
   "pygments_lexer": "ipython3",
   "version": "3.10.11"
  },
  "orig_nbformat": 4
 },
 "nbformat": 4,
 "nbformat_minor": 2
}
