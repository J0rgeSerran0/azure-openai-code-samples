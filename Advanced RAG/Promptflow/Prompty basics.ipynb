{
 "cells": [
  {
   "cell_type": "code",
   "execution_count": 1,
   "metadata": {},
   "outputs": [],
   "source": [
    "#\n",
    "# Copyright (c) Microsoft. All rights reserved.\n",
    "# To learn more, please visit the documentation - Quickstart: Azure Content Safety: https://aka.ms/acsstudiodoc\n",
    "#\n",
    "from dotenv import load_dotenv\n",
    "import os\n",
    "\n",
    "load_dotenv()\n",
    "#create a .env file with the following variables and replace with your values\n",
    "GPT4o_API_KEY = os.getenv(\"GPT4o_API_KEY\")\n",
    "GPT4o_DEPLOYMENT_ENDPOINT = os.getenv(\"GPT4o_DEPLOYMENT_ENDPOINT\")\n",
    "GPT4o_DEPLOYMENT_NAME = os.getenv(\"GPT4o_DEPLOYMENT_NAME\")\n",
    "\n",
    "api_version = \"2024-02-15-preview\"\n"
   ]
  },
  {
   "cell_type": "code",
   "execution_count": 2,
   "metadata": {},
   "outputs": [],
   "source": [
    "import os\n",
    "from promptflow.core import AzureOpenAIModelConfiguration\n",
    "\n",
    "# Initialize Azure OpenAI Connection with your environment variables\n",
    "model_config = AzureOpenAIModelConfiguration(\n",
    "    azure_endpoint=GPT4o_DEPLOYMENT_ENDPOINT,\n",
    "    api_key=GPT4o_API_KEY,\n",
    "    azure_deployment=GPT4o_DEPLOYMENT_NAME,\n",
    "    api_version=api_version,\n",
    ")\n",
    "override_model = {\"configuration\": model_config, \"parameters\": {\"max_tokens\": 512}}"
   ]
  },
  {
   "cell_type": "code",
   "execution_count": 3,
   "metadata": {},
   "outputs": [
    {
     "data": {
      "text/plain": [
       "'The capital of France is Paris.'"
      ]
     },
     "execution_count": 3,
     "metadata": {},
     "output_type": "execute_result"
    }
   ],
   "source": [
    "from promptflow.core import Prompty\n",
    "\n",
    "# load prompty as a flow\n",
    "flow = Prompty.load(source=\"./tracing/basic.prompty\", model=override_model)\n",
    "\n",
    "# execute the flow as function\n",
    "result = flow(question=\"What is the capital of France?\")\n",
    "result"
   ]
  },
  {
   "cell_type": "code",
   "execution_count": 4,
   "metadata": {},
   "outputs": [
    {
     "name": "stdout",
     "output_type": "stream",
     "text": [
      "Prompt flow service has started...\n"
     ]
    },
    {
     "name": "stdout",
     "output_type": "stream",
     "text": [
      "You can view the trace detail from the following URL:\n",
      "http://localhost:23333/v1.0/ui/traces/?#collection=Promptflow&uiTraceId=0xa1ca24aa56e0450b98d7e1891fc4646a\n",
      "You can view the trace detail from the following URL:\n",
      "http://localhost:23333/v1.0/ui/traces/?#collection=Promptflow&uiTraceId=0xec744fb53694ee4d96bf12c94aa0e35e\n"
     ]
    }
   ],
   "source": [
    "from promptflow.tracing import start_trace\n",
    "\n",
    "# start a trace session, and print a url for user to check trace\n",
    "start_trace()"
   ]
  },
  {
   "cell_type": "code",
   "execution_count": 5,
   "metadata": {},
   "outputs": [
    {
     "data": {
      "text/plain": [
       "'The capital of Japan is Tokyo.'"
      ]
     },
     "execution_count": 5,
     "metadata": {},
     "output_type": "execute_result"
    }
   ],
   "source": [
    "# rerun the function, which will be recorded in the trace\n",
    "question = \"What is the capital of Japan?\"\n",
    "ground_truth = \"Tokyo\"\n",
    "result = flow(question=question)\n",
    "result"
   ]
  },
  {
   "cell_type": "code",
   "execution_count": 6,
   "metadata": {},
   "outputs": [
    {
     "data": {
      "text/plain": [
       "{'score': '5', 'explanation': 'Tokyo is the capital of Japan.'}"
      ]
     },
     "execution_count": 6,
     "metadata": {},
     "output_type": "execute_result"
    }
   ],
   "source": [
    "# use prompty to test \n",
    "eval_flow = Prompty.load(\"./tracing/eval.prompty\", model=override_model)\n",
    "# execute the flow as function\n",
    "result = eval_flow(question=question, ground_truth=ground_truth, answer=result)\n",
    "result"
   ]
  }
 ],
 "metadata": {
  "kernelspec": {
   "display_name": ".venv",
   "language": "python",
   "name": "python3"
  },
  "language_info": {
   "codemirror_mode": {
    "name": "ipython",
    "version": 3
   },
   "file_extension": ".py",
   "mimetype": "text/x-python",
   "name": "python",
   "nbconvert_exporter": "python",
   "pygments_lexer": "ipython3",
   "version": "3.10.11"
  },
  "orig_nbformat": 4
 },
 "nbformat": 4,
 "nbformat_minor": 2
}
