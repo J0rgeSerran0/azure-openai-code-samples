{
 "cells": [
  {
   "cell_type": "code",
   "execution_count": 23,
   "metadata": {},
   "outputs": [],
   "source": [
    "#\n",
    "# Copyright (c) Microsoft. All rights reserved.\n",
    "# To learn more, please visit the documentation - Quickstart: Azure Content Safety: https://aka.ms/acsstudiodoc\n",
    "#\n",
    "from dotenv import load_dotenv\n",
    "import os\n",
    "\n",
    "load_dotenv()\n",
    "#create a .env file with the following variables and replace with your values\n",
    "AZURE_OPENAI_ENDPOINT=os.environ[\"AZURE_OPENAI_ENDPOINT\"],\n",
    "AZURE_OPENAI_API_KEY=os.environ[\"AZURE_OPENAI_API_KEY\"],\n",
    "OPENAI_API_VERSION = os.environ[\"OPENAI_API_VERSION\"]\n"
   ]
  },
  {
   "cell_type": "code",
   "execution_count": 27,
   "metadata": {},
   "outputs": [
    {
     "ename": "AttributeError",
     "evalue": "'tuple' object has no attribute 'encode'",
     "output_type": "error",
     "traceback": [
      "\u001b[1;31m---------------------------------------------------------------------------\u001b[0m",
      "\u001b[1;31mAttributeError\u001b[0m                            Traceback (most recent call last)",
      "Cell \u001b[1;32mIn[27], line 17\u001b[0m\n\u001b[0;32m     10\u001b[0m connection \u001b[38;5;241m=\u001b[39m AzureOpenAIConnection(\n\u001b[0;32m     11\u001b[0m     name\u001b[38;5;241m=\u001b[39m\u001b[38;5;124m\"\u001b[39m\u001b[38;5;124maoai_sweden\u001b[39m\u001b[38;5;124m\"\u001b[39m, \n\u001b[0;32m     12\u001b[0m     api_key\u001b[38;5;241m=\u001b[39mAZURE_OPENAI_API_KEY, \n\u001b[0;32m     13\u001b[0m     api_base\u001b[38;5;241m=\u001b[39mAZURE_OPENAI_ENDPOINT,\n\u001b[0;32m     14\u001b[0m     api_version\u001b[38;5;241m=\u001b[39mOPENAI_API_VERSION\n\u001b[0;32m     15\u001b[0m )\n\u001b[0;32m     16\u001b[0m \u001b[38;5;66;03m# Create the connection, note that api_key will be scrubbed in the returned result\u001b[39;00m\n\u001b[1;32m---> 17\u001b[0m result \u001b[38;5;241m=\u001b[39m \u001b[43mpf\u001b[49m\u001b[38;5;241;43m.\u001b[39;49m\u001b[43mconnections\u001b[49m\u001b[38;5;241;43m.\u001b[39;49m\u001b[43mcreate_or_update\u001b[49m\u001b[43m(\u001b[49m\u001b[43mconnection\u001b[49m\u001b[43m)\u001b[49m\n\u001b[0;32m     18\u001b[0m \u001b[38;5;28mprint\u001b[39m(result)\n",
      "File \u001b[1;32mc:\\Users\\dschlesinger\\code\\ongoing\\azure-openai-code-samples\\.venv\\lib\\site-packages\\promptflow\\_sdk\\_telemetry\\activity.py:265\u001b[0m, in \u001b[0;36mmonitor_operation.<locals>.monitor.<locals>.wrapper\u001b[1;34m(self, *args, **kwargs)\u001b[0m\n\u001b[0;32m    263\u001b[0m     thread \u001b[38;5;241m=\u001b[39m threading\u001b[38;5;241m.\u001b[39mThread(target\u001b[38;5;241m=\u001b[39mcheck_latest_version, daemon\u001b[38;5;241m=\u001b[39m\u001b[38;5;28;01mTrue\u001b[39;00m)\n\u001b[0;32m    264\u001b[0m     thread\u001b[38;5;241m.\u001b[39mstart()\n\u001b[1;32m--> 265\u001b[0m \u001b[38;5;28;01mreturn\u001b[39;00m f(\u001b[38;5;28mself\u001b[39m, \u001b[38;5;241m*\u001b[39margs, \u001b[38;5;241m*\u001b[39m\u001b[38;5;241m*\u001b[39mkwargs)\n",
      "File \u001b[1;32mc:\\Users\\dschlesinger\\code\\ongoing\\azure-openai-code-samples\\.venv\\lib\\site-packages\\promptflow\\_sdk\\operations\\_connection_operations.py:87\u001b[0m, in \u001b[0;36mConnectionOperations.create_or_update\u001b[1;34m(self, connection, **kwargs)\u001b[0m\n\u001b[0;32m     85\u001b[0m \u001b[38;5;28;01mif\u001b[39;00m \u001b[38;5;28misinstance\u001b[39m(connection, _CoreConnection) \u001b[38;5;129;01mand\u001b[39;00m \u001b[38;5;129;01mnot\u001b[39;00m \u001b[38;5;28misinstance\u001b[39m(connection, _Connection):\n\u001b[0;32m     86\u001b[0m     connection \u001b[38;5;241m=\u001b[39m _Connection\u001b[38;5;241m.\u001b[39m_from_core_connection(connection)\n\u001b[1;32m---> 87\u001b[0m orm_object \u001b[38;5;241m=\u001b[39m \u001b[43mconnection\u001b[49m\u001b[38;5;241;43m.\u001b[39;49m\u001b[43m_to_orm_object\u001b[49m\u001b[43m(\u001b[49m\u001b[43m)\u001b[49m\n\u001b[0;32m     88\u001b[0m now \u001b[38;5;241m=\u001b[39m datetime\u001b[38;5;241m.\u001b[39mnow()\u001b[38;5;241m.\u001b[39misoformat()\n\u001b[0;32m     89\u001b[0m \u001b[38;5;28;01mif\u001b[39;00m orm_object\u001b[38;5;241m.\u001b[39mcreatedDate \u001b[38;5;129;01mis\u001b[39;00m \u001b[38;5;28;01mNone\u001b[39;00m:\n",
      "File \u001b[1;32mc:\\Users\\dschlesinger\\code\\ongoing\\azure-openai-code-samples\\.venv\\lib\\site-packages\\promptflow\\_sdk\\entities\\_connection.py:231\u001b[0m, in \u001b[0;36m_StrongTypeConnection._to_orm_object\u001b[1;34m(self)\u001b[0m\n\u001b[0;32m    229\u001b[0m \u001b[38;5;28;01mdef\u001b[39;00m \u001b[38;5;21m_to_orm_object\u001b[39m(\u001b[38;5;28mself\u001b[39m):\n\u001b[0;32m    230\u001b[0m     \u001b[38;5;66;03m# Both keys & secrets will be stored in configs for strong type connection.\u001b[39;00m\n\u001b[1;32m--> 231\u001b[0m     secrets \u001b[38;5;241m=\u001b[39m \u001b[38;5;28;43mself\u001b[39;49m\u001b[38;5;241;43m.\u001b[39;49m\u001b[43m_validate_and_encrypt_secrets\u001b[49m\u001b[43m(\u001b[49m\u001b[43m)\u001b[49m\n\u001b[0;32m    232\u001b[0m     \u001b[38;5;28;01mreturn\u001b[39;00m ORMConnection(\n\u001b[0;32m    233\u001b[0m         connectionName\u001b[38;5;241m=\u001b[39m\u001b[38;5;28mself\u001b[39m\u001b[38;5;241m.\u001b[39mname,\n\u001b[0;32m    234\u001b[0m         connectionType\u001b[38;5;241m=\u001b[39m\u001b[38;5;28mself\u001b[39m\u001b[38;5;241m.\u001b[39mtype,\n\u001b[1;32m   (...)\u001b[0m\n\u001b[0;32m    239\u001b[0m         lastModifiedDate\u001b[38;5;241m=\u001b[39m\u001b[38;5;28mself\u001b[39m\u001b[38;5;241m.\u001b[39mlast_modified_date,\n\u001b[0;32m    240\u001b[0m     )\n",
      "File \u001b[1;32mc:\\Users\\dschlesinger\\code\\ongoing\\azure-openai-code-samples\\.venv\\lib\\site-packages\\promptflow\\_sdk\\entities\\_connection.py:100\u001b[0m, in \u001b[0;36m_Connection._validate_and_encrypt_secrets\u001b[1;34m(self)\u001b[0m\n\u001b[0;32m     98\u001b[0m         invalid_secrets\u001b[38;5;241m.\u001b[39mappend(k)\n\u001b[0;32m     99\u001b[0m         \u001b[38;5;28;01mcontinue\u001b[39;00m\n\u001b[1;32m--> 100\u001b[0m     encrypt_secrets[k] \u001b[38;5;241m=\u001b[39m \u001b[43mencrypt_secret_value\u001b[49m\u001b[43m(\u001b[49m\u001b[43mv\u001b[49m\u001b[43m)\u001b[49m\n\u001b[0;32m    101\u001b[0m \u001b[38;5;28;01mif\u001b[39;00m invalid_secrets:\n\u001b[0;32m    102\u001b[0m     \u001b[38;5;28;01mraise\u001b[39;00m ValidationException(\n\u001b[0;32m    103\u001b[0m         \u001b[38;5;124mf\u001b[39m\u001b[38;5;124m\"\u001b[39m\u001b[38;5;124mConnection \u001b[39m\u001b[38;5;132;01m{\u001b[39;00m\u001b[38;5;28mself\u001b[39m\u001b[38;5;241m.\u001b[39mname\u001b[38;5;132;01m!r}\u001b[39;00m\u001b[38;5;124m secrets \u001b[39m\u001b[38;5;132;01m{\u001b[39;00minvalid_secrets\u001b[38;5;132;01m}\u001b[39;00m\u001b[38;5;124m value invalid, please fill them.\u001b[39m\u001b[38;5;124m\"\u001b[39m\n\u001b[0;32m    104\u001b[0m     )\n",
      "File \u001b[1;32mc:\\Users\\dschlesinger\\code\\ongoing\\azure-openai-code-samples\\.venv\\lib\\site-packages\\promptflow\\_sdk\\_utilities\\general_utils.py:148\u001b[0m, in \u001b[0;36mencrypt_secret_value\u001b[1;34m(secret_value)\u001b[0m\n\u001b[0;32m    146\u001b[0m encryption_key \u001b[38;5;241m=\u001b[39m get_encryption_key(generate_if_not_found\u001b[38;5;241m=\u001b[39m\u001b[38;5;28;01mTrue\u001b[39;00m)\n\u001b[0;32m    147\u001b[0m fernet_client \u001b[38;5;241m=\u001b[39m Fernet(encryption_key)\n\u001b[1;32m--> 148\u001b[0m token \u001b[38;5;241m=\u001b[39m fernet_client\u001b[38;5;241m.\u001b[39mencrypt(\u001b[43msecret_value\u001b[49m\u001b[38;5;241;43m.\u001b[39;49m\u001b[43mencode\u001b[49m(\u001b[38;5;124m\"\u001b[39m\u001b[38;5;124mutf-8\u001b[39m\u001b[38;5;124m\"\u001b[39m))\n\u001b[0;32m    149\u001b[0m \u001b[38;5;28;01mreturn\u001b[39;00m token\u001b[38;5;241m.\u001b[39mdecode(\u001b[38;5;124m\"\u001b[39m\u001b[38;5;124mutf-8\u001b[39m\u001b[38;5;124m\"\u001b[39m)\n",
      "\u001b[1;31mAttributeError\u001b[0m: 'tuple' object has no attribute 'encode'"
     ]
    }
   ],
   "source": [
    "import os\n",
    "from promptflow.entities import AzureOpenAIConnection, CustomConnection\n",
    "from promptflow.client import PFClient\n",
    "\n",
    "pf = PFClient()\n",
    "\n",
    "# Initialize an AzureOpenAIConnection object\n",
    "# Please note the AZURE_OPENAI_ENDPOINT and AZURE_OPENAI_API_KEY are mandatory environment variables\n",
    "connection = AzureOpenAIConnection(\n",
    "    name=\"aoai_sweden\", \n",
    "    api_key=AZURE_OPENAI_API_KEY, \n",
    "    api_base=AZURE_OPENAI_ENDPOINT,\n",
    "    api_version=OPENAI_API_VERSION\n",
    ")\n",
    "# Create the connection, note that api_key will be scrubbed in the returned result\n",
    "result = pf.connections.create_or_update(connection)\n",
    "print(result)\n"
   ]
  },
  {
   "cell_type": "code",
   "execution_count": 13,
   "metadata": {},
   "outputs": [
    {
     "name": "stdout",
     "output_type": "stream",
     "text": [
      "Prompt flow service has started...\n"
     ]
    },
    {
     "name": "stderr",
     "output_type": "stream",
     "text": [
      "[2024-09-05 17:37:29,389][promptflow._sdk._orchestrator.run_submitter][INFO] - Submitting run multiline_variant_0_20240905_173724_524012, log path: C:\\Users\\dschlesinger\\.promptflow\\.runs\\multiline_variant_0_20240905_173724_524012\\logs.txt\n"
     ]
    },
    {
     "name": "stdout",
     "output_type": "stream",
     "text": [
      "You can view the traces in local from http://localhost:23333/v1.0/ui/traces/?#run=multiline_variant_0_20240905_173724_524012\n"
     ]
    },
    {
     "name": "stderr",
     "output_type": "stream",
     "text": [
      "[2024-09-05 17:37:47,413][promptflow._sdk._orchestrator.run_submitter][WARNING] - 3 out of 3 runs failed in batch run.\n",
      " Please check out C:/Users/dschlesinger/.promptflow/.runs/multiline_variant_0_20240905_173724_524012 for more details.\n"
     ]
    },
    {
     "name": "stdout",
     "output_type": "stream",
     "text": [
      "2024-09-05 17:37:36 +0300   28572 execution.bulk     INFO     Current system's available memory is 21018.2890625MB, memory consumption of current process is 200.7734375MB, estimated available worker count is 21018.2890625/200.7734375 = 104\n",
      "2024-09-05 17:37:36 +0300   28572 execution.bulk     INFO     Set process count to 3 by taking the minimum value among the factors of {'default_worker_count': 4, 'row_count': 3, 'estimated_worker_count_based_on_memory_usage': 104}.\n",
      "2024-09-05 17:37:40 +0300   28572 execution.bulk     INFO     Process name(SpawnProcess-3)-Process id(43832)-Line number(0) start execution.\n",
      "2024-09-05 17:37:40 +0300   28572 execution.bulk     INFO     Process name(SpawnProcess-2)-Process id(39344)-Line number(1) start execution.\n",
      "2024-09-05 17:37:40 +0300   28572 execution.bulk     INFO     Process name(SpawnProcess-4)-Process id(33536)-Line number(2) start execution.\n",
      "2024-09-05 17:37:41 +0300   28572 execution.bulk     INFO     Process name(SpawnProcess-2)-Process id(39344)-Line number(1) completed.\n",
      "2024-09-05 17:37:42 +0300   28572 execution.bulk     INFO     Finished 1 / 3 lines.\n",
      "2024-09-05 17:37:42 +0300   28572 execution.bulk     INFO     Average execution time for completed lines: 2.01 seconds. Estimated time for incomplete lines: 4.02 seconds.\n",
      "2024-09-05 17:37:44 +0300   28572 execution.bulk     INFO     Process name(SpawnProcess-4)-Process id(33536)-Line number(2) completed.\n",
      "2024-09-05 17:37:44 +0300   28572 execution.bulk     INFO     Process name(SpawnProcess-3)-Process id(43832)-Line number(0) completed.\n",
      "2024-09-05 17:37:45 +0300   28572 execution.bulk     INFO     Finished 3 / 3 lines.\n",
      "2024-09-05 17:37:45 +0300   28572 execution.bulk     INFO     Average execution time for completed lines: 1.68 seconds. Estimated time for incomplete lines: 0.0 seconds.\n",
      "2024-09-05 17:37:45 +0300   28572 execution.bulk     INFO     The thread monitoring the process [39344-SpawnProcess-2] will be terminated.\n",
      "2024-09-05 17:37:45 +0300   28572 execution.bulk     INFO     The thread monitoring the process [33536-SpawnProcess-4] will be terminated.\n",
      "2024-09-05 17:37:45 +0300   28572 execution.bulk     INFO     The thread monitoring the process [43832-SpawnProcess-3] will be terminated.\n",
      "2024-09-05 17:37:45 +0300   39344 execution.bulk     INFO     The process [39344] has received a terminate signal.\n",
      "2024-09-05 17:37:45 +0300   33536 execution.bulk     INFO     The process [33536] has received a terminate signal.\n",
      "2024-09-05 17:37:45 +0300   43832 execution.bulk     INFO     The process [43832] has received a terminate signal.\n",
      "2024-09-05 17:37:45 +0300   28572 execution.bulk     INFO     Process 39344 terminated.\n",
      "2024-09-05 17:37:47 +0300   28572 execution.bulk     INFO     Process 43832 terminated.\n",
      "2024-09-05 17:37:47 +0300   28572 execution.bulk     INFO     Process 33536 terminated.\n",
      "2024-09-05 17:37:47 +0300   28572 execution          ERROR    3/3 flow run failed, indexes: [0,1,2], exception of index 0: Execution failure in '_traced_sync.<locals>.wrapped': (NotFoundError) Error code: 404 - {'error': {'code': 'DeploymentNotFound', 'message': 'The API deployment for this resource does not exist. If you created the deployment within the last 5 minutes, please wait a moment and try again.'}}\n",
      "======= Run Summary =======\n",
      "\n",
      "Run name: \"multiline_variant_0_20240905_173724_524012\"\n",
      "Run status: \"Completed\"\n",
      "Start time: \"2024-09-05 17:37:24.524012\"\n",
      "Duration: \"0:00:22.923481\"\n",
      "Output path: \"C:\\Users\\dschlesinger\\.promptflow\\.runs\\multiline_variant_0_20240905_173724_524012\"\n",
      "\n"
     ]
    }
   ],
   "source": [
    "flow = \"./multiline/basic.prompty\"  # path to the prompty file\n",
    "data = \"./multiline/data.jsonl\"  # path to the data file\n",
    "\n",
    "# create run with the flow and data\n",
    "base_run = pf.run(\n",
    "    flow=flow,\n",
    "    data=data,\n",
    "    column_mapping={\n",
    "        \"question\": \"${data.question}\",\n",
    "    },\n",
    "    stream=True\n",
    ")"
   ]
  },
  {
   "cell_type": "code",
   "execution_count": null,
   "metadata": {},
   "outputs": [],
   "source": [
    "details = pf.get_details(base_run)\n",
    "details.head(10)"
   ]
  },
  {
   "cell_type": "code",
   "execution_count": 5,
   "metadata": {},
   "outputs": [],
   "source": [
    "import json\n",
    "from promptflow.client import PFClient\n",
    "from promptflow.connections import AzureOpenAIConnection, OpenAIConnection\n",
    "\n",
    "# client can help manage your runs and connections.\n",
    "pf = PFClient()"
   ]
  },
  {
   "cell_type": "code",
   "execution_count": 6,
   "metadata": {},
   "outputs": [
    {
     "name": "stdout",
     "output_type": "stream",
     "text": [
      "successfully created connection\n",
      "name: open_ai_connection\n",
      "module: promptflow.connections\n",
      "created_date: '2024-09-05T17:34:49.154704'\n",
      "last_modified_date: '2024-09-05T17:34:49.154704'\n",
      "type: azure_open_ai\n",
      "api_key: '******'\n",
      "api_base: <test_base>\n",
      "api_type: azure\n",
      "api_version: <test_version>\n",
      "auth_mode: key\n",
      "\n"
     ]
    }
   ],
   "source": [
    "try:\n",
    "    conn_name = \"open_ai_connection\"\n",
    "    conn = pf.connections.get(name=conn_name)\n",
    "    print(\"using existing connection\")\n",
    "except:\n",
    "    # Follow https://learn.microsoft.com/en-us/azure/ai-services/openai/how-to/create-resource?pivots=web-portal to create an Azure OpenAI resource.\n",
    "    connection = AzureOpenAIConnection(\n",
    "        name=conn_name,\n",
    "        api_key=\"<test_key>\",\n",
    "        api_base=\"<test_base>\",\n",
    "        api_type=\"azure\",\n",
    "        api_version=\"<test_version>\",\n",
    "    )\n",
    "\n",
    "    # use this if you have an existing OpenAI account\n",
    "    # connection = OpenAIConnection(\n",
    "    #     name=conn_name,\n",
    "    #     api_key=\"<user-input>\",\n",
    "    # )\n",
    "\n",
    "    conn = pf.connections.create_or_update(connection)\n",
    "    print(\"successfully created connection\")\n",
    "\n",
    "print(conn)"
   ]
  }
 ],
 "metadata": {
  "kernelspec": {
   "display_name": ".venv",
   "language": "python",
   "name": "python3"
  },
  "language_info": {
   "codemirror_mode": {
    "name": "ipython",
    "version": 3
   },
   "file_extension": ".py",
   "mimetype": "text/x-python",
   "name": "python",
   "nbconvert_exporter": "python",
   "pygments_lexer": "ipython3",
   "version": "3.10.11"
  },
  "orig_nbformat": 4
 },
 "nbformat": 4,
 "nbformat_minor": 2
}
