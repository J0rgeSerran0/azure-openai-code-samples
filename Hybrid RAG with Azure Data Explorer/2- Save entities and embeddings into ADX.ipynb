{
 "cells": [
  {
   "cell_type": "markdown",
   "metadata": {},
   "source": [
    "### **Load Environment variables from .env file**"
   ]
  },
  {
   "cell_type": "code",
   "execution_count": 9,
   "metadata": {},
   "outputs": [],
   "source": [
    "from dotenv import load_dotenv\n",
    "import os\n",
    "from IPython.display import display, HTML, JSON, Markdown, Image\n",
    "import pandas as pd\n",
    "from azure.kusto.data import KustoClient, KustoConnectionStringBuilder\n",
    "from azure.kusto.data.exceptions import KustoServiceError\n",
    "from azure.kusto.data.helpers import dataframe_from_result_table\n",
    "\n",
    "load_dotenv()\n",
    "AAD_TENANT_ID = os.getenv(\"AAD_TENANT_ID\")\n",
    "KUSTO_CLUSTER = os.getenv(\"KUSTO_CLUSTER\")\n",
    "KUSTO_DATABASE = os.getenv(\"KUSTO_DATABASE\")\n",
    "KUSTO_TABLE = os.getenv(\"KUSTO_TABLE\")\n",
    "KUSTO_MANAGED_IDENTITY_APP_ID = os.getenv(\"KUSTO_MANAGED_IDENTITY_APP_ID\")\n",
    "KUSTO_MANAGED_IDENTITY_SECRET = os.getenv(\"KUSTO_MANAGED_IDENTITY_SECRET\")\n"
   ]
  },
  {
   "cell_type": "code",
   "execution_count": 10,
   "metadata": {},
   "outputs": [],
   "source": [
    "# read the entities csv into a pandas dataframe\n",
    "import pandas as pd\n",
    "\n",
    "entities_df = pd.read_csv(\"./data/processed/entities.csv\")\n",
    "embeddings_df = pd.read_csv(\"./data/processed/embeddings.csv\")"
   ]
  },
  {
   "cell_type": "code",
   "execution_count": 16,
   "metadata": {},
   "outputs": [],
   "source": [
    "# Connect to adx using AAD app registration\n",
    "cluster = KUSTO_CLUSTER\n",
    "kcsb = KustoConnectionStringBuilder.with_aad_application_key_authentication(cluster, KUSTO_MANAGED_IDENTITY_APP_ID, KUSTO_MANAGED_IDENTITY_SECRET,  AAD_TENANT_ID)\n",
    "client = KustoClient(kcsb)\n",
    "kusto_db = KUSTO_DATABASE\n",
    "embeddings_table = \"aviationIncidentsEmbeddings\"\n",
    "entities_table = \"aviationIncidentsEntities\""
   ]
  },
  {
   "cell_type": "code",
   "execution_count": 12,
   "metadata": {},
   "outputs": [
    {
     "data": {
      "text/html": [
       "<div>\n",
       "<style scoped>\n",
       "    .dataframe tbody tr th:only-of-type {\n",
       "        vertical-align: middle;\n",
       "    }\n",
       "\n",
       "    .dataframe tbody tr th {\n",
       "        vertical-align: top;\n",
       "    }\n",
       "\n",
       "    .dataframe thead th {\n",
       "        text-align: right;\n",
       "    }\n",
       "</style>\n",
       "<table border=\"1\" class=\"dataframe\">\n",
       "  <thead>\n",
       "    <tr style=\"text-align: right;\">\n",
       "      <th></th>\n",
       "      <th>TableName</th>\n",
       "      <th>Schema</th>\n",
       "      <th>DatabaseName</th>\n",
       "      <th>Folder</th>\n",
       "      <th>DocString</th>\n",
       "    </tr>\n",
       "  </thead>\n",
       "  <tbody>\n",
       "    <tr>\n",
       "      <th>0</th>\n",
       "      <td>avationIncidentsEmbeddings</td>\n",
       "      <td>{\"Name\":\"avationIncidentsEmbeddings\",\"OrderedC...</td>\n",
       "      <td>embeddings</td>\n",
       "      <td>None</td>\n",
       "      <td>None</td>\n",
       "    </tr>\n",
       "  </tbody>\n",
       "</table>\n",
       "</div>"
      ],
      "text/plain": [
       "                    TableName  \\\n",
       "0  avationIncidentsEmbeddings   \n",
       "\n",
       "                                              Schema DatabaseName Folder  \\\n",
       "0  {\"Name\":\"avationIncidentsEmbeddings\",\"OrderedC...   embeddings   None   \n",
       "\n",
       "  DocString  \n",
       "0      None  "
      ]
     },
     "execution_count": 12,
     "metadata": {},
     "output_type": "execute_result"
    }
   ],
   "source": [
    "# create tables in ADX\n",
    "createTableCommand = f\".create table {embeddings_table} (document_id:string, document_name:string, content:string, embedding:string)\"\n",
    "response = client.execute_mgmt(KUSTO_DATABASE, createTableCommand)\n",
    "dataframe_from_result_table(response.primary_results[0])\n"
   ]
  },
  {
   "cell_type": "code",
   "execution_count": 13,
   "metadata": {},
   "outputs": [
    {
     "data": {
      "text/html": [
       "<div>\n",
       "<style scoped>\n",
       "    .dataframe tbody tr th:only-of-type {\n",
       "        vertical-align: middle;\n",
       "    }\n",
       "\n",
       "    .dataframe tbody tr th {\n",
       "        vertical-align: top;\n",
       "    }\n",
       "\n",
       "    .dataframe thead th {\n",
       "        text-align: right;\n",
       "    }\n",
       "</style>\n",
       "<table border=\"1\" class=\"dataframe\">\n",
       "  <thead>\n",
       "    <tr style=\"text-align: right;\">\n",
       "      <th></th>\n",
       "      <th>TableName</th>\n",
       "      <th>Schema</th>\n",
       "      <th>DatabaseName</th>\n",
       "      <th>Folder</th>\n",
       "      <th>DocString</th>\n",
       "    </tr>\n",
       "  </thead>\n",
       "  <tbody>\n",
       "    <tr>\n",
       "      <th>0</th>\n",
       "      <td>avationIncidentsEntities</td>\n",
       "      <td>{\"Name\":\"avationIncidentsEntities\",\"OrderedCol...</td>\n",
       "      <td>embeddings</td>\n",
       "      <td>None</td>\n",
       "      <td>None</td>\n",
       "    </tr>\n",
       "  </tbody>\n",
       "</table>\n",
       "</div>"
      ],
      "text/plain": [
       "                  TableName  \\\n",
       "0  avationIncidentsEntities   \n",
       "\n",
       "                                              Schema DatabaseName Folder  \\\n",
       "0  {\"Name\":\"avationIncidentsEntities\",\"OrderedCol...   embeddings   None   \n",
       "\n",
       "  DocString  \n",
       "0      None  "
      ]
     },
     "execution_count": 13,
     "metadata": {},
     "output_type": "execute_result"
    }
   ],
   "source": [
    "# create tables in ADX\n",
    "createTableCommand = f\".create table {entities_table} (document_id:string, document_name:string, entities:dynamic)\"\n",
    "response = client.execute_mgmt(KUSTO_DATABASE, createTableCommand)\n",
    "dataframe_from_result_table(response.primary_results[0])"
   ]
  },
  {
   "cell_type": "code",
   "execution_count": 14,
   "metadata": {},
   "outputs": [
    {
     "data": {
      "text/html": [
       "<div>\n",
       "<style scoped>\n",
       "    .dataframe tbody tr th:only-of-type {\n",
       "        vertical-align: middle;\n",
       "    }\n",
       "\n",
       "    .dataframe tbody tr th {\n",
       "        vertical-align: top;\n",
       "    }\n",
       "\n",
       "    .dataframe thead th {\n",
       "        text-align: right;\n",
       "    }\n",
       "</style>\n",
       "<table border=\"1\" class=\"dataframe\">\n",
       "  <thead>\n",
       "    <tr style=\"text-align: right;\">\n",
       "      <th></th>\n",
       "      <th>ExtentId</th>\n",
       "      <th>ItemLoaded</th>\n",
       "      <th>Duration</th>\n",
       "      <th>HasErrors</th>\n",
       "      <th>OperationId</th>\n",
       "    </tr>\n",
       "  </thead>\n",
       "  <tbody>\n",
       "    <tr>\n",
       "      <th>0</th>\n",
       "      <td>c09c17d4-a7e5-4389-a948-32f710a5eea8</td>\n",
       "      <td>inproc:7a856313-6ac3-46c3-841c-dc5971c33c90</td>\n",
       "      <td>0 days 00:00:00.453986</td>\n",
       "      <td>False</td>\n",
       "      <td>28a4390a-4b29-4ac2-b1c8-e0733cdec36b</td>\n",
       "    </tr>\n",
       "  </tbody>\n",
       "</table>\n",
       "</div>"
      ],
      "text/plain": [
       "                               ExtentId  \\\n",
       "0  c09c17d4-a7e5-4389-a948-32f710a5eea8   \n",
       "\n",
       "                                    ItemLoaded               Duration  \\\n",
       "0  inproc:7a856313-6ac3-46c3-841c-dc5971c33c90 0 days 00:00:00.453986   \n",
       "\n",
       "   HasErrors                           OperationId  \n",
       "0      False  28a4390a-4b29-4ac2-b1c8-e0733cdec36b  "
      ]
     },
     "execution_count": 14,
     "metadata": {},
     "output_type": "execute_result"
    }
   ],
   "source": [
    "# ingest the dataframes into the table\n",
    "ingestTableCommand = f\".ingest inline into table {embeddings_table} with (ignoreFirstRecord=true) <| {embeddings_df.to_csv(index=False)} \"\n",
    "response = client.execute(KUSTO_DATABASE, ingestTableCommand)\n",
    "dataframe_from_result_table(response.primary_results[0])"
   ]
  },
  {
   "cell_type": "code",
   "execution_count": 15,
   "metadata": {},
   "outputs": [
    {
     "data": {
      "text/html": [
       "<div>\n",
       "<style scoped>\n",
       "    .dataframe tbody tr th:only-of-type {\n",
       "        vertical-align: middle;\n",
       "    }\n",
       "\n",
       "    .dataframe tbody tr th {\n",
       "        vertical-align: top;\n",
       "    }\n",
       "\n",
       "    .dataframe thead th {\n",
       "        text-align: right;\n",
       "    }\n",
       "</style>\n",
       "<table border=\"1\" class=\"dataframe\">\n",
       "  <thead>\n",
       "    <tr style=\"text-align: right;\">\n",
       "      <th></th>\n",
       "      <th>ExtentId</th>\n",
       "      <th>ItemLoaded</th>\n",
       "      <th>Duration</th>\n",
       "      <th>HasErrors</th>\n",
       "      <th>OperationId</th>\n",
       "    </tr>\n",
       "  </thead>\n",
       "  <tbody>\n",
       "    <tr>\n",
       "      <th>0</th>\n",
       "      <td>f564cc69-ec31-4c65-b698-f1af6a59391a</td>\n",
       "      <td>inproc:9414c04d-9945-4bb3-b8da-2e99a51ea67c</td>\n",
       "      <td>0 days 00:00:00.140638500</td>\n",
       "      <td>False</td>\n",
       "      <td>51508124-8730-4a86-8520-0f5556b5cf88</td>\n",
       "    </tr>\n",
       "  </tbody>\n",
       "</table>\n",
       "</div>"
      ],
      "text/plain": [
       "                               ExtentId  \\\n",
       "0  f564cc69-ec31-4c65-b698-f1af6a59391a   \n",
       "\n",
       "                                    ItemLoaded                  Duration  \\\n",
       "0  inproc:9414c04d-9945-4bb3-b8da-2e99a51ea67c 0 days 00:00:00.140638500   \n",
       "\n",
       "   HasErrors                           OperationId  \n",
       "0      False  51508124-8730-4a86-8520-0f5556b5cf88  "
      ]
     },
     "execution_count": 15,
     "metadata": {},
     "output_type": "execute_result"
    }
   ],
   "source": [
    "# ingest the dataframes into the table\n",
    "ingestTableCommand = f\".ingest inline into table {entities_table} with (ignoreFirstRecord=true) <| {entities_df.to_csv(index=False)} \"\n",
    "response = client.execute(KUSTO_DATABASE, ingestTableCommand)\n",
    "dataframe_from_result_table(response.primary_results[0])"
   ]
  }
 ],
 "metadata": {
  "kernelspec": {
   "display_name": ".venv",
   "language": "python",
   "name": "python3"
  },
  "language_info": {
   "codemirror_mode": {
    "name": "ipython",
    "version": 3
   },
   "file_extension": ".py",
   "mimetype": "text/x-python",
   "name": "python",
   "nbconvert_exporter": "python",
   "pygments_lexer": "ipython3",
   "version": "3.10.11"
  },
  "orig_nbformat": 4
 },
 "nbformat": 4,
 "nbformat_minor": 2
}
