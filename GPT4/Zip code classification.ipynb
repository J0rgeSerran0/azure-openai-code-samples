{
 "cells": [
  {
   "cell_type": "code",
   "execution_count": 13,
   "metadata": {},
   "outputs": [],
   "source": [
    "import openai\n",
    "from dotenv import load_dotenv\n",
    "from IPython.display import display, HTML\n",
    "import os\n",
    "import textwrap\n",
    "import json \n",
    "\n",
    "load_dotenv()\n",
    "OPENAI_API_KEY = os.getenv(\"OPENAI_API_KEY\")\n",
    "OPENAI_DEPLOYMENT_ENDPOINT = os.getenv(\"OPENAI_DEPLOYMENT_ENDPOINT\")\n",
    "OPENAI_GPT4_DEPLOYMENT_NAME = os.getenv(\"OPENAI_GPT4_DEPLOYMENT_NAME\")"
   ]
  },
  {
   "cell_type": "code",
   "execution_count": 14,
   "metadata": {},
   "outputs": [],
   "source": [
    "client = openai.AzureOpenAI(\n",
    "        azure_endpoint=OPENAI_DEPLOYMENT_ENDPOINT,\n",
    "        api_key=OPENAI_API_KEY,\n",
    "        api_version=\"2023-09-01-preview\"\n",
    "    )"
   ]
  },
  {
   "cell_type": "code",
   "execution_count": 24,
   "metadata": {},
   "outputs": [],
   "source": [
    "def call_openAI(text):\n",
    "    system_message = \"\"\"\n",
    "You are an AI assistant that helps people find demographic information for zip codes for research purposes\n",
    "1. Evaluate the given US zip code and provide demographic information for the zip code as follows:\n",
    "    Age distribution, Family structure, Income distribution, Education level, Employment status, Housing type, Urban/Suburban/Rural classification\n",
    "2. Do not provide any additional examples to the output, just the JSON format.\n",
    "3. Provide the output in a valid JSON format that can be serialized as a JSON object, as follows only specifying one value with the highest probability:\n",
    "    Output:\n",
    "        {\n",
    "        \"AgeDistribution\": \"18-24, 25-34, 35-44, 45-54, 55-64, 65+\",\n",
    "        \"FamilyStructure\": \"single, family, retired, other\",\n",
    "        \"IncomeDistribution\": \"$0-$25k, $25k-$50k, $50k-$75k, $75k-$100k, $100k-$150k, $150k+\",\n",
    "        \"EducationLevel\": \"Primary, High School, Postgraduate, no graduation\",\n",
    "        \"EmploymentStatus\": \"Self-employed, Employed, Unemployed, Retired, Student\",\n",
    "        \"HousingType\": \" Single-family, Multi-family, Condo, Townhouse, Apartment, Mobile home\",\n",
    "        \"UrbanClassification\": \"Urban, Suburban, Rural\"\n",
    "        }\n",
    "    \"\"\"\n",
    "\n",
    "    response = client.chat.completions.create(\n",
    "        model=OPENAI_GPT4_DEPLOYMENT_NAME,\n",
    "        messages = [\n",
    "            {\"role\":\"system\",\"content\":system_message},\n",
    "            {\"role\":\"user\",\"content\":text}\n",
    "            ],\n",
    "        temperature=0.7,\n",
    "        max_tokens=800,\n",
    "        top_p=0.95,\n",
    "        frequency_penalty=0,\n",
    "        presence_penalty=0,\n",
    "        stop=None\n",
    "    )\n",
    "\n",
    "    return response.choices[0].message.content\n",
    "\n",
    "def prettyprint(text: str) -> str:\n",
    "    print(textwrap.fill(text, 60))\n"
   ]
  },
  {
   "cell_type": "code",
   "execution_count": 27,
   "metadata": {},
   "outputs": [
    {
     "data": {
      "text/html": [
       "Output:\n",
       "```json\n",
       "{\n",
       "    \"AgeDistribution\": \"25-34\",\n",
       "    \"FamilyStructure\": \"single\",\n",
       "    \"IncomeDistribution\": \"$100k-$150k\",\n",
       "    \"EducationLevel\": \"Postgraduate\",\n",
       "    \"EmploymentStatus\": \"Employed\",\n",
       "    \"HousingType\": \"Apartment\",\n",
       "    \"UrbanClassification\": \"Urban\"\n",
       "}\n",
       "```"
      ],
      "text/plain": [
       "<IPython.core.display.HTML object>"
      ]
     },
     "metadata": {},
     "output_type": "display_data"
    }
   ],
   "source": [
    "answer = call_openAI(\"60654\")\n",
    "display(HTML(answer))"
   ]
  },
  {
   "cell_type": "code",
   "execution_count": 26,
   "metadata": {},
   "outputs": [
    {
     "data": {
      "text/html": [
       "{\n",
       "    \"AgeDistribution\": \"45-54\",\n",
       "    \"FamilyStructure\": \"family\",\n",
       "    \"IncomeDistribution\": \"$50k-$75k\",\n",
       "    \"EducationLevel\": \"High School\",\n",
       "    \"EmploymentStatus\": \"Employed\",\n",
       "    \"HousingType\": \"Single-family\",\n",
       "    \"UrbanClassification\": \"Rural\"\n",
       "}"
      ],
      "text/plain": [
       "<IPython.core.display.HTML object>"
      ]
     },
     "metadata": {},
     "output_type": "display_data"
    }
   ],
   "source": [
    "answer = call_openAI(\"59001\")\n",
    "display(HTML(answer))"
   ]
  }
 ],
 "metadata": {
  "kernelspec": {
   "display_name": ".venv",
   "language": "python",
   "name": "python3"
  },
  "language_info": {
   "codemirror_mode": {
    "name": "ipython",
    "version": 3
   },
   "file_extension": ".py",
   "mimetype": "text/x-python",
   "name": "python",
   "nbconvert_exporter": "python",
   "pygments_lexer": "ipython3",
   "version": "3.10.11"
  },
  "orig_nbformat": 4
 },
 "nbformat": 4,
 "nbformat_minor": 2
}
