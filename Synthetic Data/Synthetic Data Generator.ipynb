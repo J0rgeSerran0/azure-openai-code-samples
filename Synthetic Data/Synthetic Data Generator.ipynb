{
  "cells": [
    {
      "cell_type": "code",
      "execution_count": 29,
      "id": "a0377478",
      "metadata": {
        "id": "a0377478"
      },
      "outputs": [],
      "source": [
        "from langchain_core.prompts import FewShotPromptTemplate, PromptTemplate\n",
        "from langchain_core.pydantic_v1 import BaseModel\n",
        "from langchain_experimental.tabular_synthetic_data.openai import (\n",
        "    OPENAI_TEMPLATE,\n",
        "    create_openai_data_generator,\n",
        ")\n",
        "from langchain_experimental.tabular_synthetic_data.prompts import (\n",
        "    SYNTHETIC_FEW_SHOT_PREFIX,\n",
        "    SYNTHETIC_FEW_SHOT_SUFFIX,\n",
        ")\n",
        "from langchain_openai import AzureChatOpenAI\n",
        "\n",
        "from dotenv import load_dotenv\n",
        "import os\n",
        "\n",
        "load_dotenv()\n",
        "OPENAI_API_KEY = os.getenv(\"OPENAI_API_KEY\")\n",
        "OPENAI_DEPLOYMENT_ENDPOINT = os.getenv(\"OPENAI_DEPLOYMENT_ENDPOINT\")\n",
        "OPENAI_GPT35_DEPLOYMENT_NAME = os.getenv(\"OPENAI_GPT35_DEPLOYMENT_NAME\")\n",
        "OPENAI_GPT4_DEPLOYMENT_NAME = os.getenv(\"OPENAI_GPT4_DEPLOYMENT_NAME\")\n",
        "api_version=\"2023-09-01-preview\""
      ]
    },
    {
      "cell_type": "code",
      "execution_count": 33,
      "id": "291bad6e",
      "metadata": {
        "id": "291bad6e"
      },
      "outputs": [],
      "source": [
        "#define the data model for the synthetic data\n",
        "class BankTransaction(BaseModel):\n",
        "    us_zip_code: int\n",
        "    bank_transaction_description: str\n",
        "    product_description: str\n",
        "    amount: float"
      ]
    },
    {
      "cell_type": "code",
      "execution_count": 34,
      "id": "b989b792",
      "metadata": {
        "id": "b989b792"
      },
      "outputs": [],
      "source": [
        "examples = [\n",
        "    {\n",
        "        \"example\": \"\"\"US ZIP CODE: 77449, Bank Transaction Description: British Telecom, product_description: Annual fee, Amount: $350\"\"\"\n",
        "    },\n",
        "    {\n",
        "        \"example\": \"\"\"US ZIP CODE: 90011, Bank Transaction Description: Uber BV Toll Free Amsterdam NLD, product_description: toll, Amount: $54\"\"\"\n",
        "    },\n",
        "    {\n",
        "        \"example\": \"\"\"US ZIP CODE: 10458, Bank Transaction Description: THE AMERICAN HEART ASSOCIATION DALLAS TX, product_description: Subscription,Amount: $850\"\"\"\n",
        "    },\n",
        "    {\n",
        "        \"example\": \"\"\"US ZIP CODE: 95123, Bank Transaction Description: Transferencia Banco Santander Madrid, product_description: Transferencia bancaria, Amount: $550\"\"\"\n",
        "    },\n",
        "]"
      ]
    },
    {
      "cell_type": "code",
      "execution_count": 36,
      "id": "ea6e042e",
      "metadata": {
        "id": "ea6e042e"
      },
      "outputs": [],
      "source": [
        "OPENAI_TEMPLATE = PromptTemplate(input_variables=[\"example\"], template=\"{example}\")\n",
        "\n",
        "prompt_template = FewShotPromptTemplate(\n",
        "    prefix=SYNTHETIC_FEW_SHOT_PREFIX,\n",
        "    examples=examples,\n",
        "    suffix=SYNTHETIC_FEW_SHOT_SUFFIX,\n",
        "    input_variables=[\"subject\", \"extra\"],\n",
        "    example_prompt=OPENAI_TEMPLATE,\n",
        ")"
      ]
    },
    {
      "cell_type": "code",
      "execution_count": 37,
      "id": "1b9ba911",
      "metadata": {
        "id": "1b9ba911"
      },
      "outputs": [],
      "source": [
        "\n",
        "llm = AzureChatOpenAI(deployment_name=OPENAI_GPT4_DEPLOYMENT_NAME,\n",
        "                            model=OPENAI_GPT4_DEPLOYMENT_NAME,\n",
        "                            openai_api_version=api_version,\n",
        "                            azure_endpoint=OPENAI_DEPLOYMENT_ENDPOINT,\n",
        "                            temperature=1\n",
        "                            )\n",
        "\n",
        "synthetic_data_generator = create_openai_data_generator(output_schema=BankTransaction,llm= llm, prompt=prompt_template)"
      ]
    },
    {
      "cell_type": "code",
      "execution_count": 43,
      "id": "a424c890",
      "metadata": {
        "id": "a424c890"
      },
      "outputs": [
        {
          "data": {
            "text/plain": [
              "[BankTransaction(us_zip_code=10001, bank_transaction_description='Spotify Premium', product_description='Music Streaming Subscription', amount=9.99),\n",
              " BankTransaction(us_zip_code=94105, bank_transaction_description='Whole Foods Market Purchase San Francisco CA', product_description='Groceries', amount=127.45),\n",
              " BankTransaction(us_zip_code=90015, bank_transaction_description='Netflix Monthly Subscription', product_description='Streaming Service', amount=15.99),\n",
              " BankTransaction(us_zip_code=13210, bank_transaction_description='AT&T Bill Payment', product_description='Mobile Service Bill', amount=65.25),\n",
              " BankTransaction(us_zip_code=60601, bank_transaction_description='Amazon Prime Membership', product_description='Online Services Subscription', amount=14.99),\n",
              " BankTransaction(us_zip_code=10007, bank_transaction_description='Starbucks Coffee Purchase New York NY', product_description='Coffee and Snacks', amount=23.76),\n",
              " BankTransaction(us_zip_code=94105, bank_transaction_description='Apple Music Subscription', product_description='Music Streaming Service', amount=9.99),\n",
              " BankTransaction(us_zip_code=78701, bank_transaction_description='Netflix Monthly Subscription', product_description='Streaming Service', amount=15.49),\n",
              " BankTransaction(us_zip_code=90015, bank_transaction_description='Spotify Premium Monthly Fee', product_description='Music Streaming Subscription', amount=9.99),\n",
              " BankTransaction(us_zip_code=15213, bank_transaction_description='Whole Foods Market Grocery Shopping', product_description='Organic Foods and Groceries', amount=127.85),\n",
              " BankTransaction(us_zip_code=10001, bank_transaction_description='Amazon Prime Membership', product_description='Prime Subscription Service', amount=12.99),\n",
              " BankTransaction(us_zip_code=33131, bank_transaction_description='Starbucks Morning Coffee Purchase', product_description='Coffee and Snacks', amount=4.75),\n",
              " BankTransaction(us_zip_code=94103, bank_transaction_description='Netflix Basic Plan Subscription', product_description='Streaming Service Membership', amount=8.99),\n",
              " BankTransaction(us_zip_code=90015, bank_transaction_description=\"Trader Joe's Grocery Shopping\", product_description='Fresh Produce and Packaged Goods', amount=68.23),\n",
              " BankTransaction(us_zip_code=60607, bank_transaction_description='Whole Foods Market Grocery Purchase', product_description='Organic Foods and Groceries', amount=97.35),\n",
              " BankTransaction(us_zip_code=10023, bank_transaction_description='Peloton Monthly Subscription', product_description='Fitness Membership', amount=39.99),\n",
              " BankTransaction(us_zip_code=32801, bank_transaction_description='Spotify Premium Subscription', product_description='Digital Music Service', amount=9.99),\n",
              " BankTransaction(us_zip_code=94110, bank_transaction_description='Starbucks Coffee Purchase', product_description='Beverages and Snacks', amount=15.47),\n",
              " BankTransaction(us_zip_code=90015, bank_transaction_description='Netflix Streaming Service Payment', product_description='Online Video Streaming', amount=13.99),\n",
              " BankTransaction(us_zip_code=98109, bank_transaction_description='Amazon Prime Membership Fee', product_description='Online Retail Membership', amount=14.99),\n",
              " BankTransaction(us_zip_code=10001, bank_transaction_description='Grubhub Food Delivery', product_description='Online Food Ordering Service', amount=24.35),\n",
              " BankTransaction(us_zip_code=33131, bank_transaction_description='Lyft Ride Share Fee', product_description='Transportation Service', amount=27.85),\n",
              " BankTransaction(us_zip_code=94107, bank_transaction_description='Spotify Monthly Subscription', product_description='Music Streaming Service', amount=9.99),\n",
              " BankTransaction(us_zip_code=90015, bank_transaction_description='Netflix Monthly Subscription', product_description='Video Streaming Service', amount=15.49),\n",
              " BankTransaction(us_zip_code=77002, bank_transaction_description='Amazon Prime Membership', product_description='Online Retail Membership', amount=119.0),\n",
              " BankTransaction(us_zip_code=10004, bank_transaction_description='Apple iTunes Purchase', product_description='Digital Media Content', amount=13.97),\n",
              " BankTransaction(us_zip_code=10001, bank_transaction_description='Adobe Creative Cloud Subscription', product_description='Creative Software Suite', amount=52.99),\n",
              " BankTransaction(us_zip_code=94105, bank_transaction_description='Spotify Premium Subscription', product_description='Music Streaming Service', amount=9.99),\n",
              " BankTransaction(us_zip_code=90015, bank_transaction_description='Netflix Monthly Subscription', product_description='Video Streaming Service', amount=15.49),\n",
              " BankTransaction(us_zip_code=33131, bank_transaction_description='Amazon Prime Membership', product_description='Online Shopping & Media', amount=12.99),\n",
              " BankTransaction(us_zip_code=77002, bank_transaction_description='Apple Music Membership', product_description='Music & Media Streaming', amount=9.99),\n",
              " BankTransaction(us_zip_code=10001, bank_transaction_description='Hulu Streaming Service', product_description='Entertainment & Media Subscription', amount=11.99),\n",
              " BankTransaction(us_zip_code=94105, bank_transaction_description='Spotify Premium Subscription', product_description='Music Streaming Service', amount=9.99),\n",
              " BankTransaction(us_zip_code=60601, bank_transaction_description='Netflix Standard Plan', product_description='Video Streaming Service', amount=15.99),\n",
              " BankTransaction(us_zip_code=90015, bank_transaction_description='Amazon Prime Monthly Fee', product_description='Retail & Entertainment Membership', amount=14.99),\n",
              " BankTransaction(us_zip_code=33131, bank_transaction_description='Adobe Creative Cloud Subscription', product_description='Software Subscription Service', amount=52.99),\n",
              " BankTransaction(us_zip_code=10001, bank_transaction_description='Hulu Monthly Subscription', product_description='Video Streaming Service', amount=11.99),\n",
              " BankTransaction(us_zip_code=15213, bank_transaction_description='Spotify Premium Subscription', product_description='Music Streaming Service', amount=9.99),\n",
              " BankTransaction(us_zip_code=94105, bank_transaction_description='Netflix Premium Plan', product_description='Video Streaming Service', amount=17.99),\n",
              " BankTransaction(us_zip_code=90015, bank_transaction_description='Amazon Prime Membership', product_description='E-commerce Subscription Service', amount=14.99),\n",
              " BankTransaction(us_zip_code=60605, bank_transaction_description='Apple Music Individual Plan', product_description='Music Streaming Service', amount=9.99),\n",
              " BankTransaction(us_zip_code=10007, bank_transaction_description='HBO Max Streaming Service', product_description='Entertainment Subscription', amount=14.99),\n",
              " BankTransaction(us_zip_code=33131, bank_transaction_description='Spotify Family Subscription', product_description='Music Streaming Service', amount=15.99),\n",
              " BankTransaction(us_zip_code=94105, bank_transaction_description='Netflix Premium Plan', product_description='Video Streaming Service', amount=17.99),\n",
              " BankTransaction(us_zip_code=90015, bank_transaction_description='Amazon Prime Membership', product_description='Prime Subscription Service', amount=14.99),\n",
              " BankTransaction(us_zip_code=10024, bank_transaction_description='Apple iCloud Storage Plan', product_description='Cloud Storage Service', amount=2.99),\n",
              " BankTransaction(us_zip_code=90210, bank_transaction_description='Hulu Monthly Subscription', product_description='Video Streaming Service', amount=11.99),\n",
              " BankTransaction(us_zip_code=33131, bank_transaction_description='Spotify Music Subscription', product_description='Music Streaming Service', amount=9.99),\n",
              " BankTransaction(us_zip_code=30301, bank_transaction_description='Netflix Standard Plan', product_description='Video Streaming Service', amount=15.49),\n",
              " BankTransaction(us_zip_code=94105, bank_transaction_description='Amazon Prime Membership', product_description='Membership & Subscription', amount=14.99),\n",
              " BankTransaction(us_zip_code=10001, bank_transaction_description='Apple Music Subscription', product_description='Music Streaming Service', amount=9.99),\n",
              " BankTransaction(us_zip_code=90210, bank_transaction_description='Adobe Creative Cloud Subscription', product_description='Software Subscription Service', amount=52.99),\n",
              " BankTransaction(us_zip_code=33131, bank_transaction_description='Spotify Premium Subscription', product_description='Music Streaming Service', amount=9.99),\n",
              " BankTransaction(us_zip_code=10036, bank_transaction_description='Netflix Premium Streaming', product_description='Video Streaming Service', amount=17.99),\n",
              " BankTransaction(us_zip_code=94105, bank_transaction_description='Dropbox Plus Annual Plan', product_description='Cloud Storage Service', amount=119.88),\n",
              " BankTransaction(us_zip_code=78701, bank_transaction_description='Audible Premium Plus Membership', product_description='Audiobook Subscription Service', amount=14.95),\n",
              " BankTransaction(us_zip_code=90015, bank_transaction_description='Adobe Creative Cloud Monthly Subscription', product_description='Digital Content Creation Tools', amount=52.99),\n",
              " BankTransaction(us_zip_code=33131, bank_transaction_description='Spotify Premium Subscription', product_description='Music Streaming Service', amount=9.99),\n",
              " BankTransaction(us_zip_code=10007, bank_transaction_description='Microsoft Office 365 Personal', product_description='Productivity Software Suite', amount=69.99),\n",
              " BankTransaction(us_zip_code=60601, bank_transaction_description='Netflix Basic Plan', product_description='Video Streaming Service', amount=8.99),\n",
              " BankTransaction(us_zip_code=94107, bank_transaction_description='Dropbox Plus Annual Subscription', product_description='Cloud Storage Service', amount=119.88),\n",
              " BankTransaction(us_zip_code=90015, bank_transaction_description='Adobe Creative Cloud Subscription', product_description='Design Software Suite', amount=52.99),\n",
              " BankTransaction(us_zip_code=33131, bank_transaction_description='Spotify Premium Monthly Subscription', product_description='Music Streaming Service', amount=9.99),\n",
              " BankTransaction(us_zip_code=10001, bank_transaction_description='Amazon Prime Annual Membership', product_description='Online Marketplace & Media Services', amount=119.0),\n",
              " BankTransaction(us_zip_code=30301, bank_transaction_description='Netflix Standard Monthly Plan', product_description='Streaming Service', amount=15.49),\n",
              " BankTransaction(us_zip_code=94105, bank_transaction_description='Salesforce CRM Monthly Subscription', product_description='Customer Relationship Management Software', amount=99.0),\n",
              " BankTransaction(us_zip_code=90015, bank_transaction_description='Hulu Basic Monthly Subscription', product_description='Video Streaming Service', amount=6.99),\n",
              " BankTransaction(us_zip_code=10024, bank_transaction_description='Spotify Premium Monthly Subscription', product_description='Music Streaming Service', amount=9.99),\n",
              " BankTransaction(us_zip_code=60601, bank_transaction_description='Amazon Prime Yearly Membership', product_description='E-commerce Subscription', amount=139.0),\n",
              " BankTransaction(us_zip_code=33301, bank_transaction_description='Adobe Creative Cloud Monthly Subscription', product_description='Graphic Design Software', amount=52.99),\n",
              " BankTransaction(us_zip_code=94105, bank_transaction_description='Netflix Premium Monthly Subscription', product_description='Video Streaming Service', amount=17.99),\n",
              " BankTransaction(us_zip_code=10019, bank_transaction_description='Hulu Basic Monthly Subscription', product_description='Video Streaming Service', amount=5.99),\n",
              " BankTransaction(us_zip_code=90015, bank_transaction_description='Spotify Premium Monthly Subscription', product_description='Music Streaming Service', amount=9.99),\n",
              " BankTransaction(us_zip_code=20001, bank_transaction_description='Amazon Prime Annual Membership', product_description='E-commerce Membership', amount=139.0),\n",
              " BankTransaction(us_zip_code=10023, bank_transaction_description='Adobe Creative Cloud Monthly Subscription', product_description='Creative Software Suite', amount=52.99),\n",
              " BankTransaction(us_zip_code=94107, bank_transaction_description='Netflix Standard Monthly Subscription', product_description='Video Streaming Service', amount=15.49),\n",
              " BankTransaction(us_zip_code=78701, bank_transaction_description='Apple iCloud 50GB Storage Plan', product_description='Cloud Storage Service', amount=0.99),\n",
              " BankTransaction(us_zip_code=90015, bank_transaction_description='Spotify Premium Monthly Subscription', product_description='Music Streaming Service', amount=9.99),\n",
              " BankTransaction(us_zip_code=33131, bank_transaction_description='Amazon Prime Annual Membership', product_description='Online Marketplace Membership', amount=139.0),\n",
              " BankTransaction(us_zip_code=10001, bank_transaction_description='Adobe Creative Cloud Monthly Subscription', product_description='Graphic Design Software', amount=52.99),\n",
              " BankTransaction(us_zip_code=94105, bank_transaction_description='Netflix Standard Plan Monthly', product_description='Video Streaming Service', amount=15.49),\n",
              " BankTransaction(us_zip_code=60654, bank_transaction_description='Hulu Ad-Free Subscription Monthly', product_description='Video Streaming Service', amount=11.99),\n",
              " BankTransaction(us_zip_code=90015, bank_transaction_description='Spotify Premium Monthly Subscription', product_description='Music Streaming Service', amount=9.99),\n",
              " BankTransaction(us_zip_code=32801, bank_transaction_description='Amazon Prime Membership Annual', product_description='E-commerce Membership', amount=119.0),\n",
              " BankTransaction(us_zip_code=10001, bank_transaction_description='Adobe Creative Cloud Monthly Subscription', product_description='Software Subscription Service', amount=52.99),\n",
              " BankTransaction(us_zip_code=94105, bank_transaction_description='Netflix Premium Subscription Monthly', product_description='Video Streaming Service', amount=15.99),\n",
              " BankTransaction(us_zip_code=77002, bank_transaction_description='AT&T Internet Service Monthly Payment', product_description='Internet Service Provider', amount=49.99),\n",
              " BankTransaction(us_zip_code=90015, bank_transaction_description='Spotify Premium Monthly Subscription', product_description='Music Streaming Service', amount=9.99),\n",
              " BankTransaction(us_zip_code=33131, bank_transaction_description='Amazon Prime Annual Membership', product_description='E-commerce Membership', amount=119.0),\n",
              " BankTransaction(us_zip_code=10001, bank_transaction_description='Adobe Creative Cloud Monthly Subscription', product_description='Creative Software Suite', amount=52.99),\n",
              " BankTransaction(us_zip_code=94105, bank_transaction_description='Netflix Premium Plan Subscription', product_description='Streaming Service', amount=17.99),\n",
              " BankTransaction(us_zip_code=78701, bank_transaction_description='Audible Audio Books Monthly Subscription', product_description='Audio Book Service', amount=14.95),\n",
              " BankTransaction(us_zip_code=90015, bank_transaction_description='Spotify Premium Monthly', product_description='Music Streaming Service', amount=9.99),\n",
              " BankTransaction(us_zip_code=20001, bank_transaction_description='Amazon Prime Membership', product_description='Prime Membership Subscription', amount=14.99),\n",
              " BankTransaction(us_zip_code=10007, bank_transaction_description='Apple iCloud Storage Plan', product_description='Cloud Storage Service', amount=2.99),\n",
              " BankTransaction(us_zip_code=94105, bank_transaction_description='Netflix HD Streaming Plan', product_description='Video Streaming Subscription', amount=15.49),\n",
              " BankTransaction(us_zip_code=33131, bank_transaction_description='Dropbox Pro Subscription', product_description='Cloud File Storage Service', amount=11.99),\n",
              " BankTransaction(us_zip_code=90015, bank_transaction_description='Spotify Premium Subscription', product_description='Music Streaming Service', amount=9.99),\n",
              " BankTransaction(us_zip_code=20008, bank_transaction_description='Amazon Prime Membership', product_description='E-commerce and Streaming Service', amount=12.99),\n",
              " BankTransaction(us_zip_code=10007, bank_transaction_description='Adobe Creative Cloud Monthly', product_description='Digital Creativity Suite', amount=52.99),\n",
              " BankTransaction(us_zip_code=94103, bank_transaction_description='Netflix Monthly Subscription', product_description='Streaming Video Service', amount=13.99),\n",
              " BankTransaction(us_zip_code=75201, bank_transaction_description='Xbox Live Gold Membership', product_description='Gaming Subscription Service', amount=9.99),\n",
              " BankTransaction(us_zip_code=90015, bank_transaction_description='Spotify Premium Subscription', product_description='Music Streaming Service', amount=9.99),\n",
              " BankTransaction(us_zip_code=33131, bank_transaction_description='Amazon Prime Annual Membership', product_description='Online Shopping Benefits', amount=119.0),\n",
              " BankTransaction(us_zip_code=10001, bank_transaction_description='Adobe Creative Cloud Monthly Plan', product_description='Creative Software Suite', amount=52.99),\n",
              " BankTransaction(us_zip_code=94105, bank_transaction_description='Netflix Standard Plan Subscription', product_description='Video Streaming Service', amount=15.49),\n",
              " BankTransaction(us_zip_code=20007, bank_transaction_description='HBO Max Monthly Subscription', product_description='Entertainment Streaming Service', amount=14.99),\n",
              " BankTransaction(us_zip_code=90015, bank_transaction_description='Spotify Premium Monthly Subscription', product_description='Music Streaming Service', amount=9.99),\n",
              " BankTransaction(us_zip_code=75201, bank_transaction_description='Amazon Prime Membership', product_description='Online Retail Membership', amount=139.0),\n",
              " BankTransaction(us_zip_code=10007, bank_transaction_description='Apple iCloud 50GB Storage Plan', product_description='Cloud Storage Service', amount=0.99),\n",
              " BankTransaction(us_zip_code=94105, bank_transaction_description='Netflix Premium Subscription', product_description='Video Streaming Service', amount=17.99),\n",
              " BankTransaction(us_zip_code=33131, bank_transaction_description='Adobe Creative Cloud Monthly Subscription', product_description='Graphic Design Software', amount=52.99),\n",
              " BankTransaction(us_zip_code=90015, bank_transaction_description='Spotify Premium Monthly', product_description='Music Streaming Service', amount=9.99),\n",
              " BankTransaction(us_zip_code=20001, bank_transaction_description='Amazon Prime Membership', product_description='Online Marketplace Subscription', amount=12.99),\n",
              " BankTransaction(us_zip_code=10007, bank_transaction_description='Apple iCloud Storage Upgrade', product_description='Cloud Storage Service', amount=2.99),\n",
              " BankTransaction(us_zip_code=94105, bank_transaction_description='Netflix Standard Plan Subscription', product_description='Video Streaming Service', amount=15.49),\n",
              " BankTransaction(us_zip_code=33131, bank_transaction_description='Hulu Ad-Free Monthly Subscription', product_description='Video Streaming Service', amount=11.99),\n",
              " BankTransaction(us_zip_code=90015, bank_transaction_description='Spotify Premium Monthly Subscription', product_description='Music Streaming Service', amount=9.99),\n",
              " BankTransaction(us_zip_code=10011, bank_transaction_description='Amazon Prime Membership', product_description='Membership Subscription', amount=14.99),\n",
              " BankTransaction(us_zip_code=10024, bank_transaction_description='Apple Music Individual Plan', product_description='Music Streaming Service', amount=9.99),\n",
              " BankTransaction(us_zip_code=94103, bank_transaction_description='Netflix Standard Monthly Subscription', product_description='Video Streaming Service', amount=15.49),\n",
              " BankTransaction(us_zip_code=32801, bank_transaction_description='HBO Max Streaming Service Subscription', product_description='Video Streaming Service', amount=14.99),\n",
              " BankTransaction(us_zip_code=90015, bank_transaction_description='Spotify Premium Monthly Fee', product_description='Music Streaming Service', amount=9.99),\n",
              " BankTransaction(us_zip_code=75201, bank_transaction_description='Disney+ Monthly Membership', product_description='Video Streaming Service', amount=7.99),\n",
              " BankTransaction(us_zip_code=10001, bank_transaction_description='Adobe Creative Cloud Monthly License', product_description='Creative Software', amount=52.99),\n",
              " BankTransaction(us_zip_code=94102, bank_transaction_description='Netflix Standard Plan', product_description='Video Streaming Service', amount=15.49),\n",
              " BankTransaction(us_zip_code=33131, bank_transaction_description='Amazon Prime Membership', product_description='Online Retail Membership', amount=14.99),\n",
              " BankTransaction(us_zip_code=90015, bank_transaction_description='Spotify Premium Subscription', product_description='Music Streaming Service', amount=9.99),\n",
              " BankTransaction(us_zip_code=60601, bank_transaction_description='Microsoft Office 365 Annual Subscription', product_description='Office Suite Subscription', amount=99.99),\n",
              " BankTransaction(us_zip_code=10001, bank_transaction_description='Adobe Creative Cloud Monthly Subscription', product_description='Creative Software Suite', amount=52.99),\n",
              " BankTransaction(us_zip_code=94105, bank_transaction_description='Netflix Standard Plan', product_description='Streaming Service Subscription', amount=15.49),\n",
              " BankTransaction(us_zip_code=78701, bank_transaction_description='Apple Music Family Plan', product_description='Music Streaming Service', amount=14.99),\n",
              " BankTransaction(us_zip_code=90015, bank_transaction_description='Spotify Premium Subscription', product_description='Music Streaming Service', amount=9.99),\n",
              " BankTransaction(us_zip_code=33131, bank_transaction_description='Amazon Prime Annual Membership', product_description='E-commerce Membership', amount=119.0),\n",
              " BankTransaction(us_zip_code=10004, bank_transaction_description='Hulu Monthly Subscription', product_description='Streaming Service Subscription', amount=11.99),\n",
              " BankTransaction(us_zip_code=94105, bank_transaction_description='Netflix Standard Plan', product_description='Video Streaming Subscription', amount=15.49),\n",
              " BankTransaction(us_zip_code=77002, bank_transaction_description='Apple iCloud Storage Upgrade', product_description='Cloud Storage Service', amount=2.99),\n",
              " BankTransaction(us_zip_code=90015, bank_transaction_description='Spotify Premium Subscription', product_description='Music Streaming Service', amount=9.99),\n",
              " BankTransaction(us_zip_code=10001, bank_transaction_description='Amazon Prime Membership', product_description='Online Membership', amount=12.99),\n",
              " BankTransaction(us_zip_code=33131, bank_transaction_description='Adobe Creative Cloud Subscription', product_description='Creative Software Suite', amount=52.99),\n",
              " BankTransaction(us_zip_code=94105, bank_transaction_description='Netflix Standard Plan', product_description='Video Streaming Service', amount=15.49),\n",
              " BankTransaction(us_zip_code=77002, bank_transaction_description='Apple iCloud 50GB Plan', product_description='Cloud Storage Service', amount=0.99),\n",
              " BankTransaction(us_zip_code=90015, bank_transaction_description='Spotify Premium Subscription', product_description='Music Streaming Service', amount=9.99),\n",
              " BankTransaction(us_zip_code=10007, bank_transaction_description='Amazon Prime Membership', product_description='E-commerce Membership', amount=14.99),\n",
              " BankTransaction(us_zip_code=10001, bank_transaction_description='Adobe Creative Cloud Subscription', product_description='Software Suite Subscription', amount=52.99),\n",
              " BankTransaction(us_zip_code=94103, bank_transaction_description='Netflix HD Plan', product_description='Video Streaming Service', amount=13.99),\n",
              " BankTransaction(us_zip_code=32801, bank_transaction_description='Hulu Streaming Subscription', product_description='Video Streaming Service', amount=5.99),\n",
              " BankTransaction(us_zip_code=90210, bank_transaction_description='Spotify Premium Subscription', product_description='Music Streaming Service', amount=9.99),\n",
              " BankTransaction(us_zip_code=60601, bank_transaction_description='Microsoft Office 365 Home', product_description='Productivity Software Suite Subscription', amount=99.99),\n",
              " BankTransaction(us_zip_code=10001, bank_transaction_description='Adobe Creative Cloud Photography', product_description='Creative Software Subscription', amount=9.99),\n",
              " BankTransaction(us_zip_code=94105, bank_transaction_description='Netflix Basic Subscription', product_description='Entertainment Streaming Service', amount=8.99),\n",
              " BankTransaction(us_zip_code=33131, bank_transaction_description='Apple Music Individual Plan', product_description='Music Streaming Subscription', amount=9.99),\n",
              " BankTransaction(us_zip_code=90015, bank_transaction_description='Spotify Premium Membership', product_description='Music Streaming Subscription', amount=9.99),\n",
              " BankTransaction(us_zip_code=80202, bank_transaction_description='Amazon Prime Annual Membership', product_description='Online Retail Membership', amount=119.0),\n",
              " BankTransaction(us_zip_code=10001, bank_transaction_description='Hulu Monthly Subscription', product_description='Video Streaming Service', amount=11.99),\n",
              " BankTransaction(us_zip_code=94105, bank_transaction_description='Netflix Standard Plan', product_description='Video Streaming Service', amount=15.49),\n",
              " BankTransaction(us_zip_code=33131, bank_transaction_description='Apple iCloud Storage Plan', product_description='Cloud storage service', amount=2.99),\n",
              " BankTransaction(us_zip_code=90015, bank_transaction_description='Spotify Premium Subscription', product_description='Music Streaming Service', amount=9.99),\n",
              " BankTransaction(us_zip_code=20001, bank_transaction_description='Amazon Prime Membership', product_description='Online Marketplace Subscription', amount=14.99),\n",
              " BankTransaction(us_zip_code=10007, bank_transaction_description='Adobe Creative Cloud Subscription', product_description='Creative Software Suite', amount=52.99),\n",
              " BankTransaction(us_zip_code=60606, bank_transaction_description='Netflix Standard Plan', product_description='Video Streaming Service', amount=15.49),\n",
              " BankTransaction(us_zip_code=94105, bank_transaction_description='Apple iCloud Storage Plan', product_description='Cloud Storage Service', amount=2.99),\n",
              " BankTransaction(us_zip_code=10036, bank_transaction_description='Spotify Premium Subscription', product_description='Music Streaming Service', amount=9.99),\n",
              " BankTransaction(us_zip_code=90015, bank_transaction_description='Amazon Prime Membership', product_description='Online Retail Membership', amount=14.99),\n",
              " BankTransaction(us_zip_code=20001, bank_transaction_description='Adobe Creative Cloud Monthly', product_description='Graphic Design Software', amount=52.99),\n",
              " BankTransaction(us_zip_code=78701, bank_transaction_description='Netflix Standard Plan', product_description='Video Streaming Service', amount=15.49),\n",
              " BankTransaction(us_zip_code=94105, bank_transaction_description='Dropbox Plus Monthly Plan', product_description='Cloud Storage Service', amount=9.99),\n",
              " BankTransaction(us_zip_code=10001, bank_transaction_description='Spotify Premium Subscription', product_description='Music Streaming Service', amount=9.99),\n",
              " BankTransaction(us_zip_code=90015, bank_transaction_description='Amazon Prime Membership', product_description='Online Shopping and Entertainment', amount=14.99),\n",
              " BankTransaction(us_zip_code=60601, bank_transaction_description='Adobe Creative Cloud Monthly', product_description='Creative Software Suite', amount=52.99),\n",
              " BankTransaction(us_zip_code=20005, bank_transaction_description='Microsoft Office 365 Subscription', product_description='Productivity Software Suite', amount=69.99),\n",
              " BankTransaction(us_zip_code=94105, bank_transaction_description='Netflix Standard Plan Subscription', product_description='Streaming Entertainment Service', amount=15.49),\n",
              " BankTransaction(us_zip_code=10001, bank_transaction_description='Spotify Premium Monthly Subscription', product_description='Music Streaming Service', amount=9.99),\n",
              " BankTransaction(us_zip_code=92101, bank_transaction_description='Amazon Prime Annual Subscription', product_description='Membership & Streaming Services', amount=119.0),\n",
              " BankTransaction(us_zip_code=90015, bank_transaction_description='Adobe Creative Cloud Monthly Subscription', product_description='Creative Suite Services', amount=52.99),\n",
              " BankTransaction(us_zip_code=60601, bank_transaction_description='Apple Music Family Subscription', product_description='Music and Audio Streaming Service', amount=14.99),\n",
              " BankTransaction(us_zip_code=10036, bank_transaction_description='Netflix Standard Monthly Subscription', product_description='Video Streaming Service', amount=15.49),\n",
              " BankTransaction(us_zip_code=94107, bank_transaction_description='Spotify Premium Individual Plan', product_description='Music Streaming Service', amount=9.99),\n",
              " BankTransaction(us_zip_code=32801, bank_transaction_description='Hulu Basic Monthly Subscription', product_description='TV Streaming Service', amount=5.99),\n",
              " BankTransaction(us_zip_code=90015, bank_transaction_description='Amazon Prime Monthly Membership', product_description='Premium Shipping and Entertainment Service', amount=12.99),\n",
              " BankTransaction(us_zip_code=20001, bank_transaction_description='Adobe Creative Cloud Monthly Subscription', product_description='Graphic Design Software', amount=52.99),\n",
              " BankTransaction(us_zip_code=10001, bank_transaction_description='Netflix Standard Plan', product_description='Video Streaming Service', amount=15.49),\n",
              " BankTransaction(us_zip_code=94105, bank_transaction_description='Spotify Premium Subscription', product_description='Music Streaming Service', amount=9.99),\n",
              " BankTransaction(us_zip_code=60607, bank_transaction_description='Microsoft Office 365 Subscription', product_description='Office Productivity Suite', amount=9.99),\n",
              " BankTransaction(us_zip_code=90015, bank_transaction_description='Amazon Prime Membership', product_description='E-commerce Membership', amount=14.99),\n",
              " BankTransaction(us_zip_code=20001, bank_transaction_description='Adobe Creative Cloud Subscription', product_description='Creative Software Suite', amount=52.99),\n",
              " BankTransaction(us_zip_code=10001, bank_transaction_description='Netflix Standard Plan', product_description='Video Streaming Service', amount=15.49),\n",
              " BankTransaction(us_zip_code=94105, bank_transaction_description='Spotify Premium Subscription', product_description='Music Streaming Service', amount=9.99),\n",
              " BankTransaction(us_zip_code=33131, bank_transaction_description='Apple iCloud Storage Plan', product_description='Cloud Storage Service', amount=2.99),\n",
              " BankTransaction(us_zip_code=94016, bank_transaction_description='Amazon Prime Membership', product_description='E-commerce Membership', amount=14.99),\n",
              " BankTransaction(us_zip_code=90015, bank_transaction_description='Adobe Creative Cloud Subscription', product_description='Software Service', amount=52.99)]"
            ]
          },
          "metadata": {},
          "output_type": "display_data"
        }
      ],
      "source": [
        "synthetic_results = synthetic_data_generator.generate(\n",
        "    subject=\"Generate real bank transactions\",\n",
        "    extra=\"\"\"Choose real US ZIP codes for the us_zip_code. \n",
        "    Choose real company names and purchases or payments for the bank_transaction_description\"\"\",\n",
        "    runs=10,\n",
        ")\n",
        "display(synthetic_results)"
      ]
    },
    {
      "cell_type": "code",
      "execution_count": 44,
      "id": "022de4cf",
      "metadata": {},
      "outputs": [],
      "source": [
        "import pandas as pd\n",
        "df = pd.DataFrame(\n",
        "    [result.dict() for result in synthetic_results]\n",
        ")\n",
        "df.head()\n",
        "df.to_csv(\"./data/synthetic_bank_transactions.csv\", index=False)"
      ]
    },
    {
      "cell_type": "markdown",
      "id": "75f7f55a",
      "metadata": {
        "id": "75f7f55a"
      },
      "source": [
        "## Generating exemplary dataset for extraction benchmarking purposes"
      ]
    },
    {
      "cell_type": "code",
      "execution_count": null,
      "id": "94e98bc4",
      "metadata": {
        "id": "94e98bc4"
      },
      "outputs": [],
      "source": [
        "inp = [\n",
        "    {\n",
        "        \"Actor\": \"Tom Hanks\",\n",
        "        \"Film\": [\n",
        "            \"Forrest Gump\",\n",
        "            \"Saving Private Ryan\",\n",
        "            \"The Green Mile\",\n",
        "            \"Toy Story\",\n",
        "            \"Catch Me If You Can\",\n",
        "        ],\n",
        "    },\n",
        "    {\n",
        "        \"Actor\": \"Tom Hardy\",\n",
        "        \"Film\": [\n",
        "            \"Inception\",\n",
        "            \"The Dark Knight Rises\",\n",
        "            \"Mad Max: Fury Road\",\n",
        "            \"The Revenant\",\n",
        "            \"Dunkirk\",\n",
        "        ],\n",
        "    },\n",
        "]\n",
        "\n",
        "generator = DatasetGenerator(model, {\"style\": \"informal\", \"minimal length\": 500})\n",
        "dataset = generator(inp)"
      ]
    },
    {
      "cell_type": "code",
      "execution_count": null,
      "id": "478eaca4",
      "metadata": {
        "id": "478eaca4",
        "outputId": "0a5185f7-7b6c-4e23-a98d-5c97e79ae242"
      },
      "outputs": [
        {
          "data": {
            "text/plain": [
              "[{'fields': {'Actor': 'Tom Hanks',\n",
              "   'Film': ['Forrest Gump',\n",
              "    'Saving Private Ryan',\n",
              "    'The Green Mile',\n",
              "    'Toy Story',\n",
              "    'Catch Me If You Can']},\n",
              "  'preferences': {'style': 'informal', 'minimal length': 500},\n",
              "  'text': 'Tom Hanks, the versatile and charismatic actor, has graced the silver screen in numerous iconic films including the heartwarming and inspirational \"Forrest Gump,\" the intense and gripping war drama \"Saving Private Ryan,\" the emotionally charged and thought-provoking \"The Green Mile,\" the beloved animated classic \"Toy Story,\" and the thrilling and captivating true story adaptation \"Catch Me If You Can.\" With his impressive range and genuine talent, Hanks continues to captivate audiences worldwide, leaving an indelible mark on the world of cinema.'},\n",
              " {'fields': {'Actor': 'Tom Hardy',\n",
              "   'Film': ['Inception',\n",
              "    'The Dark Knight Rises',\n",
              "    'Mad Max: Fury Road',\n",
              "    'The Revenant',\n",
              "    'Dunkirk']},\n",
              "  'preferences': {'style': 'informal', 'minimal length': 500},\n",
              "  'text': 'Tom Hardy, the versatile actor known for his intense performances, has graced the silver screen in numerous iconic films, including \"Inception,\" \"The Dark Knight Rises,\" \"Mad Max: Fury Road,\" \"The Revenant,\" and \"Dunkirk.\" Whether he\\'s delving into the depths of the subconscious mind, donning the mask of the infamous Bane, or navigating the treacherous wasteland as the enigmatic Max Rockatansky, Hardy\\'s commitment to his craft is always evident. From his breathtaking portrayal of the ruthless Eames in \"Inception\" to his captivating transformation into the ferocious Max in \"Mad Max: Fury Road,\" Hardy\\'s dynamic range and magnetic presence captivate audiences and leave an indelible mark on the world of cinema. In his most physically demanding role to date, he endured the harsh conditions of the freezing wilderness as he portrayed the rugged frontiersman John Fitzgerald in \"The Revenant,\" earning him critical acclaim and an Academy Award nomination. In Christopher Nolan\\'s war epic \"Dunkirk,\" Hardy\\'s stoic and heroic portrayal of Royal Air Force pilot Farrier showcases his ability to convey deep emotion through nuanced performances. With his chameleon-like ability to inhabit a wide range of characters and his unwavering commitment to his craft, Tom Hardy has undoubtedly solidified his place as one of the most talented and sought-after actors of his generation.'}]"
            ]
          },
          "execution_count": 11,
          "metadata": {},
          "output_type": "execute_result"
        }
      ],
      "source": [
        "dataset"
      ]
    },
    {
      "cell_type": "markdown",
      "id": "293a7d64",
      "metadata": {
        "id": "293a7d64"
      },
      "source": [
        "## Extraction from generated examples\n",
        "Okay, let's see if we can now extract output from this generated data and how it compares with our case!"
      ]
    },
    {
      "cell_type": "code",
      "execution_count": null,
      "id": "03c6a375",
      "metadata": {
        "id": "03c6a375"
      },
      "outputs": [],
      "source": [
        "from typing import List\n",
        "\n",
        "from langchain.chains import create_extraction_chain_pydantic\n",
        "from langchain.output_parsers import PydanticOutputParser\n",
        "from langchain_core.prompts import PromptTemplate\n",
        "from langchain_openai import OpenAI\n",
        "from pydantic import BaseModel, Field"
      ]
    },
    {
      "cell_type": "code",
      "execution_count": null,
      "id": "9461d225",
      "metadata": {
        "id": "9461d225"
      },
      "outputs": [],
      "source": [
        "class Actor(BaseModel):\n",
        "    Actor: str = Field(description=\"name of an actor\")\n",
        "    Film: List[str] = Field(description=\"list of names of films they starred in\")"
      ]
    },
    {
      "cell_type": "markdown",
      "id": "8390171d",
      "metadata": {
        "id": "8390171d"
      },
      "source": [
        "### Parsers"
      ]
    },
    {
      "cell_type": "code",
      "execution_count": null,
      "id": "8a5528d2",
      "metadata": {
        "id": "8a5528d2",
        "outputId": "898083e5-fa8b-4222-fd0a-648500e078d8"
      },
      "outputs": [
        {
          "data": {
            "text/plain": [
              "Actor(Actor='Tom Hanks', Film=['Forrest Gump', 'Saving Private Ryan', 'The Green Mile', 'Toy Story', 'Catch Me If You Can'])"
            ]
          },
          "execution_count": 14,
          "metadata": {},
          "output_type": "execute_result"
        }
      ],
      "source": [
        "llm = OpenAI()\n",
        "parser = PydanticOutputParser(pydantic_object=Actor)\n",
        "\n",
        "prompt = PromptTemplate(\n",
        "    template=\"Extract fields from a given text.\\n{format_instructions}\\n{text}\\n\",\n",
        "    input_variables=[\"text\"],\n",
        "    partial_variables={\"format_instructions\": parser.get_format_instructions()},\n",
        ")\n",
        "\n",
        "_input = prompt.format_prompt(text=dataset[0][\"text\"])\n",
        "output = llm.invoke(_input.to_string())\n",
        "\n",
        "parsed = parser.parse(output)\n",
        "parsed"
      ]
    },
    {
      "cell_type": "code",
      "execution_count": null,
      "id": "926a7eed",
      "metadata": {
        "id": "926a7eed",
        "outputId": "03f0b32e-c138-4e20-bcb6-313ab89376e5"
      },
      "outputs": [
        {
          "data": {
            "text/plain": [
              "True"
            ]
          },
          "execution_count": 15,
          "metadata": {},
          "output_type": "execute_result"
        }
      ],
      "source": [
        "(parsed.Actor == inp[0][\"Actor\"]) & (parsed.Film == inp[0][\"Film\"])"
      ]
    },
    {
      "cell_type": "markdown",
      "id": "b00f0b87",
      "metadata": {
        "id": "b00f0b87"
      },
      "source": [
        "### Extractors"
      ]
    },
    {
      "cell_type": "code",
      "execution_count": null,
      "id": "523bb584",
      "metadata": {
        "id": "523bb584",
        "outputId": "7a6bec0f-e784-456b-a094-54dea3327a9b"
      },
      "outputs": [
        {
          "data": {
            "text/plain": [
              "[Actor(Actor='Tom Hardy', Film=['Inception', 'The Dark Knight Rises', 'Mad Max: Fury Road', 'The Revenant', 'Dunkirk'])]"
            ]
          },
          "execution_count": 16,
          "metadata": {},
          "output_type": "execute_result"
        }
      ],
      "source": [
        "extractor = create_extraction_chain_pydantic(pydantic_schema=Actor, llm=model)\n",
        "extracted = extractor.run(dataset[1][\"text\"])\n",
        "extracted"
      ]
    },
    {
      "cell_type": "code",
      "execution_count": null,
      "id": "f8451c2b",
      "metadata": {
        "id": "f8451c2b",
        "outputId": "d42ad1d9-953b-4439-e590-2bb291fe1eab"
      },
      "outputs": [
        {
          "data": {
            "text/plain": [
              "True"
            ]
          },
          "execution_count": 17,
          "metadata": {},
          "output_type": "execute_result"
        }
      ],
      "source": [
        "(extracted[0].Actor == inp[1][\"Actor\"]) & (extracted[0].Film == inp[1][\"Film\"])"
      ]
    },
    {
      "cell_type": "code",
      "execution_count": null,
      "id": "0b03de4d",
      "metadata": {
        "id": "0b03de4d"
      },
      "outputs": [],
      "source": []
    }
  ],
  "metadata": {
    "colab": {
      "provenance": []
    },
    "kernelspec": {
      "display_name": "Python 3 (ipykernel)",
      "language": "python",
      "name": "python3"
    },
    "language_info": {
      "codemirror_mode": {
        "name": "ipython",
        "version": 3
      },
      "file_extension": ".py",
      "mimetype": "text/x-python",
      "name": "python",
      "nbconvert_exporter": "python",
      "pygments_lexer": "ipython3",
      "version": "3.10.11"
    }
  },
  "nbformat": 4,
  "nbformat_minor": 5
}
